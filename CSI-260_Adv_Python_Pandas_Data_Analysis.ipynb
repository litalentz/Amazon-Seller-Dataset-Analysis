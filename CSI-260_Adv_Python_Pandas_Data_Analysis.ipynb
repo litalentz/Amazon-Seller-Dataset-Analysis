{
  "nbformat": 4,
  "nbformat_minor": 0,
  "metadata": {
    "colab": {
      "provenance": [],
      "authorship_tag": "ABX9TyM9B+JerdpIz9Bue5sdt8i3",
      "include_colab_link": true
    },
    "kernelspec": {
      "name": "python3",
      "display_name": "Python 3"
    },
    "language_info": {
      "name": "python"
    }
  },
  "cells": [
    {
      "cell_type": "markdown",
      "metadata": {
        "id": "view-in-github",
        "colab_type": "text"
      },
      "source": [
        "<a href=\"https://colab.research.google.com/github/litalentz/Amazon-Seller-Dataset-Analysis/blob/main/CSI-260_Adv_Python_Pandas_Data_Analysis.ipynb\" target=\"_parent\"><img src=\"https://colab.research.google.com/assets/colab-badge.svg\" alt=\"Open In Colab\"/></a>"
      ]
    },
    {
      "cell_type": "markdown",
      "source": [
        "Final Project: Pandas Data Analysis for Ann Clark Amazon Data Sheet\n",
        "\n",
        "Author: Amelita Lentz\n",
        "Class: CSI-260-02\n",
        "Assignment: Final Project\n",
        "Due Date: Dec. 12, 2022 11:59 PM\n",
        "\n",
        "Certification of Authenticity:\n",
        "I certify that this is entirely my own work, except where I have given\n",
        "fully-documented references to the work of others. I understand the definition\n",
        "and consequences of plagiarism and acknowledge that the assessor of this\n",
        "assignment may, for the purpose of assessing this assignment:\n",
        "- Reproduce this assignment and provide a copy to another member of academic\n",
        "- staff; and/or Communicate a copy of this assignment to a plagiarism checking\n",
        "- service (which may then retain a copy of this assignment on its database for\n",
        "- the purpose of future plagiarism checking)"
      ],
      "metadata": {
        "id": "Kh9j3Rv14ogm"
      }
    },
    {
      "cell_type": "code",
      "source": [
        "import pandas as pd\n",
        "import numpy as np\n",
        "import matplotlib.pyplot as plt\n",
        "import plotly.express as px\n",
        "import plotly.graph_objects as go\n",
        "\n",
        "from google.colab import drive\n",
        "drive.mount('/content/drive')\n",
        "data = pd.read_excel(r'/content/drive/MyDrive/CSI-260 Advanced Python/BusinessReport.xlsx')\n"
      ],
      "metadata": {
        "id": "BwznYxGJ48uG"
      },
      "execution_count": null,
      "outputs": []
    },
    {
      "cell_type": "markdown",
      "source": [
        "I am using a dataset encompassing Amazon seller data over a year long period from the company Ann Clark's Cookie Cutters.\n",
        "\n",
        "Lets give you an idea of what this data includes.\n",
        "\n",
        "First, what the data file looks like, specifically the titles and what type of data they hold, and any null values."
      ],
      "metadata": {
        "id": "oQXM9hFo6ZyX"
      }
    },
    {
      "cell_type": "code",
      "source": [
        "data.head()"
      ],
      "metadata": {
        "id": "Wi5UD58mIYeE",
        "colab": {
          "base_uri": "https://localhost:8080/",
          "height": 600
        },
        "outputId": "89dc8c7e-769a-4636-bb40-72fa28823176"
      },
      "execution_count": null,
      "outputs": [
        {
          "output_type": "execute_result",
          "data": {
            "text/plain": [
              "                                               Title  SessionsTotal  \\\n",
              "0  Professional-Grade Food Coloring Gel Made in U...         236799   \n",
              "1  Happy Gingerbread Man Cookie Cutter, Large 5.25\"           33158   \n",
              "2                    Easter Bunny Cookie Cutter, 4\"           32081   \n",
              "3  St. Patrick's Day Irish Shamrock Cookie Cutter...          23566   \n",
              "4  9-Piece Numbers Cookie Cutter Set Birthday Num...          51167   \n",
              "\n",
              "   SessionsTotalB2B  SessionPercentageTotal  SessionPercentageTotalB2B  \\\n",
              "0              2037                  0.0533                     0.1331   \n",
              "1               108                  0.0075                     0.0071   \n",
              "2                 1                  0.0072                     0.0001   \n",
              "3                 9                  0.0053                     0.0006   \n",
              "4               160                  0.0115                     0.0105   \n",
              "\n",
              "   PageViewsTotal  PageViewsTotalB2B  PageViewsPercentageTotal  \\\n",
              "0          340696               2778                    0.0542   \n",
              "1           62598                127                    0.0100   \n",
              "2           43576                  1                    0.0069   \n",
              "3           31654                 19                    0.0050   \n",
              "4           74440                247                    0.0118   \n",
              "\n",
              "   PageViewsPercentageTotalB2B  FeaturedOfferBuyBoxPercentage  \\\n",
              "0                       0.1398                         0.9861   \n",
              "1                       0.0064                         0.7286   \n",
              "2                       0.0001                         0.9910   \n",
              "3                       0.0010                         0.9873   \n",
              "4                       0.0124                         0.9641   \n",
              "\n",
              "   FeaturedOfferBuyBoxPercentageB2B  UnitsOrdered  UnitsOrderedB2B  \\\n",
              "0                            0.9942         35567              972   \n",
              "1                            0.9685         10015              201   \n",
              "2                            0.0000          9061              138   \n",
              "3                            0.8947          8985              192   \n",
              "4                            0.9636          8342              151   \n",
              "\n",
              "   UnitSessionPercentage  UnitSessionPercentageB2B  OrderedProductSales  \\\n",
              "0                 0.1502                         0            792483.74   \n",
              "1                 0.3020                         0             69707.15   \n",
              "2                 0.2824                         0             61811.51   \n",
              "3                 0.3813                         0             62509.58   \n",
              "4                 0.1630                         0            129755.61   \n",
              "\n",
              "   OrderedProductSalesB2B  TotalOrderItems  TotalOrderItemsB2B  \n",
              "0                21958.71            35003                 868  \n",
              "1                 1238.99             9332                 161  \n",
              "2                  807.86             8783                 126  \n",
              "3                 1130.50             8726                 158  \n",
              "4                 2261.34             8305                 147  "
            ],
            "text/html": [
              "\n",
              "  <div id=\"df-58543d12-df31-4b42-b3da-38720088339b\">\n",
              "    <div class=\"colab-df-container\">\n",
              "      <div>\n",
              "<style scoped>\n",
              "    .dataframe tbody tr th:only-of-type {\n",
              "        vertical-align: middle;\n",
              "    }\n",
              "\n",
              "    .dataframe tbody tr th {\n",
              "        vertical-align: top;\n",
              "    }\n",
              "\n",
              "    .dataframe thead th {\n",
              "        text-align: right;\n",
              "    }\n",
              "</style>\n",
              "<table border=\"1\" class=\"dataframe\">\n",
              "  <thead>\n",
              "    <tr style=\"text-align: right;\">\n",
              "      <th></th>\n",
              "      <th>Title</th>\n",
              "      <th>SessionsTotal</th>\n",
              "      <th>SessionsTotalB2B</th>\n",
              "      <th>SessionPercentageTotal</th>\n",
              "      <th>SessionPercentageTotalB2B</th>\n",
              "      <th>PageViewsTotal</th>\n",
              "      <th>PageViewsTotalB2B</th>\n",
              "      <th>PageViewsPercentageTotal</th>\n",
              "      <th>PageViewsPercentageTotalB2B</th>\n",
              "      <th>FeaturedOfferBuyBoxPercentage</th>\n",
              "      <th>FeaturedOfferBuyBoxPercentageB2B</th>\n",
              "      <th>UnitsOrdered</th>\n",
              "      <th>UnitsOrderedB2B</th>\n",
              "      <th>UnitSessionPercentage</th>\n",
              "      <th>UnitSessionPercentageB2B</th>\n",
              "      <th>OrderedProductSales</th>\n",
              "      <th>OrderedProductSalesB2B</th>\n",
              "      <th>TotalOrderItems</th>\n",
              "      <th>TotalOrderItemsB2B</th>\n",
              "    </tr>\n",
              "  </thead>\n",
              "  <tbody>\n",
              "    <tr>\n",
              "      <th>0</th>\n",
              "      <td>Professional-Grade Food Coloring Gel Made in U...</td>\n",
              "      <td>236799</td>\n",
              "      <td>2037</td>\n",
              "      <td>0.0533</td>\n",
              "      <td>0.1331</td>\n",
              "      <td>340696</td>\n",
              "      <td>2778</td>\n",
              "      <td>0.0542</td>\n",
              "      <td>0.1398</td>\n",
              "      <td>0.9861</td>\n",
              "      <td>0.9942</td>\n",
              "      <td>35567</td>\n",
              "      <td>972</td>\n",
              "      <td>0.1502</td>\n",
              "      <td>0</td>\n",
              "      <td>792483.74</td>\n",
              "      <td>21958.71</td>\n",
              "      <td>35003</td>\n",
              "      <td>868</td>\n",
              "    </tr>\n",
              "    <tr>\n",
              "      <th>1</th>\n",
              "      <td>Happy Gingerbread Man Cookie Cutter, Large 5.25\"</td>\n",
              "      <td>33158</td>\n",
              "      <td>108</td>\n",
              "      <td>0.0075</td>\n",
              "      <td>0.0071</td>\n",
              "      <td>62598</td>\n",
              "      <td>127</td>\n",
              "      <td>0.0100</td>\n",
              "      <td>0.0064</td>\n",
              "      <td>0.7286</td>\n",
              "      <td>0.9685</td>\n",
              "      <td>10015</td>\n",
              "      <td>201</td>\n",
              "      <td>0.3020</td>\n",
              "      <td>0</td>\n",
              "      <td>69707.15</td>\n",
              "      <td>1238.99</td>\n",
              "      <td>9332</td>\n",
              "      <td>161</td>\n",
              "    </tr>\n",
              "    <tr>\n",
              "      <th>2</th>\n",
              "      <td>Easter Bunny Cookie Cutter, 4\"</td>\n",
              "      <td>32081</td>\n",
              "      <td>1</td>\n",
              "      <td>0.0072</td>\n",
              "      <td>0.0001</td>\n",
              "      <td>43576</td>\n",
              "      <td>1</td>\n",
              "      <td>0.0069</td>\n",
              "      <td>0.0001</td>\n",
              "      <td>0.9910</td>\n",
              "      <td>0.0000</td>\n",
              "      <td>9061</td>\n",
              "      <td>138</td>\n",
              "      <td>0.2824</td>\n",
              "      <td>0</td>\n",
              "      <td>61811.51</td>\n",
              "      <td>807.86</td>\n",
              "      <td>8783</td>\n",
              "      <td>126</td>\n",
              "    </tr>\n",
              "    <tr>\n",
              "      <th>3</th>\n",
              "      <td>St. Patrick's Day Irish Shamrock Cookie Cutter...</td>\n",
              "      <td>23566</td>\n",
              "      <td>9</td>\n",
              "      <td>0.0053</td>\n",
              "      <td>0.0006</td>\n",
              "      <td>31654</td>\n",
              "      <td>19</td>\n",
              "      <td>0.0050</td>\n",
              "      <td>0.0010</td>\n",
              "      <td>0.9873</td>\n",
              "      <td>0.8947</td>\n",
              "      <td>8985</td>\n",
              "      <td>192</td>\n",
              "      <td>0.3813</td>\n",
              "      <td>0</td>\n",
              "      <td>62509.58</td>\n",
              "      <td>1130.50</td>\n",
              "      <td>8726</td>\n",
              "      <td>158</td>\n",
              "    </tr>\n",
              "    <tr>\n",
              "      <th>4</th>\n",
              "      <td>9-Piece Numbers Cookie Cutter Set Birthday Num...</td>\n",
              "      <td>51167</td>\n",
              "      <td>160</td>\n",
              "      <td>0.0115</td>\n",
              "      <td>0.0105</td>\n",
              "      <td>74440</td>\n",
              "      <td>247</td>\n",
              "      <td>0.0118</td>\n",
              "      <td>0.0124</td>\n",
              "      <td>0.9641</td>\n",
              "      <td>0.9636</td>\n",
              "      <td>8342</td>\n",
              "      <td>151</td>\n",
              "      <td>0.1630</td>\n",
              "      <td>0</td>\n",
              "      <td>129755.61</td>\n",
              "      <td>2261.34</td>\n",
              "      <td>8305</td>\n",
              "      <td>147</td>\n",
              "    </tr>\n",
              "  </tbody>\n",
              "</table>\n",
              "</div>\n",
              "      <button class=\"colab-df-convert\" onclick=\"convertToInteractive('df-58543d12-df31-4b42-b3da-38720088339b')\"\n",
              "              title=\"Convert this dataframe to an interactive table.\"\n",
              "              style=\"display:none;\">\n",
              "        \n",
              "  <svg xmlns=\"http://www.w3.org/2000/svg\" height=\"24px\"viewBox=\"0 0 24 24\"\n",
              "       width=\"24px\">\n",
              "    <path d=\"M0 0h24v24H0V0z\" fill=\"none\"/>\n",
              "    <path d=\"M18.56 5.44l.94 2.06.94-2.06 2.06-.94-2.06-.94-.94-2.06-.94 2.06-2.06.94zm-11 1L8.5 8.5l.94-2.06 2.06-.94-2.06-.94L8.5 2.5l-.94 2.06-2.06.94zm10 10l.94 2.06.94-2.06 2.06-.94-2.06-.94-.94-2.06-.94 2.06-2.06.94z\"/><path d=\"M17.41 7.96l-1.37-1.37c-.4-.4-.92-.59-1.43-.59-.52 0-1.04.2-1.43.59L10.3 9.45l-7.72 7.72c-.78.78-.78 2.05 0 2.83L4 21.41c.39.39.9.59 1.41.59.51 0 1.02-.2 1.41-.59l7.78-7.78 2.81-2.81c.8-.78.8-2.07 0-2.86zM5.41 20L4 18.59l7.72-7.72 1.47 1.35L5.41 20z\"/>\n",
              "  </svg>\n",
              "      </button>\n",
              "      \n",
              "  <style>\n",
              "    .colab-df-container {\n",
              "      display:flex;\n",
              "      flex-wrap:wrap;\n",
              "      gap: 12px;\n",
              "    }\n",
              "\n",
              "    .colab-df-convert {\n",
              "      background-color: #E8F0FE;\n",
              "      border: none;\n",
              "      border-radius: 50%;\n",
              "      cursor: pointer;\n",
              "      display: none;\n",
              "      fill: #1967D2;\n",
              "      height: 32px;\n",
              "      padding: 0 0 0 0;\n",
              "      width: 32px;\n",
              "    }\n",
              "\n",
              "    .colab-df-convert:hover {\n",
              "      background-color: #E2EBFA;\n",
              "      box-shadow: 0px 1px 2px rgba(60, 64, 67, 0.3), 0px 1px 3px 1px rgba(60, 64, 67, 0.15);\n",
              "      fill: #174EA6;\n",
              "    }\n",
              "\n",
              "    [theme=dark] .colab-df-convert {\n",
              "      background-color: #3B4455;\n",
              "      fill: #D2E3FC;\n",
              "    }\n",
              "\n",
              "    [theme=dark] .colab-df-convert:hover {\n",
              "      background-color: #434B5C;\n",
              "      box-shadow: 0px 1px 3px 1px rgba(0, 0, 0, 0.15);\n",
              "      filter: drop-shadow(0px 1px 2px rgba(0, 0, 0, 0.3));\n",
              "      fill: #FFFFFF;\n",
              "    }\n",
              "  </style>\n",
              "\n",
              "      <script>\n",
              "        const buttonEl =\n",
              "          document.querySelector('#df-58543d12-df31-4b42-b3da-38720088339b button.colab-df-convert');\n",
              "        buttonEl.style.display =\n",
              "          google.colab.kernel.accessAllowed ? 'block' : 'none';\n",
              "\n",
              "        async function convertToInteractive(key) {\n",
              "          const element = document.querySelector('#df-58543d12-df31-4b42-b3da-38720088339b');\n",
              "          const dataTable =\n",
              "            await google.colab.kernel.invokeFunction('convertToInteractive',\n",
              "                                                     [key], {});\n",
              "          if (!dataTable) return;\n",
              "\n",
              "          const docLinkHtml = 'Like what you see? Visit the ' +\n",
              "            '<a target=\"_blank\" href=https://colab.research.google.com/notebooks/data_table.ipynb>data table notebook</a>'\n",
              "            + ' to learn more about interactive tables.';\n",
              "          element.innerHTML = '';\n",
              "          dataTable['output_type'] = 'display_data';\n",
              "          await google.colab.output.renderOutput(dataTable, element);\n",
              "          const docLink = document.createElement('div');\n",
              "          docLink.innerHTML = docLinkHtml;\n",
              "          element.appendChild(docLink);\n",
              "        }\n",
              "      </script>\n",
              "    </div>\n",
              "  </div>\n",
              "  "
            ]
          },
          "metadata": {},
          "execution_count": 66
        }
      ]
    },
    {
      "cell_type": "code",
      "source": [
        "data.info()"
      ],
      "metadata": {
        "colab": {
          "base_uri": "https://localhost:8080/"
        },
        "id": "OR1ahHGY7y5s",
        "outputId": "8c9b75c7-4537-40de-db86-88f11ffd69a6"
      },
      "execution_count": null,
      "outputs": [
        {
          "output_type": "stream",
          "name": "stdout",
          "text": [
            "<class 'pandas.core.frame.DataFrame'>\n",
            "RangeIndex: 780 entries, 0 to 779\n",
            "Data columns (total 19 columns):\n",
            " #   Column                            Non-Null Count  Dtype  \n",
            "---  ------                            --------------  -----  \n",
            " 0   Title                             780 non-null    object \n",
            " 1   SessionsTotal                     780 non-null    int64  \n",
            " 2   SessionsTotalB2B                  780 non-null    int64  \n",
            " 3   SessionPercentageTotal            780 non-null    float64\n",
            " 4   SessionPercentageTotalB2B         780 non-null    float64\n",
            " 5   PageViewsTotal                    780 non-null    int64  \n",
            " 6   PageViewsTotalB2B                 780 non-null    int64  \n",
            " 7   PageViewsPercentageTotal          780 non-null    float64\n",
            " 8   PageViewsPercentageTotalB2B       780 non-null    float64\n",
            " 9   FeaturedOfferBuyBoxPercentage     780 non-null    float64\n",
            " 10  FeaturedOfferBuyBoxPercentageB2B  780 non-null    float64\n",
            " 11  UnitsOrdered                      780 non-null    int64  \n",
            " 12  UnitsOrderedB2B                   780 non-null    int64  \n",
            " 13  UnitSessionPercentage             780 non-null    float64\n",
            " 14  UnitSessionPercentageB2B          780 non-null    int64  \n",
            " 15  OrderedProductSales               780 non-null    float64\n",
            " 16  OrderedProductSalesB2B            780 non-null    float64\n",
            " 17  TotalOrderItems                   780 non-null    int64  \n",
            " 18  TotalOrderItemsB2B                780 non-null    int64  \n",
            "dtypes: float64(9), int64(9), object(1)\n",
            "memory usage: 115.9+ KB\n"
          ]
        }
      ]
    },
    {
      "cell_type": "markdown",
      "source": [
        "Note: The column titles are all in camel case to make coding with them easier.\n",
        "\n",
        "○ Title refers to the name of the product, ex. Pumpkin Cookie Cutter\n",
        "\n",
        "○ Units Ordered is the number of units purchased whereas Total Order Items is the number of orders places.\n",
        "\n",
        "○ B2B means business to business\n",
        "\n",
        "○ The Featured Offer (Buy Box) is a coveted Amazon spot that essentially helps sell your product. The percentage is calculated as the total page views in which you are the Featured Offer divided by the total page views received by products you list.\n"
      ],
      "metadata": {
        "id": "ZHUhkUS58AMP"
      }
    },
    {
      "cell_type": "code",
      "source": [
        "print(data.isnull().sum())"
      ],
      "metadata": {
        "colab": {
          "base_uri": "https://localhost:8080/"
        },
        "id": "Mf_R1pZF50Xg",
        "outputId": "64aac537-bae4-48e3-850b-f8f52f40d5cd"
      },
      "execution_count": null,
      "outputs": [
        {
          "output_type": "stream",
          "name": "stdout",
          "text": [
            "Title                               0\n",
            "SessionsTotal                       0\n",
            "SessionsTotalB2B                    0\n",
            "SessionPercentageTotal              0\n",
            "SessionPercentageTotalB2B           0\n",
            "PageViewsTotal                      0\n",
            "PageViewsTotalB2B                   0\n",
            "PageViewsPercentageTotal            0\n",
            "PageViewsPercentageTotalB2B         0\n",
            "FeaturedOfferBuyBoxPercentage       0\n",
            "FeaturedOfferBuyBoxPercentageB2B    0\n",
            "UnitsOrdered                        0\n",
            "UnitsOrderedB2B                     0\n",
            "UnitSessionPercentage               0\n",
            "UnitSessionPercentageB2B            0\n",
            "OrderedProductSales                 0\n",
            "OrderedProductSalesB2B              0\n",
            "TotalOrderItems                     0\n",
            "TotalOrderItemsB2B                  0\n",
            "dtype: int64\n"
          ]
        }
      ]
    },
    {
      "cell_type": "markdown",
      "source": [
        "There are none! The dataset was decently complete when I received it, I did a little bit of further touch-ups in excel."
      ],
      "metadata": {
        "id": "_NtUVQzL7EaF"
      }
    },
    {
      "cell_type": "markdown",
      "source": [
        "Now that you have a basic knowledge of what kind of data we're looking at, lets delve into the summary statistics."
      ],
      "metadata": {
        "id": "wpXNuBbZCEAx"
      }
    },
    {
      "cell_type": "code",
      "source": [
        "data.describe()"
      ],
      "metadata": {
        "colab": {
          "base_uri": "https://localhost:8080/",
          "height": 296
        },
        "id": "4tlmJ95NBmvY",
        "outputId": "1da4483c-7b4c-4977-cc34-9f9a22b6090b"
      },
      "execution_count": null,
      "outputs": [
        {
          "output_type": "execute_result",
          "data": {
            "text/plain": [
              "       SessionsTotal  SessionsTotalB2B  SessionPercentageTotal  \\\n",
              "count     780.000000        780.000000              780.000000   \n",
              "mean     5688.756410         19.612821                0.001281   \n",
              "std     10622.406687         79.044089                0.002392   \n",
              "min         3.000000          0.000000                0.000000   \n",
              "25%      1323.750000          2.000000                0.000300   \n",
              "50%      3186.500000          7.000000                0.000700   \n",
              "75%      6772.500000         18.000000                0.001500   \n",
              "max    236799.000000       2037.000000                0.053300   \n",
              "\n",
              "       SessionPercentageTotalB2B  PageViewsTotal  PageViewsTotalB2B  \\\n",
              "count                 780.000000      780.000000         780.000000   \n",
              "mean                    0.001286     8057.538462          25.470513   \n",
              "std                     0.005165    15535.346083         107.130685   \n",
              "min                     0.000000        5.000000           0.000000   \n",
              "25%                     0.000100     1698.250000           2.000000   \n",
              "50%                     0.000500     4280.500000          10.000000   \n",
              "75%                     0.001200     9255.000000          23.000000   \n",
              "max                     0.133100   340696.000000        2778.000000   \n",
              "\n",
              "       PageViewsPercentageTotal  PageViewsPercentageTotalB2B  \\\n",
              "count                780.000000                   780.000000   \n",
              "mean                   0.001282                     0.001297   \n",
              "std                    0.002471                     0.005389   \n",
              "min                    0.000000                     0.000000   \n",
              "25%                    0.000300                     0.000100   \n",
              "50%                    0.000700                     0.000500   \n",
              "75%                    0.001500                     0.001200   \n",
              "max                    0.054200                     0.139800   \n",
              "\n",
              "       FeaturedOfferBuyBoxPercentage  FeaturedOfferBuyBoxPercentageB2B  \\\n",
              "count                     780.000000                        780.000000   \n",
              "mean                        0.961820                          0.799426   \n",
              "std                         0.059086                          0.375789   \n",
              "min                         0.647300                          0.000000   \n",
              "25%                         0.962275                          0.909100   \n",
              "50%                         0.987600                          1.000000   \n",
              "75%                         0.993400                          1.000000   \n",
              "max                         1.000000                          1.000000   \n",
              "\n",
              "       UnitsOrdered  UnitsOrderedB2B  UnitSessionPercentage  \\\n",
              "count    780.000000       780.000000             780.000000   \n",
              "mean    1109.661538        23.756410               0.191905   \n",
              "std     1777.189828        44.261385               0.074326   \n",
              "min        1.000000         0.000000               0.000100   \n",
              "25%      230.000000         4.000000               0.139350   \n",
              "50%      643.500000        14.000000               0.196250   \n",
              "75%     1406.750000        31.000000               0.246300   \n",
              "max    35567.000000       972.000000               0.381300   \n",
              "\n",
              "       UnitSessionPercentageB2B  OrderedProductSales  OrderedProductSalesB2B  \\\n",
              "count                     780.0           780.000000              780.000000   \n",
              "mean                        0.0         10720.546282              222.084295   \n",
              "std                         0.0         30776.337555              829.130622   \n",
              "min                         0.0             6.990000                0.000000   \n",
              "25%                         0.0          1885.735000               29.980000   \n",
              "50%                         0.0          5148.715000              107.305000   \n",
              "75%                         0.0         11933.255000              239.007500   \n",
              "max                         0.0        792483.740000            21958.710000   \n",
              "\n",
              "       TotalOrderItems  TotalOrderItemsB2B  \n",
              "count       780.000000          780.000000  \n",
              "mean       1081.102564           20.480769  \n",
              "std        1737.580155           37.964187  \n",
              "min           1.000000            0.000000  \n",
              "25%         221.750000            3.000000  \n",
              "50%         627.500000           12.000000  \n",
              "75%        1395.000000           27.000000  \n",
              "max       35003.000000          868.000000  "
            ],
            "text/html": [
              "\n",
              "  <div id=\"df-86a46a92-a903-4eb5-bd8d-4f1d5c3d3957\">\n",
              "    <div class=\"colab-df-container\">\n",
              "      <div>\n",
              "<style scoped>\n",
              "    .dataframe tbody tr th:only-of-type {\n",
              "        vertical-align: middle;\n",
              "    }\n",
              "\n",
              "    .dataframe tbody tr th {\n",
              "        vertical-align: top;\n",
              "    }\n",
              "\n",
              "    .dataframe thead th {\n",
              "        text-align: right;\n",
              "    }\n",
              "</style>\n",
              "<table border=\"1\" class=\"dataframe\">\n",
              "  <thead>\n",
              "    <tr style=\"text-align: right;\">\n",
              "      <th></th>\n",
              "      <th>SessionsTotal</th>\n",
              "      <th>SessionsTotalB2B</th>\n",
              "      <th>SessionPercentageTotal</th>\n",
              "      <th>SessionPercentageTotalB2B</th>\n",
              "      <th>PageViewsTotal</th>\n",
              "      <th>PageViewsTotalB2B</th>\n",
              "      <th>PageViewsPercentageTotal</th>\n",
              "      <th>PageViewsPercentageTotalB2B</th>\n",
              "      <th>FeaturedOfferBuyBoxPercentage</th>\n",
              "      <th>FeaturedOfferBuyBoxPercentageB2B</th>\n",
              "      <th>UnitsOrdered</th>\n",
              "      <th>UnitsOrderedB2B</th>\n",
              "      <th>UnitSessionPercentage</th>\n",
              "      <th>UnitSessionPercentageB2B</th>\n",
              "      <th>OrderedProductSales</th>\n",
              "      <th>OrderedProductSalesB2B</th>\n",
              "      <th>TotalOrderItems</th>\n",
              "      <th>TotalOrderItemsB2B</th>\n",
              "    </tr>\n",
              "  </thead>\n",
              "  <tbody>\n",
              "    <tr>\n",
              "      <th>count</th>\n",
              "      <td>780.000000</td>\n",
              "      <td>780.000000</td>\n",
              "      <td>780.000000</td>\n",
              "      <td>780.000000</td>\n",
              "      <td>780.000000</td>\n",
              "      <td>780.000000</td>\n",
              "      <td>780.000000</td>\n",
              "      <td>780.000000</td>\n",
              "      <td>780.000000</td>\n",
              "      <td>780.000000</td>\n",
              "      <td>780.000000</td>\n",
              "      <td>780.000000</td>\n",
              "      <td>780.000000</td>\n",
              "      <td>780.0</td>\n",
              "      <td>780.000000</td>\n",
              "      <td>780.000000</td>\n",
              "      <td>780.000000</td>\n",
              "      <td>780.000000</td>\n",
              "    </tr>\n",
              "    <tr>\n",
              "      <th>mean</th>\n",
              "      <td>5688.756410</td>\n",
              "      <td>19.612821</td>\n",
              "      <td>0.001281</td>\n",
              "      <td>0.001286</td>\n",
              "      <td>8057.538462</td>\n",
              "      <td>25.470513</td>\n",
              "      <td>0.001282</td>\n",
              "      <td>0.001297</td>\n",
              "      <td>0.961820</td>\n",
              "      <td>0.799426</td>\n",
              "      <td>1109.661538</td>\n",
              "      <td>23.756410</td>\n",
              "      <td>0.191905</td>\n",
              "      <td>0.0</td>\n",
              "      <td>10720.546282</td>\n",
              "      <td>222.084295</td>\n",
              "      <td>1081.102564</td>\n",
              "      <td>20.480769</td>\n",
              "    </tr>\n",
              "    <tr>\n",
              "      <th>std</th>\n",
              "      <td>10622.406687</td>\n",
              "      <td>79.044089</td>\n",
              "      <td>0.002392</td>\n",
              "      <td>0.005165</td>\n",
              "      <td>15535.346083</td>\n",
              "      <td>107.130685</td>\n",
              "      <td>0.002471</td>\n",
              "      <td>0.005389</td>\n",
              "      <td>0.059086</td>\n",
              "      <td>0.375789</td>\n",
              "      <td>1777.189828</td>\n",
              "      <td>44.261385</td>\n",
              "      <td>0.074326</td>\n",
              "      <td>0.0</td>\n",
              "      <td>30776.337555</td>\n",
              "      <td>829.130622</td>\n",
              "      <td>1737.580155</td>\n",
              "      <td>37.964187</td>\n",
              "    </tr>\n",
              "    <tr>\n",
              "      <th>min</th>\n",
              "      <td>3.000000</td>\n",
              "      <td>0.000000</td>\n",
              "      <td>0.000000</td>\n",
              "      <td>0.000000</td>\n",
              "      <td>5.000000</td>\n",
              "      <td>0.000000</td>\n",
              "      <td>0.000000</td>\n",
              "      <td>0.000000</td>\n",
              "      <td>0.647300</td>\n",
              "      <td>0.000000</td>\n",
              "      <td>1.000000</td>\n",
              "      <td>0.000000</td>\n",
              "      <td>0.000100</td>\n",
              "      <td>0.0</td>\n",
              "      <td>6.990000</td>\n",
              "      <td>0.000000</td>\n",
              "      <td>1.000000</td>\n",
              "      <td>0.000000</td>\n",
              "    </tr>\n",
              "    <tr>\n",
              "      <th>25%</th>\n",
              "      <td>1323.750000</td>\n",
              "      <td>2.000000</td>\n",
              "      <td>0.000300</td>\n",
              "      <td>0.000100</td>\n",
              "      <td>1698.250000</td>\n",
              "      <td>2.000000</td>\n",
              "      <td>0.000300</td>\n",
              "      <td>0.000100</td>\n",
              "      <td>0.962275</td>\n",
              "      <td>0.909100</td>\n",
              "      <td>230.000000</td>\n",
              "      <td>4.000000</td>\n",
              "      <td>0.139350</td>\n",
              "      <td>0.0</td>\n",
              "      <td>1885.735000</td>\n",
              "      <td>29.980000</td>\n",
              "      <td>221.750000</td>\n",
              "      <td>3.000000</td>\n",
              "    </tr>\n",
              "    <tr>\n",
              "      <th>50%</th>\n",
              "      <td>3186.500000</td>\n",
              "      <td>7.000000</td>\n",
              "      <td>0.000700</td>\n",
              "      <td>0.000500</td>\n",
              "      <td>4280.500000</td>\n",
              "      <td>10.000000</td>\n",
              "      <td>0.000700</td>\n",
              "      <td>0.000500</td>\n",
              "      <td>0.987600</td>\n",
              "      <td>1.000000</td>\n",
              "      <td>643.500000</td>\n",
              "      <td>14.000000</td>\n",
              "      <td>0.196250</td>\n",
              "      <td>0.0</td>\n",
              "      <td>5148.715000</td>\n",
              "      <td>107.305000</td>\n",
              "      <td>627.500000</td>\n",
              "      <td>12.000000</td>\n",
              "    </tr>\n",
              "    <tr>\n",
              "      <th>75%</th>\n",
              "      <td>6772.500000</td>\n",
              "      <td>18.000000</td>\n",
              "      <td>0.001500</td>\n",
              "      <td>0.001200</td>\n",
              "      <td>9255.000000</td>\n",
              "      <td>23.000000</td>\n",
              "      <td>0.001500</td>\n",
              "      <td>0.001200</td>\n",
              "      <td>0.993400</td>\n",
              "      <td>1.000000</td>\n",
              "      <td>1406.750000</td>\n",
              "      <td>31.000000</td>\n",
              "      <td>0.246300</td>\n",
              "      <td>0.0</td>\n",
              "      <td>11933.255000</td>\n",
              "      <td>239.007500</td>\n",
              "      <td>1395.000000</td>\n",
              "      <td>27.000000</td>\n",
              "    </tr>\n",
              "    <tr>\n",
              "      <th>max</th>\n",
              "      <td>236799.000000</td>\n",
              "      <td>2037.000000</td>\n",
              "      <td>0.053300</td>\n",
              "      <td>0.133100</td>\n",
              "      <td>340696.000000</td>\n",
              "      <td>2778.000000</td>\n",
              "      <td>0.054200</td>\n",
              "      <td>0.139800</td>\n",
              "      <td>1.000000</td>\n",
              "      <td>1.000000</td>\n",
              "      <td>35567.000000</td>\n",
              "      <td>972.000000</td>\n",
              "      <td>0.381300</td>\n",
              "      <td>0.0</td>\n",
              "      <td>792483.740000</td>\n",
              "      <td>21958.710000</td>\n",
              "      <td>35003.000000</td>\n",
              "      <td>868.000000</td>\n",
              "    </tr>\n",
              "  </tbody>\n",
              "</table>\n",
              "</div>\n",
              "      <button class=\"colab-df-convert\" onclick=\"convertToInteractive('df-86a46a92-a903-4eb5-bd8d-4f1d5c3d3957')\"\n",
              "              title=\"Convert this dataframe to an interactive table.\"\n",
              "              style=\"display:none;\">\n",
              "        \n",
              "  <svg xmlns=\"http://www.w3.org/2000/svg\" height=\"24px\"viewBox=\"0 0 24 24\"\n",
              "       width=\"24px\">\n",
              "    <path d=\"M0 0h24v24H0V0z\" fill=\"none\"/>\n",
              "    <path d=\"M18.56 5.44l.94 2.06.94-2.06 2.06-.94-2.06-.94-.94-2.06-.94 2.06-2.06.94zm-11 1L8.5 8.5l.94-2.06 2.06-.94-2.06-.94L8.5 2.5l-.94 2.06-2.06.94zm10 10l.94 2.06.94-2.06 2.06-.94-2.06-.94-.94-2.06-.94 2.06-2.06.94z\"/><path d=\"M17.41 7.96l-1.37-1.37c-.4-.4-.92-.59-1.43-.59-.52 0-1.04.2-1.43.59L10.3 9.45l-7.72 7.72c-.78.78-.78 2.05 0 2.83L4 21.41c.39.39.9.59 1.41.59.51 0 1.02-.2 1.41-.59l7.78-7.78 2.81-2.81c.8-.78.8-2.07 0-2.86zM5.41 20L4 18.59l7.72-7.72 1.47 1.35L5.41 20z\"/>\n",
              "  </svg>\n",
              "      </button>\n",
              "      \n",
              "  <style>\n",
              "    .colab-df-container {\n",
              "      display:flex;\n",
              "      flex-wrap:wrap;\n",
              "      gap: 12px;\n",
              "    }\n",
              "\n",
              "    .colab-df-convert {\n",
              "      background-color: #E8F0FE;\n",
              "      border: none;\n",
              "      border-radius: 50%;\n",
              "      cursor: pointer;\n",
              "      display: none;\n",
              "      fill: #1967D2;\n",
              "      height: 32px;\n",
              "      padding: 0 0 0 0;\n",
              "      width: 32px;\n",
              "    }\n",
              "\n",
              "    .colab-df-convert:hover {\n",
              "      background-color: #E2EBFA;\n",
              "      box-shadow: 0px 1px 2px rgba(60, 64, 67, 0.3), 0px 1px 3px 1px rgba(60, 64, 67, 0.15);\n",
              "      fill: #174EA6;\n",
              "    }\n",
              "\n",
              "    [theme=dark] .colab-df-convert {\n",
              "      background-color: #3B4455;\n",
              "      fill: #D2E3FC;\n",
              "    }\n",
              "\n",
              "    [theme=dark] .colab-df-convert:hover {\n",
              "      background-color: #434B5C;\n",
              "      box-shadow: 0px 1px 3px 1px rgba(0, 0, 0, 0.15);\n",
              "      filter: drop-shadow(0px 1px 2px rgba(0, 0, 0, 0.3));\n",
              "      fill: #FFFFFF;\n",
              "    }\n",
              "  </style>\n",
              "\n",
              "      <script>\n",
              "        const buttonEl =\n",
              "          document.querySelector('#df-86a46a92-a903-4eb5-bd8d-4f1d5c3d3957 button.colab-df-convert');\n",
              "        buttonEl.style.display =\n",
              "          google.colab.kernel.accessAllowed ? 'block' : 'none';\n",
              "\n",
              "        async function convertToInteractive(key) {\n",
              "          const element = document.querySelector('#df-86a46a92-a903-4eb5-bd8d-4f1d5c3d3957');\n",
              "          const dataTable =\n",
              "            await google.colab.kernel.invokeFunction('convertToInteractive',\n",
              "                                                     [key], {});\n",
              "          if (!dataTable) return;\n",
              "\n",
              "          const docLinkHtml = 'Like what you see? Visit the ' +\n",
              "            '<a target=\"_blank\" href=https://colab.research.google.com/notebooks/data_table.ipynb>data table notebook</a>'\n",
              "            + ' to learn more about interactive tables.';\n",
              "          element.innerHTML = '';\n",
              "          dataTable['output_type'] = 'display_data';\n",
              "          await google.colab.output.renderOutput(dataTable, element);\n",
              "          const docLink = document.createElement('div');\n",
              "          docLink.innerHTML = docLinkHtml;\n",
              "          element.appendChild(docLink);\n",
              "        }\n",
              "      </script>\n",
              "    </div>\n",
              "  </div>\n",
              "  "
            ]
          },
          "metadata": {},
          "execution_count": 9
        }
      ]
    },
    {
      "cell_type": "markdown",
      "source": [
        "Note: Computations done with any percentage column will spit back ex. the numerical .05 instead of the percentage 5%.\n",
        "\n",
        "You can see in the summary statistics the distribution of data present in the columns. For example, Sessions Total is positively skewed to the right, meaning that the mean is greater than the median. Also notice how that the maximun value is around 231,111 greater than the mean. This points to outliers in Sessions Total. Scanning over the rest of the data, there are some cases in which the mean is even double the median."
      ],
      "metadata": {
        "id": "G-Xwm0h2NlrT"
      }
    },
    {
      "cell_type": "markdown",
      "source": [
        "To visualize this better lets create a histogram for Sessions Total.\n",
        "\n",
        "The histogram below shows the skewed distribution with a max around 236K and (excluding a few more outliers) the rest of the values to be less than 26K. Around half of all of the data values sit under 3k."
      ],
      "metadata": {
        "id": "d6dreO8gUbC1"
      }
    },
    {
      "cell_type": "code",
      "source": [
        "fig = px.histogram(data, x='SessionsTotal')\n",
        "\n",
        "fig.show()"
      ],
      "metadata": {
        "colab": {
          "base_uri": "https://localhost:8080/",
          "height": 542
        },
        "id": "xyk505m5MRTK",
        "outputId": "70f93b31-7c2b-4904-aab4-a832b77a2d8f"
      },
      "execution_count": null,
      "outputs": [
        {
          "output_type": "display_data",
          "data": {
            "text/html": [
              "<html>\n",
              "<head><meta charset=\"utf-8\" /></head>\n",
              "<body>\n",
              "    <div>            <script src=\"https://cdnjs.cloudflare.com/ajax/libs/mathjax/2.7.5/MathJax.js?config=TeX-AMS-MML_SVG\"></script><script type=\"text/javascript\">if (window.MathJax) {MathJax.Hub.Config({SVG: {font: \"STIX-Web\"}});}</script>                <script type=\"text/javascript\">window.PlotlyConfig = {MathJaxConfig: 'local'};</script>\n",
              "        <script src=\"https://cdn.plot.ly/plotly-2.8.3.min.js\"></script>                <div id=\"137c0194-2923-466d-a5b7-f1217c5ff5f7\" class=\"plotly-graph-div\" style=\"height:525px; width:100%;\"></div>            <script type=\"text/javascript\">                                    window.PLOTLYENV=window.PLOTLYENV || {};                                    if (document.getElementById(\"137c0194-2923-466d-a5b7-f1217c5ff5f7\")) {                    Plotly.newPlot(                        \"137c0194-2923-466d-a5b7-f1217c5ff5f7\",                        [{\"alignmentgroup\":\"True\",\"bingroup\":\"x\",\"hovertemplate\":\"SessionsTotal=%{x}<br>count=%{y}<extra></extra>\",\"legendgroup\":\"\",\"marker\":{\"color\":\"#636efa\",\"pattern\":{\"shape\":\"\"}},\"name\":\"\",\"offsetgroup\":\"\",\"orientation\":\"v\",\"showlegend\":false,\"x\":[236799,33158,32081,23566,51167,32999,24913,73363,23812,16261,24209,20411,17622,24088,32204,22115,20936,22466,23823,18889,18882,23601,17837,19837,22118,20867,24863,16221,20162,15087,14510,32940,29860,21407,11738,18553,10944,16291,16131,12703,43350,14324,11158,12305,16189,34187,11428,11839,13389,17999,11745,16952,18771,21184,9989,15455,12070,11625,19385,12797,23933,11869,22148,8838,11891,19847,15039,10393,16629,11145,13729,11416,9525,18640,11404,21822,12738,14192,13047,17051,11470,16769,12840,21095,14348,19002,6864,7909,14768,9440,10401,9086,7622,8948,10060,15384,9975,8598,9186,8584,17974,6271,7906,16063,9462,9576,14131,9291,10015,11772,12466,20940,6293,8337,9997,8893,14418,15540,8384,8685,10288,7327,14133,6156,9847,7699,13097,6676,8283,10406,10797,9608,15899,9245,8982,10097,13067,5717,7420,9829,5803,11837,8436,6619,11736,6354,5736,7748,6505,12840,8195,6956,6384,16417,6357,6627,6017,7254,6062,5403,6429,7413,12381,8781,14176,5988,5696,10936,12630,5495,7713,4403,11412,8028,7559,11621,6955,7786,6830,6007,5271,6427,5479,8870,6907,4806,4945,9072,6284,5232,10730,8371,7954,5340,6970,5144,6850,4550,6230,9687,5886,5166,5459,6172,11490,5989,8677,5883,5093,4609,9893,4704,5608,9241,4301,6262,6084,4840,6923,7594,4698,6047,4487,10258,6695,7731,7396,6703,4602,6195,4124,5021,7109,7038,4387,4310,5093,4157,5856,4801,9954,4665,4618,7995,5884,5927,4156,4070,16137,3947,3811,4645,3028,7205,4104,8230,8193,4131,6005,6048,5362,4815,5329,3436,5805,4381,5253,5746,5588,10925,4597,4862,5290,5112,4189,5762,4137,3323,3150,3659,4559,4072,6766,4739,4506,6862,4174,3732,5202,3131,5365,5273,4340,3457,3832,3910,4176,7112,3769,5201,5089,4041,3039,3936,8384,4280,3330,4779,2798,4271,4331,3666,3566,3688,3629,4227,4208,4255,5744,4719,7477,6705,9104,3056,3865,5641,6641,5214,6792,6699,4849,3242,3028,3267,3222,3467,3786,2602,3733,3302,3404,4477,2730,3859,3284,2431,2688,3080,15148,2603,2908,4834,5321,4637,3530,2987,2635,2287,6255,2458,7072,3219,6118,5999,2866,3874,2626,4342,2729,2424,4085,2537,3574,4001,2363,3595,5243,5175,3702,3033,5741,2385,4453,3213,1977,3388,5228,2443,2299,8815,3761,2325,3325,3642,3012,2323,2679,3164,4391,6357,2975,3784,3665,3158,2543,2753,3295,2602,1915,2732,2398,2506,2597,3976,2774,4146,2270,5911,2524,1817,2998,2680,2298,3531,3115,4263,1984,3162,2416,2594,2134,2369,3700,2458,2379,2189,2657,3069,1784,1802,2277,3095,4709,2173,2140,2363,2971,3288,2562,4335,2370,2847,2796,2154,3571,1941,1796,5392,2489,2310,2385,2125,2519,2849,2908,3064,2575,2183,1959,1618,1998,2188,2708,2116,2115,1689,2001,2055,1517,2840,2084,1818,2655,1996,3748,1258,2261,2901,1413,1877,2382,1577,1777,1679,2130,1617,1758,1335,3056,1974,2193,1979,1749,2682,1848,3093,2864,1197,1877,2079,2050,1509,2209,2818,1459,2213,1138,1970,1772,2203,1834,1633,1548,1812,1701,2977,1814,2344,1558,1603,2467,2280,3838,6198,3701,4066,1455,2023,1689,1712,1671,1754,2769,1352,3089,1792,1945,2724,2031,1230,2183,1327,1132,1973,3209,1314,1852,1961,1269,2367,1279,1419,2882,1580,1808,1050,1182,1046,1158,1026,2508,909,2427,1477,1424,2217,926,901,2028,1426,1635,799,985,1782,1499,1385,1078,944,1836,1495,3558,900,781,1347,928,1198,1117,804,931,1909,1230,893,996,2918,1047,789,999,857,3031,1517,800,994,616,677,791,647,1067,636,1097,731,527,690,1008,586,816,704,706,960,937,1306,670,640,441,4381,847,1225,1369,440,1620,853,702,471,441,893,1440,308,2406,866,356,733,421,448,639,622,386,408,436,656,267,295,961,270,530,660,515,461,338,442,414,1207,528,445,344,498,276,316,381,400,312,961,376,352,344,1030,451,155,330,345,400,210,265,365,462,353,471,481,189,484,207,202,256,1003,288,379,383,138,275,379,1619,182,277,408,297,221,750,132,265,830,260,555,82,472,446,121,185,249,3566,564,348,93,134,197,406,720,267,383,554,288,131,99,81,619,242,97,138,101,242,76,99,96,91,321,161,89,115,69,48,138,47,238,16,59,24,133,52,8,77,25,10,23,370,306,1424,12,7327,5,9,3,67,282],\"xaxis\":\"x\",\"yaxis\":\"y\",\"type\":\"histogram\"}],                        {\"template\":{\"data\":{\"bar\":[{\"error_x\":{\"color\":\"#2a3f5f\"},\"error_y\":{\"color\":\"#2a3f5f\"},\"marker\":{\"line\":{\"color\":\"#E5ECF6\",\"width\":0.5},\"pattern\":{\"fillmode\":\"overlay\",\"size\":10,\"solidity\":0.2}},\"type\":\"bar\"}],\"barpolar\":[{\"marker\":{\"line\":{\"color\":\"#E5ECF6\",\"width\":0.5},\"pattern\":{\"fillmode\":\"overlay\",\"size\":10,\"solidity\":0.2}},\"type\":\"barpolar\"}],\"carpet\":[{\"aaxis\":{\"endlinecolor\":\"#2a3f5f\",\"gridcolor\":\"white\",\"linecolor\":\"white\",\"minorgridcolor\":\"white\",\"startlinecolor\":\"#2a3f5f\"},\"baxis\":{\"endlinecolor\":\"#2a3f5f\",\"gridcolor\":\"white\",\"linecolor\":\"white\",\"minorgridcolor\":\"white\",\"startlinecolor\":\"#2a3f5f\"},\"type\":\"carpet\"}],\"choropleth\":[{\"colorbar\":{\"outlinewidth\":0,\"ticks\":\"\"},\"type\":\"choropleth\"}],\"contour\":[{\"colorbar\":{\"outlinewidth\":0,\"ticks\":\"\"},\"colorscale\":[[0.0,\"#0d0887\"],[0.1111111111111111,\"#46039f\"],[0.2222222222222222,\"#7201a8\"],[0.3333333333333333,\"#9c179e\"],[0.4444444444444444,\"#bd3786\"],[0.5555555555555556,\"#d8576b\"],[0.6666666666666666,\"#ed7953\"],[0.7777777777777778,\"#fb9f3a\"],[0.8888888888888888,\"#fdca26\"],[1.0,\"#f0f921\"]],\"type\":\"contour\"}],\"contourcarpet\":[{\"colorbar\":{\"outlinewidth\":0,\"ticks\":\"\"},\"type\":\"contourcarpet\"}],\"heatmap\":[{\"colorbar\":{\"outlinewidth\":0,\"ticks\":\"\"},\"colorscale\":[[0.0,\"#0d0887\"],[0.1111111111111111,\"#46039f\"],[0.2222222222222222,\"#7201a8\"],[0.3333333333333333,\"#9c179e\"],[0.4444444444444444,\"#bd3786\"],[0.5555555555555556,\"#d8576b\"],[0.6666666666666666,\"#ed7953\"],[0.7777777777777778,\"#fb9f3a\"],[0.8888888888888888,\"#fdca26\"],[1.0,\"#f0f921\"]],\"type\":\"heatmap\"}],\"heatmapgl\":[{\"colorbar\":{\"outlinewidth\":0,\"ticks\":\"\"},\"colorscale\":[[0.0,\"#0d0887\"],[0.1111111111111111,\"#46039f\"],[0.2222222222222222,\"#7201a8\"],[0.3333333333333333,\"#9c179e\"],[0.4444444444444444,\"#bd3786\"],[0.5555555555555556,\"#d8576b\"],[0.6666666666666666,\"#ed7953\"],[0.7777777777777778,\"#fb9f3a\"],[0.8888888888888888,\"#fdca26\"],[1.0,\"#f0f921\"]],\"type\":\"heatmapgl\"}],\"histogram\":[{\"marker\":{\"pattern\":{\"fillmode\":\"overlay\",\"size\":10,\"solidity\":0.2}},\"type\":\"histogram\"}],\"histogram2d\":[{\"colorbar\":{\"outlinewidth\":0,\"ticks\":\"\"},\"colorscale\":[[0.0,\"#0d0887\"],[0.1111111111111111,\"#46039f\"],[0.2222222222222222,\"#7201a8\"],[0.3333333333333333,\"#9c179e\"],[0.4444444444444444,\"#bd3786\"],[0.5555555555555556,\"#d8576b\"],[0.6666666666666666,\"#ed7953\"],[0.7777777777777778,\"#fb9f3a\"],[0.8888888888888888,\"#fdca26\"],[1.0,\"#f0f921\"]],\"type\":\"histogram2d\"}],\"histogram2dcontour\":[{\"colorbar\":{\"outlinewidth\":0,\"ticks\":\"\"},\"colorscale\":[[0.0,\"#0d0887\"],[0.1111111111111111,\"#46039f\"],[0.2222222222222222,\"#7201a8\"],[0.3333333333333333,\"#9c179e\"],[0.4444444444444444,\"#bd3786\"],[0.5555555555555556,\"#d8576b\"],[0.6666666666666666,\"#ed7953\"],[0.7777777777777778,\"#fb9f3a\"],[0.8888888888888888,\"#fdca26\"],[1.0,\"#f0f921\"]],\"type\":\"histogram2dcontour\"}],\"mesh3d\":[{\"colorbar\":{\"outlinewidth\":0,\"ticks\":\"\"},\"type\":\"mesh3d\"}],\"parcoords\":[{\"line\":{\"colorbar\":{\"outlinewidth\":0,\"ticks\":\"\"}},\"type\":\"parcoords\"}],\"pie\":[{\"automargin\":true,\"type\":\"pie\"}],\"scatter\":[{\"marker\":{\"colorbar\":{\"outlinewidth\":0,\"ticks\":\"\"}},\"type\":\"scatter\"}],\"scatter3d\":[{\"line\":{\"colorbar\":{\"outlinewidth\":0,\"ticks\":\"\"}},\"marker\":{\"colorbar\":{\"outlinewidth\":0,\"ticks\":\"\"}},\"type\":\"scatter3d\"}],\"scattercarpet\":[{\"marker\":{\"colorbar\":{\"outlinewidth\":0,\"ticks\":\"\"}},\"type\":\"scattercarpet\"}],\"scattergeo\":[{\"marker\":{\"colorbar\":{\"outlinewidth\":0,\"ticks\":\"\"}},\"type\":\"scattergeo\"}],\"scattergl\":[{\"marker\":{\"colorbar\":{\"outlinewidth\":0,\"ticks\":\"\"}},\"type\":\"scattergl\"}],\"scattermapbox\":[{\"marker\":{\"colorbar\":{\"outlinewidth\":0,\"ticks\":\"\"}},\"type\":\"scattermapbox\"}],\"scatterpolar\":[{\"marker\":{\"colorbar\":{\"outlinewidth\":0,\"ticks\":\"\"}},\"type\":\"scatterpolar\"}],\"scatterpolargl\":[{\"marker\":{\"colorbar\":{\"outlinewidth\":0,\"ticks\":\"\"}},\"type\":\"scatterpolargl\"}],\"scatterternary\":[{\"marker\":{\"colorbar\":{\"outlinewidth\":0,\"ticks\":\"\"}},\"type\":\"scatterternary\"}],\"surface\":[{\"colorbar\":{\"outlinewidth\":0,\"ticks\":\"\"},\"colorscale\":[[0.0,\"#0d0887\"],[0.1111111111111111,\"#46039f\"],[0.2222222222222222,\"#7201a8\"],[0.3333333333333333,\"#9c179e\"],[0.4444444444444444,\"#bd3786\"],[0.5555555555555556,\"#d8576b\"],[0.6666666666666666,\"#ed7953\"],[0.7777777777777778,\"#fb9f3a\"],[0.8888888888888888,\"#fdca26\"],[1.0,\"#f0f921\"]],\"type\":\"surface\"}],\"table\":[{\"cells\":{\"fill\":{\"color\":\"#EBF0F8\"},\"line\":{\"color\":\"white\"}},\"header\":{\"fill\":{\"color\":\"#C8D4E3\"},\"line\":{\"color\":\"white\"}},\"type\":\"table\"}]},\"layout\":{\"annotationdefaults\":{\"arrowcolor\":\"#2a3f5f\",\"arrowhead\":0,\"arrowwidth\":1},\"autotypenumbers\":\"strict\",\"coloraxis\":{\"colorbar\":{\"outlinewidth\":0,\"ticks\":\"\"}},\"colorscale\":{\"diverging\":[[0,\"#8e0152\"],[0.1,\"#c51b7d\"],[0.2,\"#de77ae\"],[0.3,\"#f1b6da\"],[0.4,\"#fde0ef\"],[0.5,\"#f7f7f7\"],[0.6,\"#e6f5d0\"],[0.7,\"#b8e186\"],[0.8,\"#7fbc41\"],[0.9,\"#4d9221\"],[1,\"#276419\"]],\"sequential\":[[0.0,\"#0d0887\"],[0.1111111111111111,\"#46039f\"],[0.2222222222222222,\"#7201a8\"],[0.3333333333333333,\"#9c179e\"],[0.4444444444444444,\"#bd3786\"],[0.5555555555555556,\"#d8576b\"],[0.6666666666666666,\"#ed7953\"],[0.7777777777777778,\"#fb9f3a\"],[0.8888888888888888,\"#fdca26\"],[1.0,\"#f0f921\"]],\"sequentialminus\":[[0.0,\"#0d0887\"],[0.1111111111111111,\"#46039f\"],[0.2222222222222222,\"#7201a8\"],[0.3333333333333333,\"#9c179e\"],[0.4444444444444444,\"#bd3786\"],[0.5555555555555556,\"#d8576b\"],[0.6666666666666666,\"#ed7953\"],[0.7777777777777778,\"#fb9f3a\"],[0.8888888888888888,\"#fdca26\"],[1.0,\"#f0f921\"]]},\"colorway\":[\"#636efa\",\"#EF553B\",\"#00cc96\",\"#ab63fa\",\"#FFA15A\",\"#19d3f3\",\"#FF6692\",\"#B6E880\",\"#FF97FF\",\"#FECB52\"],\"font\":{\"color\":\"#2a3f5f\"},\"geo\":{\"bgcolor\":\"white\",\"lakecolor\":\"white\",\"landcolor\":\"#E5ECF6\",\"showlakes\":true,\"showland\":true,\"subunitcolor\":\"white\"},\"hoverlabel\":{\"align\":\"left\"},\"hovermode\":\"closest\",\"mapbox\":{\"style\":\"light\"},\"paper_bgcolor\":\"white\",\"plot_bgcolor\":\"#E5ECF6\",\"polar\":{\"angularaxis\":{\"gridcolor\":\"white\",\"linecolor\":\"white\",\"ticks\":\"\"},\"bgcolor\":\"#E5ECF6\",\"radialaxis\":{\"gridcolor\":\"white\",\"linecolor\":\"white\",\"ticks\":\"\"}},\"scene\":{\"xaxis\":{\"backgroundcolor\":\"#E5ECF6\",\"gridcolor\":\"white\",\"gridwidth\":2,\"linecolor\":\"white\",\"showbackground\":true,\"ticks\":\"\",\"zerolinecolor\":\"white\"},\"yaxis\":{\"backgroundcolor\":\"#E5ECF6\",\"gridcolor\":\"white\",\"gridwidth\":2,\"linecolor\":\"white\",\"showbackground\":true,\"ticks\":\"\",\"zerolinecolor\":\"white\"},\"zaxis\":{\"backgroundcolor\":\"#E5ECF6\",\"gridcolor\":\"white\",\"gridwidth\":2,\"linecolor\":\"white\",\"showbackground\":true,\"ticks\":\"\",\"zerolinecolor\":\"white\"}},\"shapedefaults\":{\"line\":{\"color\":\"#2a3f5f\"}},\"ternary\":{\"aaxis\":{\"gridcolor\":\"white\",\"linecolor\":\"white\",\"ticks\":\"\"},\"baxis\":{\"gridcolor\":\"white\",\"linecolor\":\"white\",\"ticks\":\"\"},\"bgcolor\":\"#E5ECF6\",\"caxis\":{\"gridcolor\":\"white\",\"linecolor\":\"white\",\"ticks\":\"\"}},\"title\":{\"x\":0.05},\"xaxis\":{\"automargin\":true,\"gridcolor\":\"white\",\"linecolor\":\"white\",\"ticks\":\"\",\"title\":{\"standoff\":15},\"zerolinecolor\":\"white\",\"zerolinewidth\":2},\"yaxis\":{\"automargin\":true,\"gridcolor\":\"white\",\"linecolor\":\"white\",\"ticks\":\"\",\"title\":{\"standoff\":15},\"zerolinecolor\":\"white\",\"zerolinewidth\":2}}},\"xaxis\":{\"anchor\":\"y\",\"domain\":[0.0,1.0],\"title\":{\"text\":\"SessionsTotal\"}},\"yaxis\":{\"anchor\":\"x\",\"domain\":[0.0,1.0],\"title\":{\"text\":\"count\"}},\"legend\":{\"tracegroupgap\":0},\"margin\":{\"t\":60},\"barmode\":\"relative\"},                        {\"responsive\": true}                    ).then(function(){\n",
              "                            \n",
              "var gd = document.getElementById('137c0194-2923-466d-a5b7-f1217c5ff5f7');\n",
              "var x = new MutationObserver(function (mutations, observer) {{\n",
              "        var display = window.getComputedStyle(gd).display;\n",
              "        if (!display || display === 'none') {{\n",
              "            console.log([gd, 'removed!']);\n",
              "            Plotly.purge(gd);\n",
              "            observer.disconnect();\n",
              "        }}\n",
              "}});\n",
              "\n",
              "// Listen for the removal of the full notebook cells\n",
              "var notebookContainer = gd.closest('#notebook-container');\n",
              "if (notebookContainer) {{\n",
              "    x.observe(notebookContainer, {childList: true});\n",
              "}}\n",
              "\n",
              "// Listen for the clearing of the current output cell\n",
              "var outputEl = gd.closest('.output');\n",
              "if (outputEl) {{\n",
              "    x.observe(outputEl, {childList: true});\n",
              "}}\n",
              "\n",
              "                        })                };                            </script>        </div>\n",
              "</body>\n",
              "</html>"
            ]
          },
          "metadata": {}
        }
      ]
    },
    {
      "cell_type": "markdown",
      "source": [
        "Lets take care of all of the outliers in the dataset together!"
      ],
      "metadata": {
        "id": "jXd9U5g5V6Ba"
      }
    },
    {
      "cell_type": "markdown",
      "source": [
        "Notice the data does not follow a normal distribution. Since the data is skewed, instead of using a z-score we can use interquartile range (IQR) to determine the outliers."
      ],
      "metadata": {
        "id": "G_i1HXctMlYp"
      }
    },
    {
      "cell_type": "code",
      "source": [
        "q1 = data.quantile(0.25)\n",
        "\n",
        "q3 = data.quantile(0.75)\n",
        "\n",
        "IQR = q3 - q1\n",
        "not_outliers = data[~((data<(q1-1.5*IQR)) | (data>(q3+1.5*IQR)))]\n",
        "data_no = not_outliers.dropna().reset_index()\n"
      ],
      "metadata": {
        "colab": {
          "base_uri": "https://localhost:8080/"
        },
        "id": "2gO5O_cxM6wF",
        "outputId": "a023c224-0e07-46a3-90aa-d3bd5860e240"
      },
      "execution_count": null,
      "outputs": [
        {
          "output_type": "stream",
          "name": "stderr",
          "text": [
            "<ipython-input-110-7e70e1c70259>:6: FutureWarning:\n",
            "\n",
            "Automatic reindexing on DataFrame vs Series comparisons is deprecated and will raise ValueError in a future version.  Do `left, right = left.align(right, axis=1, copy=False)` before e.g. `left == right`\n",
            "\n"
          ]
        }
      ]
    },
    {
      "cell_type": "markdown",
      "source": [
        "I decided to drop the outliers instead of changing the values or treating them as null. There are reasons to why those specific products are outliers. Exluding them completely allows us to focus on the more relevent data without influencing possible finding by including 'false' generated values."
      ],
      "metadata": {
        "id": "LQn8kd1JN3C3"
      }
    },
    {
      "cell_type": "markdown",
      "source": [
        "With the outliers taken care of, we can delve into specific areas of inquiry.\n",
        "\n",
        "First lets take a look a the relationship between Total Ordered Items and Total Page Views.\n",
        "To show the impact of excluding the outliers, I've included what the scatterplot would have looked like prior to our culling."
      ],
      "metadata": {
        "id": "aCop_-imXknV"
      }
    },
    {
      "cell_type": "code",
      "source": [
        "fig_old = px.scatter(data_frame = data, x=\"TotalOrderItems\",\n",
        "                    y=\"PageViewsTotal\",\n",
        "                    trendline=\"ols\",\n",
        "                    title=\"Relationship between Total Ordered Items & Total Page Views\")\n",
        "fig_old.show()\n",
        "\n",
        "fig_pv_oi = px.scatter(data_frame = data_no, x=\"TotalOrderItems\",\n",
        "                    y=\"PageViewsTotal\",\n",
        "                    trendline=\"ols\",\n",
        "                    title=\"Relationship between Total Ordered Items & Total Page Views\")\n",
        "fig_pv_oi.show()"
      ],
      "metadata": {
        "colab": {
          "base_uri": "https://localhost:8080/",
          "height": 1000
        },
        "id": "66fUoTPEI1-K",
        "outputId": "a25f037a-81d4-403d-c05b-3ecba18dcb77"
      },
      "execution_count": null,
      "outputs": [
        {
          "output_type": "display_data",
          "data": {
            "text/html": [
              "<html>\n",
              "<head><meta charset=\"utf-8\" /></head>\n",
              "<body>\n",
              "    <div>            <script src=\"https://cdnjs.cloudflare.com/ajax/libs/mathjax/2.7.5/MathJax.js?config=TeX-AMS-MML_SVG\"></script><script type=\"text/javascript\">if (window.MathJax) {MathJax.Hub.Config({SVG: {font: \"STIX-Web\"}});}</script>                <script type=\"text/javascript\">window.PlotlyConfig = {MathJaxConfig: 'local'};</script>\n",
              "        <script src=\"https://cdn.plot.ly/plotly-2.8.3.min.js\"></script>                <div id=\"c19232a6-c5d0-48c8-9cec-6125e766d2aa\" class=\"plotly-graph-div\" style=\"height:525px; width:100%;\"></div>            <script type=\"text/javascript\">                                    window.PLOTLYENV=window.PLOTLYENV || {};                                    if (document.getElementById(\"c19232a6-c5d0-48c8-9cec-6125e766d2aa\")) {                    Plotly.newPlot(                        \"c19232a6-c5d0-48c8-9cec-6125e766d2aa\",                        [{\"hovertemplate\":\"TotalOrderItems=%{x}<br>PageViewsTotal=%{y}<extra></extra>\",\"legendgroup\":\"\",\"marker\":{\"color\":\"#636efa\",\"symbol\":\"circle\"},\"mode\":\"markers\",\"name\":\"\",\"orientation\":\"v\",\"showlegend\":false,\"x\":[35003,9332,8783,8726,8305,6826,6734,6250,6189,5278,5245,5236,5212,5142,4987,4934,4855,4848,4816,4747,4581,4506,4443,4352,4218,4117,4079,3936,3709,3688,3659,3595,3592,3567,3553,3535,3470,3460,3429,3423,3409,3320,3319,3280,3273,3272,3234,3182,3159,3141,3110,3074,3064,3047,3029,3024,3006,2978,2959,2958,2943,2933,2911,2904,2860,2854,2840,2808,2806,2790,2753,2748,2711,2709,2701,2696,2681,2665,2639,2620,2588,2511,2510,2501,2457,2435,2412,2397,2323,2320,2304,2298,2264,2262,2257,2255,2249,2248,2230,2228,2200,2180,2164,2161,2161,2155,2153,2123,2122,2063,2060,2054,2047,2044,2019,1994,1980,1975,1961,1959,1956,1941,1923,1918,1912,1910,1877,1874,1872,1858,1827,1805,1787,1787,1759,1759,1739,1734,1729,1725,1723,1718,1686,1684,1681,1679,1669,1652,1649,1638,1637,1630,1629,1629,1628,1625,1614,1614,1605,1601,1594,1589,1581,1577,1570,1565,1561,1555,1549,1529,1513,1509,1509,1506,1504,1499,1477,1476,1466,1465,1455,1438,1437,1426,1421,1420,1420,1412,1409,1406,1405,1398,1397,1397,1395,1395,1390,1387,1372,1364,1363,1362,1357,1349,1347,1347,1342,1339,1336,1325,1325,1296,1295,1294,1293,1293,1288,1288,1287,1285,1280,1274,1265,1260,1257,1254,1251,1250,1249,1237,1233,1229,1229,1224,1218,1207,1195,1187,1180,1177,1172,1163,1147,1147,1144,1138,1135,1131,1123,1120,1118,1112,1103,1092,1091,1091,1084,1084,1081,1081,1079,1079,1076,1073,1071,1068,1058,1055,1050,1048,1040,1038,1030,1029,1028,1023,1021,1019,1018,1013,1009,1005,996,996,992,991,987,983,979,975,974,971,969,969,964,962,961,953,949,947,947,941,926,926,918,916,909,901,896,894,892,885,877,874,865,855,854,854,852,848,845,840,835,828,826,823,822,815,804,802,778,775,775,771,770,763,762,758,757,756,751,744,740,740,732,731,731,730,726,725,720,718,718,715,715,713,710,707,702,702,702,701,697,695,694,691,685,678,675,675,673,670,669,667,665,663,659,659,658,656,656,654,654,653,643,638,636,634,633,629,626,625,625,622,620,618,618,615,613,611,611,610,609,607,607,607,602,602,599,597,595,592,591,590,590,587,584,580,578,577,575,574,574,572,569,566,561,560,558,555,555,553,553,552,547,541,539,535,535,534,534,531,530,528,526,525,523,523,517,516,513,513,513,510,510,506,504,504,502,501,498,496,494,493,490,489,482,481,481,479,478,477,475,474,466,459,453,452,446,442,440,439,439,437,436,433,431,430,429,427,414,413,411,410,410,409,409,408,403,399,396,395,395,393,390,390,389,389,387,382,382,381,380,374,369,361,358,358,357,356,356,354,353,352,351,349,348,347,346,345,343,340,338,336,332,331,329,328,326,326,319,317,316,311,306,305,305,304,300,300,300,299,297,296,293,292,288,286,284,283,283,272,266,264,262,261,260,258,257,252,248,248,243,238,237,234,233,230,229,228,227,226,225,224,222,221,221,217,215,212,210,210,209,206,204,200,197,196,193,191,186,181,180,177,167,165,165,164,161,159,158,158,156,156,151,149,147,146,144,143,136,134,133,133,132,130,128,125,124,123,123,121,118,117,115,114,111,111,104,103,102,101,100,97,97,96,94,89,83,81,79,75,73,73,69,69,68,68,68,68,67,64,59,59,59,59,57,57,57,57,56,56,55,55,54,52,51,51,50,50,49,47,45,45,45,45,44,42,42,41,38,38,38,37,36,36,32,32,31,31,31,31,30,30,30,29,28,28,28,26,26,26,26,24,24,23,23,23,22,22,21,21,21,20,20,20,20,19,19,18,17,15,15,14,13,13,13,13,12,12,12,12,11,10,10,9,8,8,8,8,8,8,8,7,7,6,6,5,5,5,4,4,4,4,3,3,3,2,2,2,2,2,1,1,1,1,1,1,1,1],\"xaxis\":\"x\",\"y\":[340696,62598,43576,31654,74440,58229,35286,102517,39628,22978,32457,28688,32525,40149,51337,31302,30383,30900,35404,28197,26721,32106,32158,34995,33866,28347,33805,22553,33501,21984,20619,58556,43003,38600,16813,26765,14311,25406,21461,17596,59542,19803,15179,16772,21308,50339,17320,20430,18788,23248,17765,29987,28169,38139,13592,21495,18436,17730,27835,25526,32738,16746,29576,11939,21562,26522,21140,13657,22142,14763,18796,14853,13384,25755,15413,29324,17741,20962,16823,28741,17146,22305,17514,40878,19520,33191,9562,13461,20604,12604,16950,12076,9679,12509,14110,21890,14205,11265,12856,12025,26138,8352,10712,20664,11987,12816,20956,16917,13996,17445,16109,29682,8316,11430,12977,11913,21570,21744,13492,12242,13615,9635,18822,8041,13066,10928,17937,8751,11389,14011,13839,14312,21197,18546,13060,16957,17882,7599,9719,12481,8070,15296,11260,10661,15905,8560,8248,12376,9370,18388,11894,9712,9096,23887,8441,8735,8173,10369,8003,7193,9246,9428,16386,15453,19351,7806,7683,15037,16980,7794,10372,6047,16854,13443,9949,15777,9704,9559,8993,7746,7141,8909,7934,15633,10220,6722,7388,11764,8601,7096,15255,11534,10960,6846,9359,7539,9382,6311,9751,13123,8477,6969,7616,8885,17161,8648,14530,7870,6873,6408,14007,6098,7796,13195,5658,8367,7796,6713,9101,10134,6424,8223,6043,14163,8506,10387,11138,8967,6553,8034,5429,6721,9912,8995,5745,6277,6804,5641,7950,6445,12983,6308,5972,10488,7828,8577,6122,6140,20987,5387,4977,6744,4213,9282,5450,10206,11191,5703,8251,8243,8019,6380,7620,4891,9431,5742,6963,7776,8272,14354,6856,6435,7647,6347,6095,7202,5479,4653,4281,4943,6215,5393,8966,6185,6440,9333,5699,5004,7283,4601,7319,7386,5612,4438,4963,5460,5505,9647,4850,6853,6423,5506,3998,5297,11155,5942,4304,7190,4155,5733,5824,4987,4687,4807,5063,5366,6376,5512,7584,6298,9870,8741,11930,4177,5439,7894,8945,6545,8742,8886,6737,4631,4082,4494,4580,4511,4820,3465,5103,4280,4280,6512,3542,5069,4409,3014,4078,4025,17569,3446,3821,6306,7298,6522,4542,4116,3396,2898,8288,3193,10510,4442,8109,7479,3962,5291,3410,5784,3620,3113,5201,3313,4590,5243,3030,4761,7006,6735,5366,3927,7594,3188,5751,4255,2588,4588,6779,3188,3083,11125,4814,3124,4416,4723,3848,3265,3427,4341,6413,8421,3912,5596,5344,4240,3211,3498,4187,3847,2471,3419,3413,3345,3034,5373,3780,5788,3033,7826,3431,2299,3710,3675,2941,4593,4530,5612,2666,4127,3228,3377,2767,3136,4702,3209,3073,3034,3490,3996,2589,2354,3014,4250,6018,3051,3054,2993,3993,4291,3390,5638,3386,4714,3722,3429,4767,2543,2352,7390,3320,2857,3068,2700,3459,3738,3816,4090,3725,2860,2628,2024,2627,2849,3629,2773,2824,2358,2776,3114,1905,3810,2775,2359,3581,2668,4824,1643,3000,3776,1830,2523,3119,2087,2268,2206,2475,2090,2310,1753,3912,2620,2750,2764,2346,3544,2302,4090,3799,1753,2374,2793,2953,2104,2883,3583,1876,2992,1574,2572,2236,2912,2331,2123,1987,2375,2218,3963,2600,3074,1986,2216,3080,3150,5067,7920,4698,5161,2442,2520,2236,2310,2128,2305,3567,1815,4421,2668,2487,3626,2713,1680,2957,1700,1473,2625,3974,1653,2384,2548,1608,3028,1693,1781,3581,2177,2272,1378,1546,1367,1475,1327,3153,1148,3108,1858,1867,3040,1231,1589,2667,1836,2054,1064,1283,2261,1929,1685,1349,1186,2420,1890,4193,1568,1064,1799,1159,1671,1409,1041,1197,2372,1622,1147,1259,3549,1358,1041,1235,1055,3916,1986,1007,1294,776,858,1038,794,1464,797,1540,916,701,973,1219,765,1019,868,977,1227,1235,1654,857,907,592,5742,1232,1530,1871,577,2048,1109,954,582,604,1165,1895,398,3012,1096,496,984,665,552,810,809,522,492,675,801,340,380,1202,364,694,847,660,559,423,569,530,1314,711,593,419,669,364,438,521,524,389,1189,701,443,426,1279,521,195,424,441,484,263,310,466,611,420,661,573,268,619,258,264,336,1220,399,512,490,180,330,475,1991,241,364,480,422,291,889,163,372,1038,313,674,102,614,542,157,246,301,4687,701,438,132,177,255,512,874,351,438,704,345,153,125,116,740,287,129,177,127,297,95,123,119,101,389,211,118,141,100,62,164,54,285,20,72,32,158,65,11,91,36,14,30,389,334,1867,17,9635,6,9,5,85,344],\"yaxis\":\"y\",\"type\":\"scatter\"},{\"hovertemplate\":\"<b>OLS trendline</b><br>PageViewsTotal = 8.45454 * TotalOrderItems + -1082.68<br>R<sup>2</sup>=0.894185<br><br>TotalOrderItems=%{x}<br>PageViewsTotal=%{y} <b>(trend)</b><extra></extra>\",\"legendgroup\":\"\",\"marker\":{\"color\":\"#636efa\",\"symbol\":\"circle\"},\"mode\":\"lines\",\"name\":\"\",\"showlegend\":false,\"x\":[1,1,1,1,1,1,1,1,2,2,2,2,2,3,3,3,4,4,4,4,5,5,5,6,6,7,7,8,8,8,8,8,8,8,9,10,10,11,12,12,12,12,13,13,13,13,14,15,15,17,18,19,19,20,20,20,20,21,21,21,22,22,23,23,23,24,24,26,26,26,26,28,28,28,29,30,30,30,31,31,31,31,32,32,36,36,37,38,38,38,41,42,42,44,45,45,45,45,47,49,50,50,51,51,52,54,55,55,56,56,57,57,57,57,59,59,59,59,64,67,68,68,68,68,69,69,73,73,75,79,81,83,89,94,96,97,97,100,101,102,103,104,111,111,114,115,117,118,121,123,123,124,125,128,130,132,133,133,134,136,143,144,146,147,149,151,156,156,158,158,159,161,164,165,165,167,177,180,181,186,191,193,196,197,200,204,206,209,210,210,212,215,217,221,221,222,224,225,226,227,228,229,230,233,234,237,238,243,248,248,252,257,258,260,261,262,264,266,272,283,283,284,286,288,292,293,296,297,299,300,300,300,304,305,305,306,311,316,317,319,326,326,328,329,331,332,336,338,340,343,345,346,347,348,349,351,352,353,354,356,356,357,358,358,361,369,374,380,381,382,382,387,389,389,390,390,393,395,395,396,399,403,408,409,409,410,410,411,413,414,427,429,430,431,433,436,437,439,439,440,442,446,452,453,459,466,474,475,477,478,479,481,481,482,489,490,493,494,496,498,501,502,504,504,506,510,510,513,513,513,516,517,523,523,525,526,528,530,531,534,534,535,535,539,541,547,552,553,553,555,555,558,560,561,566,569,572,574,574,575,577,578,580,584,587,590,590,591,592,595,597,599,602,602,607,607,607,609,610,611,611,613,615,618,618,620,622,625,625,626,629,633,634,636,638,643,653,654,654,656,656,658,659,659,663,665,667,669,670,673,675,675,678,685,691,694,695,697,701,702,702,702,707,710,713,715,715,718,718,720,725,726,730,731,731,732,740,740,744,751,756,757,758,762,763,770,771,775,775,778,802,804,815,822,823,826,828,835,840,845,848,852,854,854,855,865,874,877,885,892,894,896,901,909,916,918,926,926,941,947,947,949,953,961,962,964,969,969,971,974,975,979,983,987,991,992,996,996,1005,1009,1013,1018,1019,1021,1023,1028,1029,1030,1038,1040,1048,1050,1055,1058,1068,1071,1073,1076,1079,1079,1081,1081,1084,1084,1091,1091,1092,1103,1112,1118,1120,1123,1131,1135,1138,1144,1147,1147,1163,1172,1177,1180,1187,1195,1207,1218,1224,1229,1229,1233,1237,1249,1250,1251,1254,1257,1260,1265,1274,1280,1285,1287,1288,1288,1293,1293,1294,1295,1296,1325,1325,1336,1339,1342,1347,1347,1349,1357,1362,1363,1364,1372,1387,1390,1395,1395,1397,1397,1398,1405,1406,1409,1412,1420,1420,1421,1426,1437,1438,1455,1465,1466,1476,1477,1499,1504,1506,1509,1509,1513,1529,1549,1555,1561,1565,1570,1577,1581,1589,1594,1601,1605,1614,1614,1625,1628,1629,1629,1630,1637,1638,1649,1652,1669,1679,1681,1684,1686,1718,1723,1725,1729,1734,1739,1759,1759,1787,1787,1805,1827,1858,1872,1874,1877,1910,1912,1918,1923,1941,1956,1959,1961,1975,1980,1994,2019,2044,2047,2054,2060,2063,2122,2123,2153,2155,2161,2161,2164,2180,2200,2228,2230,2248,2249,2255,2257,2262,2264,2298,2304,2320,2323,2397,2412,2435,2457,2501,2510,2511,2588,2620,2639,2665,2681,2696,2701,2709,2711,2748,2753,2790,2806,2808,2840,2854,2860,2904,2911,2933,2943,2958,2959,2978,3006,3024,3029,3047,3064,3074,3110,3141,3159,3182,3234,3272,3273,3280,3319,3320,3409,3423,3429,3460,3470,3535,3553,3567,3592,3595,3659,3688,3709,3936,4079,4117,4218,4352,4443,4506,4581,4747,4816,4848,4855,4934,4987,5142,5212,5236,5245,5278,6189,6250,6734,6826,8305,8726,8783,9332,35003],\"xaxis\":\"x\",\"y\":[-1074.2272767159895,-1074.2272767159895,-1074.2272767159895,-1074.2272767159895,-1074.2272767159895,-1074.2272767159895,-1074.2272767159895,-1074.2272767159895,-1065.7727409693387,-1065.7727409693387,-1065.7727409693387,-1065.7727409693387,-1065.7727409693387,-1057.3182052226878,-1057.3182052226878,-1057.3182052226878,-1048.8636694760366,-1048.8636694760366,-1048.8636694760366,-1048.8636694760366,-1040.4091337293858,-1040.4091337293858,-1040.4091337293858,-1031.9545979827349,-1031.9545979827349,-1023.500062236084,-1023.500062236084,-1015.0455264894331,-1015.0455264894331,-1015.0455264894331,-1015.0455264894331,-1015.0455264894331,-1015.0455264894331,-1015.0455264894331,-1006.5909907427822,-998.1364549961312,-998.1364549961312,-989.6819192494803,-981.2273835028294,-981.2273835028294,-981.2273835028294,-981.2273835028294,-972.7728477561784,-972.7728477561784,-972.7728477561784,-972.7728477561784,-964.3183120095275,-955.8637762628766,-955.8637762628766,-938.9547047695747,-930.5001690229238,-922.045633276273,-922.045633276273,-913.591097529622,-913.591097529622,-913.591097529622,-913.591097529622,-905.1365617829711,-905.1365617829711,-905.1365617829711,-896.6820260363202,-896.6820260363202,-888.2274902896693,-888.2274902896693,-888.2274902896693,-879.7729545430183,-879.7729545430183,-862.8638830497165,-862.8638830497165,-862.8638830497165,-862.8638830497165,-845.9548115564146,-845.9548115564146,-845.9548115564146,-837.5002758097637,-829.0457400631128,-829.0457400631128,-829.0457400631128,-820.5912043164619,-820.5912043164619,-820.5912043164619,-820.5912043164619,-812.1366685698109,-812.1366685698109,-778.3185255832072,-778.3185255832072,-769.8639898365564,-761.4094540899055,-761.4094540899055,-761.4094540899055,-736.0458468499526,-727.5913111033017,-727.5913111033017,-710.6822396099999,-702.227703863349,-702.227703863349,-702.227703863349,-702.227703863349,-685.3186323700471,-668.4095608767452,-659.9550251300943,-659.9550251300943,-651.5004893834434,-651.5004893834434,-643.0459536367925,-626.1368821434907,-617.6823463968396,-617.6823463968396,-609.2278106501888,-609.2278106501888,-600.7732749035379,-600.7732749035379,-600.7732749035379,-600.7732749035379,-583.8642034102361,-583.8642034102361,-583.8642034102361,-583.8642034102361,-541.5915246769814,-516.2279174370286,-507.77338169037773,-507.77338169037773,-507.77338169037773,-507.77338169037773,-499.31884594372684,-499.31884594372684,-465.50070295712305,-465.50070295712305,-448.5916314638213,-414.7734884772176,-397.8644169839157,-380.9553454906139,-330.22813101070835,-287.9554522774538,-271.0463807841519,-262.591845037501,-262.591845037501,-237.22823779754822,-228.77370205089733,-220.31916630424632,-211.86463055759543,-203.41009481094454,-144.22834458438808,-144.22834458438808,-118.8647373444353,-110.41020159778441,-93.50113010448251,-85.04659435783162,-59.68298711787884,-42.77391562457706,-42.77391562457706,-34.31937987792617,-25.86484413127505,-0.5012368913223781,16.407834601979403,33.31690609528141,41.7714418419323,41.7714418419323,50.22597758858319,67.13504908188497,126.31679930844143,134.77133505509232,151.68040654839433,160.13494229504522,177.044013788347,193.95308528164878,236.22576401490346,236.22576401490346,253.13483550820524,253.13483550820524,261.58937125485613,278.49844274815814,303.8620499881108,312.3165857347617,312.3165857347617,329.2256572280635,413.77101469457284,439.1346219345255,447.5891576811764,489.8618364144311,532.1345151476858,549.0435866409875,574.4071938809404,582.8617296275913,608.225336867544,642.0434798541478,658.9525513474496,684.3161585874022,692.7706943340534,692.7706943340534,709.6797658273551,735.0433730673078,751.9524445606098,785.7705875472134,785.7705875472134,794.2251232938643,811.1341947871663,819.5887305338172,828.0432662804681,836.497802027119,844.9523377737698,853.4068735204207,861.8614092670716,887.2250165070245,895.6795522536754,921.0431594936281,929.497695240279,971.7703739735337,1014.0430527067881,1014.0430527067881,1047.8611956933921,1090.1338744266466,1098.5884101732975,1115.4974816665992,1123.9520174132501,1132.406553159901,1149.3156246532033,1166.224696146505,1216.9519106264104,1309.9518038395706,1309.9518038395706,1318.4063395862215,1335.3154110795233,1352.224482572825,1386.042625559429,1394.49716130608,1419.8607685460327,1428.3153042926835,1445.2243757859853,1453.6789115326362,1453.6789115326362,1453.6789115326362,1487.4970545192398,1495.9515902658907,1495.9515902658907,1504.406126012542,1546.6788047457965,1588.951483479051,1597.4060192257018,1614.3150907190036,1673.4968409455603,1673.4968409455603,1690.405912438862,1698.860448185513,1715.7695196788147,1724.2240554254656,1758.0421984120696,1774.9512699053714,1791.8603413986732,1817.2239486386259,1834.1330201319277,1842.5875558785785,1851.0420916252294,1859.4966273718803,1867.9511631185317,1884.8602346118334,1893.3147703584843,1901.7693061051352,1910.2238418517861,1927.132913345088,1927.132913345088,1935.5874490917388,1944.0419848383897,1944.0419848383897,1969.4055920783424,2037.04187805155,2079.314556784804,2130.0417712647104,2138.496307011361,2146.950842758012,2146.950842758012,2189.223521491266,2206.132592984568,2206.132592984568,2214.5871287312193,2214.5871287312193,2239.9507359711724,2256.859807464474,2256.859807464474,2265.3143432111247,2290.677950451078,2324.4960934376813,2366.7687721709362,2375.2233079175867,2375.2233079175867,2383.677843664238,2383.677843664238,2392.1323794108885,2409.0414509041902,2417.4959866508416,2527.4049513573036,2544.3140228506054,2552.768558597256,2561.223094343907,2578.132165837209,2603.495773077162,2611.9503088238125,2628.8593803171143,2628.8593803171143,2637.3139160637656,2654.2229875570674,2688.041130543671,2738.7683450235763,2747.2228807702277,2797.950095250133,2857.1318454766897,2924.768131449897,2933.2226671965473,2950.13173868985,2958.5862744365004,2967.0408101831517,2983.9498816764535,2983.9498816764535,2992.404417423104,3051.5861676496606,3060.040703396311,3085.404310636264,3093.8588463829146,3110.7679178762164,3127.676989369519,3153.0405966094713,3161.4951323561227,3178.4042038494244,3178.4042038494244,3195.3132753427262,3229.13141832933,3229.13141832933,3254.495025569283,3254.495025569283,3254.495025569283,3279.858632809235,3288.3131685558865,3339.040383035792,3339.040383035792,3355.9494545290936,3364.403990275744,3381.3130617690467,3398.2221332623485,3406.676669008999,3432.040276248952,3432.040276248952,3440.4948119956025,3440.4948119956025,3474.312954982206,3491.2220264755088,3541.949240955414,3584.221919688668,3592.6764554353194,3592.6764554353194,3609.585526928621,3609.585526928621,3634.9491341685743,3651.858205661876,3660.3127414085266,3702.5854201417815,3727.9490273817346,3753.312634621687,3770.2217061149886,3770.2217061149886,3778.67624186164,3795.5853133549417,3804.039849101592,3820.948920594894,3854.7670635814984,3880.1306708214506,3905.4942780614037,3905.4942780614037,3913.948813808054,3922.4033495547055,3947.7669567946577,3964.6760282879595,3981.585099781262,4006.9487070212144,4006.9487070212144,4049.2213857544693,4049.2213857544693,4049.2213857544693,4066.130457247771,4074.5849929944216,4083.039528741073,4083.039528741073,4099.948600234375,4116.8576717276765,4142.22127896763,4142.22127896763,4159.130350460931,4176.039421954233,4201.403029194185,4201.403029194185,4209.857564940837,4235.22117218079,4269.039315167393,4277.493850914044,4294.402922407346,4311.311993900647,4353.584672633902,4438.130030100411,4446.584565847063,4446.584565847063,4463.493637340364,4463.493637340364,4480.402708833666,4488.8572445803175,4488.8572445803175,4522.675387566921,4539.584459060223,4556.493530553525,4573.402602046826,4581.857137793478,4607.22074503343,4624.129816526732,4624.129816526732,4649.493423766685,4708.6751739932415,4759.402388473147,4784.765995713099,4793.22053145975,4810.129602953052,4843.947745939656,4852.402281686307,4852.402281686307,4852.402281686307,4894.674960419561,4920.038567659514,4945.402174899467,4962.311246392769,4962.311246392769,4987.674853632721,4987.674853632721,5004.583925126023,5046.856603859278,5055.311139605929,5089.129282592533,5097.583818339183,5097.583818339183,5106.038354085835,5173.674640059042,5173.674640059042,5207.492783045645,5266.674533272202,5308.947212005457,5317.401747752107,5325.856283498759,5359.674426485362,5368.128962232013,5427.3107124585695,5435.765248205221,5469.583391191824,5469.583391191824,5494.946998431777,5697.855856351399,5714.764927844701,5807.764821057861,5866.946571284418,5875.401107031068,5900.764714271021,5917.673785764323,5976.85553599088,6019.1282147241345,6061.4008934573885,6086.764500697342,6120.582643683945,6137.491715177247,6137.491715177247,6145.946250923898,6230.491608390407,6306.582430110266,6331.946037350218,6399.582323323426,6458.764073549982,6475.6731450432835,6492.582216536586,6534.85489526984,6602.491181243047,6661.672931469604,6678.582002962906,6746.218288936114,6746.218288936114,6873.036325135878,6923.763539615783,6923.763539615783,6940.672611109085,6974.490754095688,7042.127040068895,7050.581575815547,7067.490647308849,7109.763326042103,7109.763326042103,7126.672397535405,7152.036004775358,7160.490540522009,7194.308683508612,7228.126826495216,7261.9449694818195,7295.763112468423,7304.2176482150735,7338.035791201679,7338.035791201679,7414.126612921536,7447.94475590814,7481.762898894744,7524.035577627998,7532.49011337465,7549.399184867951,7566.308256361253,7608.580935094507,7617.035470841158,7625.49000658781,7693.126292561017,7710.035364054318,7777.671650027525,7794.580721520828,7836.853400254082,7862.217007494035,7946.762364960545,7972.125972200498,7989.035043693799,8014.398650933752,8039.762258173705,8039.762258173705,8056.671329667006,8056.671329667006,8082.034936906959,8082.034936906959,8141.216687133516,8141.216687133516,8149.671222880166,8242.671116093326,8318.761937813186,8369.48915229309,8386.398223786393,8411.761831026344,8479.398116999553,8513.216259986157,8538.57986722611,8589.307081706014,8614.670688945967,8614.670688945967,8749.943260892382,8826.034082612241,8868.306761345495,8893.670368585448,8952.852118812005,9020.488404785212,9121.942833745023,9214.942726958183,9265.66994143809,9307.942620171343,9307.942620171343,9341.760763157947,9375.57890614455,9477.033335104361,9485.487870851011,9493.942406597664,9519.306013837617,9544.669621077568,9570.033228317521,9612.305907050775,9688.396728770635,9739.123943250539,9781.396621983795,9798.305693477096,9806.760229223748,9806.760229223748,9849.032907957002,9849.032907957002,9857.487443703652,9865.941979450305,9874.396515196955,10119.578051849832,10119.578051849832,10212.57794506299,10237.941552302944,10263.305159542897,10305.577838276151,10305.577838276151,10322.486909769454,10390.12319574266,10432.395874475915,10440.850410222567,10449.304945969217,10516.941231942425,10643.759268142188,10669.122875382142,10711.395554115395,10711.395554115395,10728.304625608698,10728.304625608698,10736.759161355349,10795.940911581905,10804.395447328556,10829.759054568509,10855.122661808462,10922.75894778167,10922.75894778167,10931.21348352832,10973.486162261575,11066.486055474736,11074.940591221386,11218.66769891445,11303.21305638096,11311.667592127611,11396.21294959412,11404.667485340771,11590.667271767092,11632.939950500346,11649.849021993648,11675.212629233602,11675.212629233602,11709.030772220205,11844.30334416662,12013.394059099637,12064.121273579543,12114.84848805945,12148.666631046053,12190.939309779307,12250.121060005864,12283.939202992467,12351.575488965675,12393.84816769893,12453.029917925485,12486.848060912089,12562.938882631948,12562.938882631948,12655.938775845108,12681.302383085062,12689.756918831712,12689.756918831712,12698.211454578362,12757.39320480492,12765.84774055157,12858.84763376473,12884.211241004683,13027.93834869775,13112.483706164257,13129.39277765756,13154.756384897513,13171.665456390814,13442.210600283644,13484.483279016898,13501.392350510201,13535.210493496805,13577.483172230059,13619.755850963313,13788.846565896332,13788.846565896332,14025.573566802557,14025.573566802557,14177.755210242274,14363.754996668595,14625.845604814773,14744.209105267886,14761.118176761187,14786.48178400114,15065.48146364062,15082.390535133924,15133.117749613828,15175.390428347084,15327.572071786799,15454.390107986565,15479.753715226518,15496.662786719819,15615.026287172932,15657.298965906186,15775.6624663593,15987.025860025573,16198.389253691843,16223.752860931796,16282.934611158355,16333.66182563826,16359.025432878214,16857.843041930617,16866.29757767727,17119.933650076797,17136.842721570098,17187.569936050004,17187.569936050004,17212.933543289957,17348.20611523637,17517.296830169387,17754.023831075614,17770.932902568915,17923.114546008634,17931.569081755282,17982.29629623519,17999.20536772849,18041.478046461747,18058.387117955048,18345.841333341177,18396.568547821083,18531.841119767498,18557.20472700745,19182.84037225962,19309.658408459385,19504.112730632354,19690.112517058675,20062.112089911316,20138.202911631175,20146.657447377824,20797.656699869945,21068.201843762778,21228.838022949145,21448.655952362067,21583.92852430848,21710.746560508247,21753.0192392415,21820.655525214708,21837.56459670801,22150.382419334095,22192.65509806735,22505.47292069343,22640.745492639846,22657.65456413315,22928.19970802598,23046.563208479092,23097.290422959,23469.28999581164,23528.471746038194,23714.471532464515,23799.016889931023,23925.83492613079,23934.289461877437,24094.925641063805,24331.65264197003,24483.83428540975,24526.106964143004,24678.28860758272,24822.015715275786,24906.561072742294,25210.924359621727,25473.014967767907,25625.196611207622,25819.650933380595,26259.286792206443,26580.559150579178,26589.013686325827,26648.195436552385,26977.922330671772,26986.37686641842,27738.830547870355,27857.194048323465,27907.92126280337,28170.01187094955,28254.55722841606,28804.102051948368,28956.283695388087,29074.6471958412,29286.010589507474,29311.374196747423,29852.464484533084,30097.64602118596,30275.19127186563,32194.370886355387,33403.36949812648,33724.64185649921,34578.549966910956,35711.457756962176,36480.82050990741,37013.45626194642,37647.54644294524,39050.99937688929,39634.362343408204,39904.90748730103,39964.089237527594,40631.99756151302,41080.08795608551,42390.5409968164,42982.35849908197,43185.26735700159,43261.35817872145,43540.357858360934,51242.43992355992,51758.16660410563,55850.161905484674,56627.97919417656,69132.23756347326,72691.59711281331,73173.5056503724,77815.04577528377,294851.4329275596],\"yaxis\":\"y\",\"type\":\"scatter\"}],                        {\"template\":{\"data\":{\"bar\":[{\"error_x\":{\"color\":\"#2a3f5f\"},\"error_y\":{\"color\":\"#2a3f5f\"},\"marker\":{\"line\":{\"color\":\"#E5ECF6\",\"width\":0.5},\"pattern\":{\"fillmode\":\"overlay\",\"size\":10,\"solidity\":0.2}},\"type\":\"bar\"}],\"barpolar\":[{\"marker\":{\"line\":{\"color\":\"#E5ECF6\",\"width\":0.5},\"pattern\":{\"fillmode\":\"overlay\",\"size\":10,\"solidity\":0.2}},\"type\":\"barpolar\"}],\"carpet\":[{\"aaxis\":{\"endlinecolor\":\"#2a3f5f\",\"gridcolor\":\"white\",\"linecolor\":\"white\",\"minorgridcolor\":\"white\",\"startlinecolor\":\"#2a3f5f\"},\"baxis\":{\"endlinecolor\":\"#2a3f5f\",\"gridcolor\":\"white\",\"linecolor\":\"white\",\"minorgridcolor\":\"white\",\"startlinecolor\":\"#2a3f5f\"},\"type\":\"carpet\"}],\"choropleth\":[{\"colorbar\":{\"outlinewidth\":0,\"ticks\":\"\"},\"type\":\"choropleth\"}],\"contour\":[{\"colorbar\":{\"outlinewidth\":0,\"ticks\":\"\"},\"colorscale\":[[0.0,\"#0d0887\"],[0.1111111111111111,\"#46039f\"],[0.2222222222222222,\"#7201a8\"],[0.3333333333333333,\"#9c179e\"],[0.4444444444444444,\"#bd3786\"],[0.5555555555555556,\"#d8576b\"],[0.6666666666666666,\"#ed7953\"],[0.7777777777777778,\"#fb9f3a\"],[0.8888888888888888,\"#fdca26\"],[1.0,\"#f0f921\"]],\"type\":\"contour\"}],\"contourcarpet\":[{\"colorbar\":{\"outlinewidth\":0,\"ticks\":\"\"},\"type\":\"contourcarpet\"}],\"heatmap\":[{\"colorbar\":{\"outlinewidth\":0,\"ticks\":\"\"},\"colorscale\":[[0.0,\"#0d0887\"],[0.1111111111111111,\"#46039f\"],[0.2222222222222222,\"#7201a8\"],[0.3333333333333333,\"#9c179e\"],[0.4444444444444444,\"#bd3786\"],[0.5555555555555556,\"#d8576b\"],[0.6666666666666666,\"#ed7953\"],[0.7777777777777778,\"#fb9f3a\"],[0.8888888888888888,\"#fdca26\"],[1.0,\"#f0f921\"]],\"type\":\"heatmap\"}],\"heatmapgl\":[{\"colorbar\":{\"outlinewidth\":0,\"ticks\":\"\"},\"colorscale\":[[0.0,\"#0d0887\"],[0.1111111111111111,\"#46039f\"],[0.2222222222222222,\"#7201a8\"],[0.3333333333333333,\"#9c179e\"],[0.4444444444444444,\"#bd3786\"],[0.5555555555555556,\"#d8576b\"],[0.6666666666666666,\"#ed7953\"],[0.7777777777777778,\"#fb9f3a\"],[0.8888888888888888,\"#fdca26\"],[1.0,\"#f0f921\"]],\"type\":\"heatmapgl\"}],\"histogram\":[{\"marker\":{\"pattern\":{\"fillmode\":\"overlay\",\"size\":10,\"solidity\":0.2}},\"type\":\"histogram\"}],\"histogram2d\":[{\"colorbar\":{\"outlinewidth\":0,\"ticks\":\"\"},\"colorscale\":[[0.0,\"#0d0887\"],[0.1111111111111111,\"#46039f\"],[0.2222222222222222,\"#7201a8\"],[0.3333333333333333,\"#9c179e\"],[0.4444444444444444,\"#bd3786\"],[0.5555555555555556,\"#d8576b\"],[0.6666666666666666,\"#ed7953\"],[0.7777777777777778,\"#fb9f3a\"],[0.8888888888888888,\"#fdca26\"],[1.0,\"#f0f921\"]],\"type\":\"histogram2d\"}],\"histogram2dcontour\":[{\"colorbar\":{\"outlinewidth\":0,\"ticks\":\"\"},\"colorscale\":[[0.0,\"#0d0887\"],[0.1111111111111111,\"#46039f\"],[0.2222222222222222,\"#7201a8\"],[0.3333333333333333,\"#9c179e\"],[0.4444444444444444,\"#bd3786\"],[0.5555555555555556,\"#d8576b\"],[0.6666666666666666,\"#ed7953\"],[0.7777777777777778,\"#fb9f3a\"],[0.8888888888888888,\"#fdca26\"],[1.0,\"#f0f921\"]],\"type\":\"histogram2dcontour\"}],\"mesh3d\":[{\"colorbar\":{\"outlinewidth\":0,\"ticks\":\"\"},\"type\":\"mesh3d\"}],\"parcoords\":[{\"line\":{\"colorbar\":{\"outlinewidth\":0,\"ticks\":\"\"}},\"type\":\"parcoords\"}],\"pie\":[{\"automargin\":true,\"type\":\"pie\"}],\"scatter\":[{\"marker\":{\"colorbar\":{\"outlinewidth\":0,\"ticks\":\"\"}},\"type\":\"scatter\"}],\"scatter3d\":[{\"line\":{\"colorbar\":{\"outlinewidth\":0,\"ticks\":\"\"}},\"marker\":{\"colorbar\":{\"outlinewidth\":0,\"ticks\":\"\"}},\"type\":\"scatter3d\"}],\"scattercarpet\":[{\"marker\":{\"colorbar\":{\"outlinewidth\":0,\"ticks\":\"\"}},\"type\":\"scattercarpet\"}],\"scattergeo\":[{\"marker\":{\"colorbar\":{\"outlinewidth\":0,\"ticks\":\"\"}},\"type\":\"scattergeo\"}],\"scattergl\":[{\"marker\":{\"colorbar\":{\"outlinewidth\":0,\"ticks\":\"\"}},\"type\":\"scattergl\"}],\"scattermapbox\":[{\"marker\":{\"colorbar\":{\"outlinewidth\":0,\"ticks\":\"\"}},\"type\":\"scattermapbox\"}],\"scatterpolar\":[{\"marker\":{\"colorbar\":{\"outlinewidth\":0,\"ticks\":\"\"}},\"type\":\"scatterpolar\"}],\"scatterpolargl\":[{\"marker\":{\"colorbar\":{\"outlinewidth\":0,\"ticks\":\"\"}},\"type\":\"scatterpolargl\"}],\"scatterternary\":[{\"marker\":{\"colorbar\":{\"outlinewidth\":0,\"ticks\":\"\"}},\"type\":\"scatterternary\"}],\"surface\":[{\"colorbar\":{\"outlinewidth\":0,\"ticks\":\"\"},\"colorscale\":[[0.0,\"#0d0887\"],[0.1111111111111111,\"#46039f\"],[0.2222222222222222,\"#7201a8\"],[0.3333333333333333,\"#9c179e\"],[0.4444444444444444,\"#bd3786\"],[0.5555555555555556,\"#d8576b\"],[0.6666666666666666,\"#ed7953\"],[0.7777777777777778,\"#fb9f3a\"],[0.8888888888888888,\"#fdca26\"],[1.0,\"#f0f921\"]],\"type\":\"surface\"}],\"table\":[{\"cells\":{\"fill\":{\"color\":\"#EBF0F8\"},\"line\":{\"color\":\"white\"}},\"header\":{\"fill\":{\"color\":\"#C8D4E3\"},\"line\":{\"color\":\"white\"}},\"type\":\"table\"}]},\"layout\":{\"annotationdefaults\":{\"arrowcolor\":\"#2a3f5f\",\"arrowhead\":0,\"arrowwidth\":1},\"autotypenumbers\":\"strict\",\"coloraxis\":{\"colorbar\":{\"outlinewidth\":0,\"ticks\":\"\"}},\"colorscale\":{\"diverging\":[[0,\"#8e0152\"],[0.1,\"#c51b7d\"],[0.2,\"#de77ae\"],[0.3,\"#f1b6da\"],[0.4,\"#fde0ef\"],[0.5,\"#f7f7f7\"],[0.6,\"#e6f5d0\"],[0.7,\"#b8e186\"],[0.8,\"#7fbc41\"],[0.9,\"#4d9221\"],[1,\"#276419\"]],\"sequential\":[[0.0,\"#0d0887\"],[0.1111111111111111,\"#46039f\"],[0.2222222222222222,\"#7201a8\"],[0.3333333333333333,\"#9c179e\"],[0.4444444444444444,\"#bd3786\"],[0.5555555555555556,\"#d8576b\"],[0.6666666666666666,\"#ed7953\"],[0.7777777777777778,\"#fb9f3a\"],[0.8888888888888888,\"#fdca26\"],[1.0,\"#f0f921\"]],\"sequentialminus\":[[0.0,\"#0d0887\"],[0.1111111111111111,\"#46039f\"],[0.2222222222222222,\"#7201a8\"],[0.3333333333333333,\"#9c179e\"],[0.4444444444444444,\"#bd3786\"],[0.5555555555555556,\"#d8576b\"],[0.6666666666666666,\"#ed7953\"],[0.7777777777777778,\"#fb9f3a\"],[0.8888888888888888,\"#fdca26\"],[1.0,\"#f0f921\"]]},\"colorway\":[\"#636efa\",\"#EF553B\",\"#00cc96\",\"#ab63fa\",\"#FFA15A\",\"#19d3f3\",\"#FF6692\",\"#B6E880\",\"#FF97FF\",\"#FECB52\"],\"font\":{\"color\":\"#2a3f5f\"},\"geo\":{\"bgcolor\":\"white\",\"lakecolor\":\"white\",\"landcolor\":\"#E5ECF6\",\"showlakes\":true,\"showland\":true,\"subunitcolor\":\"white\"},\"hoverlabel\":{\"align\":\"left\"},\"hovermode\":\"closest\",\"mapbox\":{\"style\":\"light\"},\"paper_bgcolor\":\"white\",\"plot_bgcolor\":\"#E5ECF6\",\"polar\":{\"angularaxis\":{\"gridcolor\":\"white\",\"linecolor\":\"white\",\"ticks\":\"\"},\"bgcolor\":\"#E5ECF6\",\"radialaxis\":{\"gridcolor\":\"white\",\"linecolor\":\"white\",\"ticks\":\"\"}},\"scene\":{\"xaxis\":{\"backgroundcolor\":\"#E5ECF6\",\"gridcolor\":\"white\",\"gridwidth\":2,\"linecolor\":\"white\",\"showbackground\":true,\"ticks\":\"\",\"zerolinecolor\":\"white\"},\"yaxis\":{\"backgroundcolor\":\"#E5ECF6\",\"gridcolor\":\"white\",\"gridwidth\":2,\"linecolor\":\"white\",\"showbackground\":true,\"ticks\":\"\",\"zerolinecolor\":\"white\"},\"zaxis\":{\"backgroundcolor\":\"#E5ECF6\",\"gridcolor\":\"white\",\"gridwidth\":2,\"linecolor\":\"white\",\"showbackground\":true,\"ticks\":\"\",\"zerolinecolor\":\"white\"}},\"shapedefaults\":{\"line\":{\"color\":\"#2a3f5f\"}},\"ternary\":{\"aaxis\":{\"gridcolor\":\"white\",\"linecolor\":\"white\",\"ticks\":\"\"},\"baxis\":{\"gridcolor\":\"white\",\"linecolor\":\"white\",\"ticks\":\"\"},\"bgcolor\":\"#E5ECF6\",\"caxis\":{\"gridcolor\":\"white\",\"linecolor\":\"white\",\"ticks\":\"\"}},\"title\":{\"x\":0.05},\"xaxis\":{\"automargin\":true,\"gridcolor\":\"white\",\"linecolor\":\"white\",\"ticks\":\"\",\"title\":{\"standoff\":15},\"zerolinecolor\":\"white\",\"zerolinewidth\":2},\"yaxis\":{\"automargin\":true,\"gridcolor\":\"white\",\"linecolor\":\"white\",\"ticks\":\"\",\"title\":{\"standoff\":15},\"zerolinecolor\":\"white\",\"zerolinewidth\":2}}},\"xaxis\":{\"anchor\":\"y\",\"domain\":[0.0,1.0],\"title\":{\"text\":\"TotalOrderItems\"}},\"yaxis\":{\"anchor\":\"x\",\"domain\":[0.0,1.0],\"title\":{\"text\":\"PageViewsTotal\"}},\"legend\":{\"tracegroupgap\":0},\"title\":{\"text\":\"Relationship between Total Ordered Items & Total Page Views\"}},                        {\"responsive\": true}                    ).then(function(){\n",
              "                            \n",
              "var gd = document.getElementById('c19232a6-c5d0-48c8-9cec-6125e766d2aa');\n",
              "var x = new MutationObserver(function (mutations, observer) {{\n",
              "        var display = window.getComputedStyle(gd).display;\n",
              "        if (!display || display === 'none') {{\n",
              "            console.log([gd, 'removed!']);\n",
              "            Plotly.purge(gd);\n",
              "            observer.disconnect();\n",
              "        }}\n",
              "}});\n",
              "\n",
              "// Listen for the removal of the full notebook cells\n",
              "var notebookContainer = gd.closest('#notebook-container');\n",
              "if (notebookContainer) {{\n",
              "    x.observe(notebookContainer, {childList: true});\n",
              "}}\n",
              "\n",
              "// Listen for the clearing of the current output cell\n",
              "var outputEl = gd.closest('.output');\n",
              "if (outputEl) {{\n",
              "    x.observe(outputEl, {childList: true});\n",
              "}}\n",
              "\n",
              "                        })                };                            </script>        </div>\n",
              "</body>\n",
              "</html>"
            ]
          },
          "metadata": {}
        },
        {
          "output_type": "display_data",
          "data": {
            "text/html": [
              "<html>\n",
              "<head><meta charset=\"utf-8\" /></head>\n",
              "<body>\n",
              "    <div>            <script src=\"https://cdnjs.cloudflare.com/ajax/libs/mathjax/2.7.5/MathJax.js?config=TeX-AMS-MML_SVG\"></script><script type=\"text/javascript\">if (window.MathJax) {MathJax.Hub.Config({SVG: {font: \"STIX-Web\"}});}</script>                <script type=\"text/javascript\">window.PlotlyConfig = {MathJaxConfig: 'local'};</script>\n",
              "        <script src=\"https://cdn.plot.ly/plotly-2.8.3.min.js\"></script>                <div id=\"c454a720-c6ba-4d55-8661-258c960ce6a1\" class=\"plotly-graph-div\" style=\"height:525px; width:100%;\"></div>            <script type=\"text/javascript\">                                    window.PLOTLYENV=window.PLOTLYENV || {};                                    if (document.getElementById(\"c454a720-c6ba-4d55-8661-258c960ce6a1\")) {                    Plotly.newPlot(                        \"c454a720-c6ba-4d55-8661-258c960ce6a1\",                        [{\"hovertemplate\":\"TotalOrderItems=%{x}<br>PageViewsTotal=%{y}<extra></extra>\",\"legendgroup\":\"\",\"marker\":{\"color\":\"#636efa\",\"symbol\":\"circle\"},\"mode\":\"markers\",\"name\":\"\",\"orientation\":\"v\",\"showlegend\":false,\"x\":[3110.0,2790.0,2753.0,2748.0,2701.0,2639.0,2412.0,2320.0,2264.0,2262.0,2257.0,2249.0,2248.0,2230.0,2228.0,2180.0,2164.0,2155.0,2122.0,2063.0,2047.0,2044.0,2019.0,1994.0,1959.0,1918.0,1877.0,1874.0,1858.0,1827.0,1734.0,1725.0,1723.0,1686.0,1681.0,1679.0,1637.0,1630.0,1629.0,1628.0,1625.0,1614.0,1605.0,1601.0,1594.0,1555.0,1549.0,1529.0,1509.0,1504.0,1499.0,1477.0,1476.0,1466.0,1455.0,1438.0,1421.0,1420.0,1420.0,1409.0,1398.0,1397.0,1395.0,1395.0,1390.0,1387.0,1372.0,1364.0,1362.0,1357.0,1349.0,1347.0,1347.0,1336.0,1325.0,1295.0,1293.0,1293.0,1288.0,1288.0,1287.0,1285.0,1280.0,1274.0,1265.0,1260.0,1257.0,1250.0,1249.0,1233.0,1229.0,1224.0,1218.0,1195.0,1187.0,1180.0,1177.0,1172.0,1163.0,1147.0,1144.0,1135.0,1120.0,1118.0,1103.0,1092.0,1091.0,1091.0,1084.0,1081.0,1081.0,1079.0,1076.0,1073.0,1068.0,1058.0,1050.0,1038.0,1030.0,1029.0,1023.0,1019.0,1018.0,1013.0,1009.0,1005.0,996.0,996.0,991.0,987.0,983.0,975.0,974.0,964.0,961.0,953.0,949.0,947.0,947.0,941.0,926.0,926.0,916.0,909.0,894.0,892.0,885.0,874.0,865.0,855.0,854.0,852.0,848.0,845.0,840.0,828.0,826.0,823.0,822.0,804.0,802.0,778.0,775.0,775.0,770.0,763.0,762.0,758.0,757.0,756.0,751.0,740.0,740.0,732.0,731.0,730.0,725.0,720.0,718.0,718.0,715.0,715.0,713.0,710.0,707.0,702.0,702.0,701.0,697.0,695.0,694.0,691.0,685.0,678.0,675.0,675.0,673.0,670.0,669.0,667.0,659.0,659.0,658.0,656.0,656.0,654.0,654.0,653.0,643.0,638.0,636.0,634.0,633.0,629.0,626.0,625.0,622.0,620.0,618.0,618.0,615.0,611.0,611.0,607.0,607.0,607.0,602.0,599.0,597.0,592.0,591.0,590.0,587.0,584.0,580.0,578.0,577.0,575.0,574.0,572.0,561.0,560.0,558.0,555.0,553.0,553.0,552.0,547.0,541.0,539.0,535.0,534.0,534.0,525.0,523.0,523.0,517.0,516.0,513.0,513.0,510.0,506.0,504.0,504.0,502.0,501.0,498.0,496.0,493.0,489.0,481.0,481.0,479.0,478.0,477.0,475.0,474.0,466.0,459.0,453.0,452.0,446.0,442.0,440.0,439.0,437.0,433.0,431.0,430.0,429.0,427.0,414.0,411.0,410.0,410.0,409.0,409.0,408.0,403.0,399.0,396.0,395.0,395.0,390.0,390.0,389.0,389.0,387.0,382.0,374.0,369.0,361.0,358.0,358.0,356.0,353.0,352.0,351.0,349.0,347.0,346.0,345.0,343.0,340.0,338.0,332.0,331.0,328.0,326.0,326.0,319.0,316.0,311.0,306.0,305.0,304.0,300.0,300.0,300.0,299.0,297.0,296.0,293.0,292.0,288.0,286.0,284.0,283.0,283.0,272.0,266.0,264.0,262.0,260.0,258.0,257.0,252.0,248.0,243.0,238.0,234.0,227.0,225.0,224.0,222.0,221.0,221.0,217.0,212.0,210.0,209.0,206.0,204.0,197.0,196.0,193.0,191.0,181.0,177.0,165.0,165.0,164.0,161.0,159.0,158.0,158.0,156.0,156.0,151.0,149.0,147.0,146.0,144.0,143.0,136.0,133.0,133.0,132.0,130.0,128.0,125.0,123.0,121.0,118.0,117.0,114.0,111.0,104.0,101.0,94.0,75.0,73.0,69.0,68.0,59.0,57.0,57.0,56.0,55.0,52.0,51.0,50.0,47.0,45.0,45.0,45.0,42.0,38.0,36.0,28.0,26.0,22.0,19.0,19.0,15.0,14.0,13.0,12.0,11.0,8.0,8.0,4.0,2.0,2.0,1.0],\"xaxis\":\"x\",\"y\":[17765.0,14763.0,18796.0,14853.0,15413.0,16823.0,9562.0,12604.0,9679.0,12509.0,14110.0,14205.0,11265.0,12856.0,12025.0,8352.0,10712.0,12816.0,13996.0,17445.0,8316.0,11430.0,12977.0,11913.0,12242.0,8041.0,17937.0,8751.0,14011.0,13839.0,7599.0,12481.0,8070.0,11260.0,15905.0,8560.0,11894.0,9712.0,9096.0,8441.0,8735.0,8173.0,8003.0,7193.0,9246.0,15037.0,16980.0,7794.0,6047.0,9949.0,15777.0,9704.0,9559.0,8993.0,7141.0,8909.0,10220.0,6722.0,7388.0,8601.0,11534.0,6846.0,9359.0,7539.0,9382.0,6311.0,9751.0,13123.0,6969.0,7616.0,8885.0,17161.0,8648.0,6873.0,14007.0,7796.0,5658.0,8367.0,7796.0,6713.0,9101.0,10134.0,6424.0,8223.0,6043.0,14163.0,8506.0,8967.0,6553.0,5429.0,6721.0,8995.0,5745.0,6804.0,5641.0,7950.0,6445.0,12983.0,6308.0,5972.0,7828.0,6122.0,5387.0,4977.0,4213.0,9282.0,5450.0,10206.0,11191.0,8251.0,8243.0,6380.0,7620.0,4891.0,5742.0,6963.0,8272.0,6435.0,7647.0,6347.0,7202.0,4653.0,4281.0,4943.0,6215.0,5393.0,8966.0,6185.0,9333.0,5699.0,5004.0,4601.0,7319.0,4963.0,5505.0,9647.0,4850.0,6853.0,6423.0,5506.0,3998.0,5297.0,5942.0,4304.0,5733.0,5824.0,4987.0,4807.0,5063.0,5366.0,5512.0,7584.0,6298.0,9870.0,8741.0,4177.0,5439.0,7894.0,8945.0,8742.0,8886.0,6737.0,4631.0,4082.0,4580.0,4511.0,4820.0,3465.0,5103.0,4280.0,4280.0,3542.0,5069.0,4409.0,3014.0,4025.0,3446.0,3821.0,6306.0,7298.0,6522.0,4542.0,4116.0,3396.0,2898.0,8288.0,3193.0,4442.0,8109.0,7479.0,3962.0,5291.0,3410.0,5784.0,3620.0,3113.0,5201.0,3313.0,4590.0,5243.0,7006.0,6735.0,5366.0,3927.0,7594.0,3188.0,5751.0,4255.0,2588.0,4588.0,6779.0,3188.0,3083.0,11125.0,4814.0,3124.0,4723.0,3848.0,3265.0,3427.0,4341.0,8421.0,3912.0,4240.0,3211.0,3498.0,4187.0,2471.0,3419.0,3345.0,3034.0,5373.0,5788.0,3033.0,7826.0,3431.0,2299.0,3710.0,2941.0,4593.0,2666.0,4127.0,3228.0,2767.0,3136.0,4702.0,3209.0,3073.0,3034.0,3490.0,3996.0,2354.0,3014.0,2993.0,3993.0,4291.0,3390.0,5638.0,3386.0,3722.0,4767.0,2543.0,2352.0,7390.0,3320.0,2857.0,3068.0,2700.0,3738.0,4090.0,2860.0,2628.0,2024.0,2627.0,2849.0,3629.0,2773.0,2824.0,2358.0,2776.0,3114.0,1905.0,3810.0,2775.0,3581.0,2668.0,1643.0,3000.0,3776.0,1830.0,2523.0,3119.0,2268.0,2206.0,2475.0,2090.0,2310.0,1753.0,3912.0,2620.0,2750.0,2764.0,2346.0,2302.0,4090.0,3799.0,1753.0,2374.0,2793.0,3583.0,1876.0,2992.0,1574.0,2572.0,2912.0,1987.0,2375.0,2218.0,3963.0,3074.0,1986.0,2216.0,3080.0,3150.0,5067.0,4698.0,5161.0,2520.0,2236.0,2310.0,2128.0,3567.0,1815.0,4421.0,2487.0,3626.0,2713.0,1680.0,2957.0,1700.0,1473.0,2625.0,3974.0,1653.0,2384.0,2548.0,1608.0,3028.0,1693.0,1781.0,3581.0,2177.0,2272.0,1546.0,1367.0,1475.0,1327.0,3153.0,3108.0,1858.0,3040.0,2054.0,1283.0,2261.0,1929.0,1685.0,1349.0,1186.0,1890.0,4193.0,1064.0,1799.0,1159.0,1409.0,1041.0,1197.0,2372.0,1147.0,3549.0,1041.0,1235.0,1055.0,3916.0,1986.0,1007.0,1294.0,776.0,858.0,1038.0,794.0,1464.0,797.0,1540.0,916.0,701.0,1219.0,765.0,1019.0,868.0,977.0,1227.0,1654.0,907.0,592.0,5742.0,1530.0,1871.0,2048.0,582.0,3012.0,552.0,809.0,492.0,801.0,559.0,569.0,1314.0,593.0,419.0,438.0,524.0,1189.0,443.0,426.0,1279.0,195.0,484.0,611.0,573.0,475.0,480.0,674.0,701.0,438.0,512.0,874.0,345.0,153.0,287.0,95.0,211.0,158.0,389.0,334.0,85.0],\"yaxis\":\"y\",\"type\":\"scatter\"},{\"hovertemplate\":\"<b>OLS trendline</b><br>PageViewsTotal = 5.69404 * TotalOrderItems + 716.36<br>R<sup>2</sup>=0.797153<br><br>TotalOrderItems=%{x}<br>PageViewsTotal=%{y} <b>(trend)</b><extra></extra>\",\"legendgroup\":\"\",\"marker\":{\"color\":\"#636efa\",\"symbol\":\"circle\"},\"mode\":\"lines\",\"name\":\"\",\"showlegend\":false,\"x\":[1.0,2.0,2.0,4.0,8.0,8.0,11.0,12.0,13.0,14.0,15.0,19.0,19.0,22.0,26.0,28.0,36.0,38.0,42.0,45.0,45.0,45.0,47.0,50.0,51.0,52.0,55.0,56.0,57.0,57.0,59.0,68.0,69.0,73.0,75.0,94.0,101.0,104.0,111.0,114.0,117.0,118.0,121.0,123.0,125.0,128.0,130.0,132.0,133.0,133.0,136.0,143.0,144.0,146.0,147.0,149.0,151.0,156.0,156.0,158.0,158.0,159.0,161.0,164.0,165.0,165.0,177.0,181.0,191.0,193.0,196.0,197.0,204.0,206.0,209.0,210.0,212.0,217.0,221.0,221.0,222.0,224.0,225.0,227.0,234.0,238.0,243.0,248.0,252.0,257.0,258.0,260.0,262.0,264.0,266.0,272.0,283.0,283.0,284.0,286.0,288.0,292.0,293.0,296.0,297.0,299.0,300.0,300.0,300.0,304.0,305.0,306.0,311.0,316.0,319.0,326.0,326.0,328.0,331.0,332.0,338.0,340.0,343.0,345.0,346.0,347.0,349.0,351.0,352.0,353.0,356.0,358.0,358.0,361.0,369.0,374.0,382.0,387.0,389.0,389.0,390.0,390.0,395.0,395.0,396.0,399.0,403.0,408.0,409.0,409.0,410.0,410.0,411.0,414.0,427.0,429.0,430.0,431.0,433.0,437.0,439.0,440.0,442.0,446.0,452.0,453.0,459.0,466.0,474.0,475.0,477.0,478.0,479.0,481.0,481.0,489.0,493.0,496.0,498.0,501.0,502.0,504.0,504.0,506.0,510.0,513.0,513.0,516.0,517.0,523.0,523.0,525.0,534.0,534.0,535.0,539.0,541.0,547.0,552.0,553.0,553.0,555.0,558.0,560.0,561.0,572.0,574.0,575.0,577.0,578.0,580.0,584.0,587.0,590.0,591.0,592.0,597.0,599.0,602.0,607.0,607.0,607.0,611.0,611.0,615.0,618.0,618.0,620.0,622.0,625.0,626.0,629.0,633.0,634.0,636.0,638.0,643.0,653.0,654.0,654.0,656.0,656.0,658.0,659.0,659.0,667.0,669.0,670.0,673.0,675.0,675.0,678.0,685.0,691.0,694.0,695.0,697.0,701.0,702.0,702.0,707.0,710.0,713.0,715.0,715.0,718.0,718.0,720.0,725.0,730.0,731.0,732.0,740.0,740.0,751.0,756.0,757.0,758.0,762.0,763.0,770.0,775.0,775.0,778.0,802.0,804.0,822.0,823.0,826.0,828.0,840.0,845.0,848.0,852.0,854.0,855.0,865.0,874.0,885.0,892.0,894.0,909.0,916.0,926.0,926.0,941.0,947.0,947.0,949.0,953.0,961.0,964.0,974.0,975.0,983.0,987.0,991.0,996.0,996.0,1005.0,1009.0,1013.0,1018.0,1019.0,1023.0,1029.0,1030.0,1038.0,1050.0,1058.0,1068.0,1073.0,1076.0,1079.0,1081.0,1081.0,1084.0,1091.0,1091.0,1092.0,1103.0,1118.0,1120.0,1135.0,1144.0,1147.0,1163.0,1172.0,1177.0,1180.0,1187.0,1195.0,1218.0,1224.0,1229.0,1233.0,1249.0,1250.0,1257.0,1260.0,1265.0,1274.0,1280.0,1285.0,1287.0,1288.0,1288.0,1293.0,1293.0,1295.0,1325.0,1336.0,1347.0,1347.0,1349.0,1357.0,1362.0,1364.0,1372.0,1387.0,1390.0,1395.0,1395.0,1397.0,1398.0,1409.0,1420.0,1420.0,1421.0,1438.0,1455.0,1466.0,1476.0,1477.0,1499.0,1504.0,1509.0,1529.0,1549.0,1555.0,1594.0,1601.0,1605.0,1614.0,1625.0,1628.0,1629.0,1630.0,1637.0,1679.0,1681.0,1686.0,1723.0,1725.0,1734.0,1827.0,1858.0,1874.0,1877.0,1918.0,1959.0,1994.0,2019.0,2044.0,2047.0,2063.0,2122.0,2155.0,2164.0,2180.0,2228.0,2230.0,2248.0,2249.0,2257.0,2262.0,2264.0,2320.0,2412.0,2639.0,2701.0,2748.0,2753.0,2790.0,3110.0],\"xaxis\":\"x\",\"y\":[722.0536694961817,727.7477069358473,727.7477069358473,739.1357818151785,761.9119315738407,761.9119315738407,778.9940438928375,784.688081332503,790.3821187721686,796.0761562118341,801.7701936514998,824.546343410162,824.546343410162,841.6284557291588,864.404605487821,875.7926803671521,921.3449798844767,932.7330547638078,955.5092045224701,972.5913168414668,972.5913168414668,972.5913168414668,983.9793917207979,1001.0615040397947,1006.7555414794602,1012.4495789191258,1029.5316912381224,1035.225728677788,1040.9197661174537,1040.9197661174537,1052.3078409967848,1103.5541779537748,1109.2482153934404,1132.0243651521027,1143.412440031434,1251.5991513850797,1291.4574134627387,1308.5395257817354,1348.3977878593946,1365.4799001783913,1382.562012497388,1388.2560499370534,1405.33816225605,1416.7262371353813,1428.1143120147126,1445.1964243337093,1456.5844992130403,1467.9725740923714,1473.666611532037,1473.666611532037,1490.7487238510337,1530.6069859286927,1536.3010233683583,1547.6890982476893,1553.383135687355,1564.771210566686,1576.1592854460173,1604.6294726443452,1604.6294726443452,1616.0175475236763,1616.0175475236763,1621.711584963342,1633.099659842673,1650.1817721616696,1655.8758096013353,1655.8758096013353,1724.204258877322,1746.9804086359843,1803.9207830326402,1815.3088579119712,1832.390970230968,1838.0850076706336,1877.9432697482926,1889.3313446276236,1906.4134569466203,1912.107494386286,1923.4955692656172,1951.965756463945,1974.7419062226072,1974.7419062226072,1980.4359436622728,1991.824018541604,1997.5180559812695,2008.9061308606006,2048.7643929382593,2071.540542696922,2100.01072989525,2128.480917093578,2151.25706685224,2179.727254050568,2185.421291490233,2196.8093663695645,2208.1974412488953,2219.585516128227,2230.973591007558,2265.137815645551,2327.7722274818725,2327.7722274818725,2333.466264921538,2344.854339800869,2356.2424146802005,2379.018564438863,2384.7126018785284,2401.794714197525,2407.4887516371905,2418.8768265165218,2424.570863956187,2424.570863956187,2424.570863956187,2447.3470137148497,2453.041051154515,2458.7350885941805,2487.2052757925085,2515.6754629908364,2532.757575309833,2572.6158373874923,2572.6158373874923,2584.003912266823,2601.0860245858203,2606.7800620254857,2640.944286663479,2652.33236154281,2669.414473861807,2680.802548741138,2686.496586180803,2692.190623620469,2703.5786984998003,2714.966773379131,2720.660810818797,2726.3548482584624,2743.436960577459,2754.8250354567904,2754.8250354567904,2771.907147775787,2817.4594472931117,2845.9296344914396,2891.4819340087643,2919.9521212070917,2931.340196086423,2931.340196086423,2937.0342335260884,2937.0342335260884,2965.5044207244164,2965.5044207244164,2971.1984581640822,2988.280570483079,3011.056720241741,3039.526907440069,3045.2209448797344,3045.2209448797344,3050.9149823194,3050.9149823194,3056.6090197590656,3073.6911320780623,3147.713618793715,3159.1016936730457,3164.7957311127116,3170.489768552377,3181.8778434317082,3204.6539931903703,3216.0420680697016,3221.736105509367,3233.1241803886983,3255.9003301473604,3290.064554785354,3295.7585922250196,3329.922816863013,3369.781078940672,3415.3333784579963,3421.027415897662,3432.415490776993,3438.109528216659,3443.8035656563243,3455.1916405356556,3455.1916405356556,3500.74394005298,3523.5200898116423,3540.602202130639,3551.99027700997,3569.072389328967,3574.7664267686323,3586.1545016479636,3586.1545016479636,3597.542576527295,3620.318726285957,3637.4008386049536,3637.4008386049536,3654.4829509239503,3660.176988363616,3694.3412130016095,3694.3412130016095,3705.729287880941,3756.975624837931,3756.975624837931,3762.669662277596,3785.4458120362588,3796.8338869155896,3830.9981115535834,3859.468298751911,3865.1623361915767,3865.1623361915767,3876.5504110709076,3893.6325233899042,3905.0205982692355,3910.7146357089014,3973.349047545222,3984.7371224245535,3990.4311598642194,4001.81923474355,4007.513272183216,4018.901347062547,4041.6774968212094,4058.759609140206,4075.8417214592027,4081.535758898868,4087.229796338534,4115.6999835368615,4127.088058416193,4144.1701707351895,4172.640357933517,4172.640357933517,4172.640357933517,4195.41650769218,4195.41650769218,4218.192657450842,4235.274769769839,4235.274769769839,4246.66284464917,4258.050919528501,4275.1330318474975,4280.827069287163,4297.90918160616,4320.685331364823,4326.379368804488,4337.767443683819,4349.15551856315,4377.6257057614785,4434.566080158133,4440.2601175978,4440.2601175978,4451.648192477131,4451.648192477131,4463.036267356461,4468.730304796127,4468.730304796127,4514.282604313452,4525.670679192783,4531.364716632448,4548.446828951445,4559.834903830776,4559.834903830776,4576.917016149773,4616.775278227432,4650.939502865425,4668.0216151844215,4673.715652624087,4685.103727503419,4707.879877262081,4713.573914701747,4713.573914701747,4742.044101900075,4759.126214219072,4776.208326538068,4787.596401417399,4787.596401417399,4804.678513736396,4804.678513736396,4816.066588615728,4844.536775814055,4873.006963012382,4878.701000452049,4884.395037891714,4929.947337409038,4929.947337409038,4992.581749245359,5021.051936443688,5026.745973883353,5032.440011323019,5055.21616108168,5060.910198521346,5100.768460599005,5129.238647797334,5129.238647797334,5146.32076011633,5282.977658668304,5294.365733547635,5396.858407461616,5402.552444901281,5419.634557220277,5431.022632099608,5499.351081375595,5527.821268573924,5544.90338089292,5567.679530651581,5579.067605530914,5584.7616429705795,5641.702017367235,5692.948354324224,5755.582766160545,5795.441028238205,5806.829103117536,5892.239664712519,5932.0979267901785,5989.038301186834,5989.038301186834,6074.448862781817,6108.613087419812,6108.613087419812,6120.001162299142,6142.777312057804,6188.329611575129,6205.411723894125,6262.352098290781,6268.046135730447,6313.598435247772,6336.374585006433,6359.150734765097,6387.620921963424,6387.620921963424,6438.867258920414,6461.643408679076,6484.419558437739,6512.889745636066,6518.583783075732,6541.359932834395,6575.524157472388,6581.218194912053,6626.770494429378,6695.098943705365,6740.65124322269,6797.591617619346,6826.061804817673,6843.143917136669,6860.226029455667,6871.614104334998,6871.614104334998,6888.696216653994,6928.554478731654,6928.554478731654,6934.248516171319,6996.882928007641,7082.293489602624,7093.681564481954,7179.092126076939,7230.338463033928,7247.420575352926,7338.525174387574,7389.771511344565,7418.241698542892,7435.32381086189,7475.182072939548,7520.734372456873,7651.697233569181,7685.861458207175,7714.331645405502,7737.107795164164,7828.212394198814,7833.906431638479,7873.764693716139,7890.846806035135,7919.316993233462,7970.563330190453,8004.727554828447,8033.197742026774,8044.585816906105,8050.27985434577,8050.27985434577,8078.750041544099,8078.750041544099,8090.13811642343,8260.959239613398,8323.593651449719,8386.22806328604,8386.22806328604,8397.616138165371,8443.168437682696,8471.638624881023,8483.026699760354,8528.578999277679,8613.989560872662,8631.071673191658,8659.541860389987,8659.541860389987,8670.929935269318,8676.623972708983,8739.258384545305,8801.892796381626,8801.892796381626,8807.586833821291,8904.385470295607,9001.18410676992,9063.818518606242,9120.758893002898,9126.452930442563,9251.721754115206,9280.191941313533,9308.662128511862,9422.542877305174,9536.423626098484,9570.587850736478,9792.655310883434,9832.513572961094,9855.289722719755,9906.536059676746,9969.170471513067,9986.252583832063,9991.94662127173,9997.640658711396,10037.498920789054,10276.648493255008,10288.03656813434,10316.506755332668,10527.186140600294,10538.574215479624,10589.820552436615,11119.366034325512,11295.881194955145,11386.985793989794,11404.067906308792,11637.523441335079,11870.978976361368,12070.270286749663,12212.621222741302,12354.972158732942,12372.054271051938,12463.158870086587,12799.107079026857,12987.01031453582,13038.25665149281,13129.36125052746,13402.675047631406,13414.063122510737,13516.555796424718,13522.249833864384,13567.802133381709,13596.272320580036,13607.660395459367,13926.526492080638,14450.377936529872,15742.924435333956,16095.95475659322,16363.574516257504,16392.04470345583,16602.72408872346,18424.81606941644],\"yaxis\":\"y\",\"type\":\"scatter\"}],                        {\"template\":{\"data\":{\"bar\":[{\"error_x\":{\"color\":\"#2a3f5f\"},\"error_y\":{\"color\":\"#2a3f5f\"},\"marker\":{\"line\":{\"color\":\"#E5ECF6\",\"width\":0.5},\"pattern\":{\"fillmode\":\"overlay\",\"size\":10,\"solidity\":0.2}},\"type\":\"bar\"}],\"barpolar\":[{\"marker\":{\"line\":{\"color\":\"#E5ECF6\",\"width\":0.5},\"pattern\":{\"fillmode\":\"overlay\",\"size\":10,\"solidity\":0.2}},\"type\":\"barpolar\"}],\"carpet\":[{\"aaxis\":{\"endlinecolor\":\"#2a3f5f\",\"gridcolor\":\"white\",\"linecolor\":\"white\",\"minorgridcolor\":\"white\",\"startlinecolor\":\"#2a3f5f\"},\"baxis\":{\"endlinecolor\":\"#2a3f5f\",\"gridcolor\":\"white\",\"linecolor\":\"white\",\"minorgridcolor\":\"white\",\"startlinecolor\":\"#2a3f5f\"},\"type\":\"carpet\"}],\"choropleth\":[{\"colorbar\":{\"outlinewidth\":0,\"ticks\":\"\"},\"type\":\"choropleth\"}],\"contour\":[{\"colorbar\":{\"outlinewidth\":0,\"ticks\":\"\"},\"colorscale\":[[0.0,\"#0d0887\"],[0.1111111111111111,\"#46039f\"],[0.2222222222222222,\"#7201a8\"],[0.3333333333333333,\"#9c179e\"],[0.4444444444444444,\"#bd3786\"],[0.5555555555555556,\"#d8576b\"],[0.6666666666666666,\"#ed7953\"],[0.7777777777777778,\"#fb9f3a\"],[0.8888888888888888,\"#fdca26\"],[1.0,\"#f0f921\"]],\"type\":\"contour\"}],\"contourcarpet\":[{\"colorbar\":{\"outlinewidth\":0,\"ticks\":\"\"},\"type\":\"contourcarpet\"}],\"heatmap\":[{\"colorbar\":{\"outlinewidth\":0,\"ticks\":\"\"},\"colorscale\":[[0.0,\"#0d0887\"],[0.1111111111111111,\"#46039f\"],[0.2222222222222222,\"#7201a8\"],[0.3333333333333333,\"#9c179e\"],[0.4444444444444444,\"#bd3786\"],[0.5555555555555556,\"#d8576b\"],[0.6666666666666666,\"#ed7953\"],[0.7777777777777778,\"#fb9f3a\"],[0.8888888888888888,\"#fdca26\"],[1.0,\"#f0f921\"]],\"type\":\"heatmap\"}],\"heatmapgl\":[{\"colorbar\":{\"outlinewidth\":0,\"ticks\":\"\"},\"colorscale\":[[0.0,\"#0d0887\"],[0.1111111111111111,\"#46039f\"],[0.2222222222222222,\"#7201a8\"],[0.3333333333333333,\"#9c179e\"],[0.4444444444444444,\"#bd3786\"],[0.5555555555555556,\"#d8576b\"],[0.6666666666666666,\"#ed7953\"],[0.7777777777777778,\"#fb9f3a\"],[0.8888888888888888,\"#fdca26\"],[1.0,\"#f0f921\"]],\"type\":\"heatmapgl\"}],\"histogram\":[{\"marker\":{\"pattern\":{\"fillmode\":\"overlay\",\"size\":10,\"solidity\":0.2}},\"type\":\"histogram\"}],\"histogram2d\":[{\"colorbar\":{\"outlinewidth\":0,\"ticks\":\"\"},\"colorscale\":[[0.0,\"#0d0887\"],[0.1111111111111111,\"#46039f\"],[0.2222222222222222,\"#7201a8\"],[0.3333333333333333,\"#9c179e\"],[0.4444444444444444,\"#bd3786\"],[0.5555555555555556,\"#d8576b\"],[0.6666666666666666,\"#ed7953\"],[0.7777777777777778,\"#fb9f3a\"],[0.8888888888888888,\"#fdca26\"],[1.0,\"#f0f921\"]],\"type\":\"histogram2d\"}],\"histogram2dcontour\":[{\"colorbar\":{\"outlinewidth\":0,\"ticks\":\"\"},\"colorscale\":[[0.0,\"#0d0887\"],[0.1111111111111111,\"#46039f\"],[0.2222222222222222,\"#7201a8\"],[0.3333333333333333,\"#9c179e\"],[0.4444444444444444,\"#bd3786\"],[0.5555555555555556,\"#d8576b\"],[0.6666666666666666,\"#ed7953\"],[0.7777777777777778,\"#fb9f3a\"],[0.8888888888888888,\"#fdca26\"],[1.0,\"#f0f921\"]],\"type\":\"histogram2dcontour\"}],\"mesh3d\":[{\"colorbar\":{\"outlinewidth\":0,\"ticks\":\"\"},\"type\":\"mesh3d\"}],\"parcoords\":[{\"line\":{\"colorbar\":{\"outlinewidth\":0,\"ticks\":\"\"}},\"type\":\"parcoords\"}],\"pie\":[{\"automargin\":true,\"type\":\"pie\"}],\"scatter\":[{\"marker\":{\"colorbar\":{\"outlinewidth\":0,\"ticks\":\"\"}},\"type\":\"scatter\"}],\"scatter3d\":[{\"line\":{\"colorbar\":{\"outlinewidth\":0,\"ticks\":\"\"}},\"marker\":{\"colorbar\":{\"outlinewidth\":0,\"ticks\":\"\"}},\"type\":\"scatter3d\"}],\"scattercarpet\":[{\"marker\":{\"colorbar\":{\"outlinewidth\":0,\"ticks\":\"\"}},\"type\":\"scattercarpet\"}],\"scattergeo\":[{\"marker\":{\"colorbar\":{\"outlinewidth\":0,\"ticks\":\"\"}},\"type\":\"scattergeo\"}],\"scattergl\":[{\"marker\":{\"colorbar\":{\"outlinewidth\":0,\"ticks\":\"\"}},\"type\":\"scattergl\"}],\"scattermapbox\":[{\"marker\":{\"colorbar\":{\"outlinewidth\":0,\"ticks\":\"\"}},\"type\":\"scattermapbox\"}],\"scatterpolar\":[{\"marker\":{\"colorbar\":{\"outlinewidth\":0,\"ticks\":\"\"}},\"type\":\"scatterpolar\"}],\"scatterpolargl\":[{\"marker\":{\"colorbar\":{\"outlinewidth\":0,\"ticks\":\"\"}},\"type\":\"scatterpolargl\"}],\"scatterternary\":[{\"marker\":{\"colorbar\":{\"outlinewidth\":0,\"ticks\":\"\"}},\"type\":\"scatterternary\"}],\"surface\":[{\"colorbar\":{\"outlinewidth\":0,\"ticks\":\"\"},\"colorscale\":[[0.0,\"#0d0887\"],[0.1111111111111111,\"#46039f\"],[0.2222222222222222,\"#7201a8\"],[0.3333333333333333,\"#9c179e\"],[0.4444444444444444,\"#bd3786\"],[0.5555555555555556,\"#d8576b\"],[0.6666666666666666,\"#ed7953\"],[0.7777777777777778,\"#fb9f3a\"],[0.8888888888888888,\"#fdca26\"],[1.0,\"#f0f921\"]],\"type\":\"surface\"}],\"table\":[{\"cells\":{\"fill\":{\"color\":\"#EBF0F8\"},\"line\":{\"color\":\"white\"}},\"header\":{\"fill\":{\"color\":\"#C8D4E3\"},\"line\":{\"color\":\"white\"}},\"type\":\"table\"}]},\"layout\":{\"annotationdefaults\":{\"arrowcolor\":\"#2a3f5f\",\"arrowhead\":0,\"arrowwidth\":1},\"autotypenumbers\":\"strict\",\"coloraxis\":{\"colorbar\":{\"outlinewidth\":0,\"ticks\":\"\"}},\"colorscale\":{\"diverging\":[[0,\"#8e0152\"],[0.1,\"#c51b7d\"],[0.2,\"#de77ae\"],[0.3,\"#f1b6da\"],[0.4,\"#fde0ef\"],[0.5,\"#f7f7f7\"],[0.6,\"#e6f5d0\"],[0.7,\"#b8e186\"],[0.8,\"#7fbc41\"],[0.9,\"#4d9221\"],[1,\"#276419\"]],\"sequential\":[[0.0,\"#0d0887\"],[0.1111111111111111,\"#46039f\"],[0.2222222222222222,\"#7201a8\"],[0.3333333333333333,\"#9c179e\"],[0.4444444444444444,\"#bd3786\"],[0.5555555555555556,\"#d8576b\"],[0.6666666666666666,\"#ed7953\"],[0.7777777777777778,\"#fb9f3a\"],[0.8888888888888888,\"#fdca26\"],[1.0,\"#f0f921\"]],\"sequentialminus\":[[0.0,\"#0d0887\"],[0.1111111111111111,\"#46039f\"],[0.2222222222222222,\"#7201a8\"],[0.3333333333333333,\"#9c179e\"],[0.4444444444444444,\"#bd3786\"],[0.5555555555555556,\"#d8576b\"],[0.6666666666666666,\"#ed7953\"],[0.7777777777777778,\"#fb9f3a\"],[0.8888888888888888,\"#fdca26\"],[1.0,\"#f0f921\"]]},\"colorway\":[\"#636efa\",\"#EF553B\",\"#00cc96\",\"#ab63fa\",\"#FFA15A\",\"#19d3f3\",\"#FF6692\",\"#B6E880\",\"#FF97FF\",\"#FECB52\"],\"font\":{\"color\":\"#2a3f5f\"},\"geo\":{\"bgcolor\":\"white\",\"lakecolor\":\"white\",\"landcolor\":\"#E5ECF6\",\"showlakes\":true,\"showland\":true,\"subunitcolor\":\"white\"},\"hoverlabel\":{\"align\":\"left\"},\"hovermode\":\"closest\",\"mapbox\":{\"style\":\"light\"},\"paper_bgcolor\":\"white\",\"plot_bgcolor\":\"#E5ECF6\",\"polar\":{\"angularaxis\":{\"gridcolor\":\"white\",\"linecolor\":\"white\",\"ticks\":\"\"},\"bgcolor\":\"#E5ECF6\",\"radialaxis\":{\"gridcolor\":\"white\",\"linecolor\":\"white\",\"ticks\":\"\"}},\"scene\":{\"xaxis\":{\"backgroundcolor\":\"#E5ECF6\",\"gridcolor\":\"white\",\"gridwidth\":2,\"linecolor\":\"white\",\"showbackground\":true,\"ticks\":\"\",\"zerolinecolor\":\"white\"},\"yaxis\":{\"backgroundcolor\":\"#E5ECF6\",\"gridcolor\":\"white\",\"gridwidth\":2,\"linecolor\":\"white\",\"showbackground\":true,\"ticks\":\"\",\"zerolinecolor\":\"white\"},\"zaxis\":{\"backgroundcolor\":\"#E5ECF6\",\"gridcolor\":\"white\",\"gridwidth\":2,\"linecolor\":\"white\",\"showbackground\":true,\"ticks\":\"\",\"zerolinecolor\":\"white\"}},\"shapedefaults\":{\"line\":{\"color\":\"#2a3f5f\"}},\"ternary\":{\"aaxis\":{\"gridcolor\":\"white\",\"linecolor\":\"white\",\"ticks\":\"\"},\"baxis\":{\"gridcolor\":\"white\",\"linecolor\":\"white\",\"ticks\":\"\"},\"bgcolor\":\"#E5ECF6\",\"caxis\":{\"gridcolor\":\"white\",\"linecolor\":\"white\",\"ticks\":\"\"}},\"title\":{\"x\":0.05},\"xaxis\":{\"automargin\":true,\"gridcolor\":\"white\",\"linecolor\":\"white\",\"ticks\":\"\",\"title\":{\"standoff\":15},\"zerolinecolor\":\"white\",\"zerolinewidth\":2},\"yaxis\":{\"automargin\":true,\"gridcolor\":\"white\",\"linecolor\":\"white\",\"ticks\":\"\",\"title\":{\"standoff\":15},\"zerolinecolor\":\"white\",\"zerolinewidth\":2}}},\"xaxis\":{\"anchor\":\"y\",\"domain\":[0.0,1.0],\"title\":{\"text\":\"TotalOrderItems\"}},\"yaxis\":{\"anchor\":\"x\",\"domain\":[0.0,1.0],\"title\":{\"text\":\"PageViewsTotal\"}},\"legend\":{\"tracegroupgap\":0},\"title\":{\"text\":\"Relationship between Total Ordered Items & Total Page Views\"}},                        {\"responsive\": true}                    ).then(function(){\n",
              "                            \n",
              "var gd = document.getElementById('c454a720-c6ba-4d55-8661-258c960ce6a1');\n",
              "var x = new MutationObserver(function (mutations, observer) {{\n",
              "        var display = window.getComputedStyle(gd).display;\n",
              "        if (!display || display === 'none') {{\n",
              "            console.log([gd, 'removed!']);\n",
              "            Plotly.purge(gd);\n",
              "            observer.disconnect();\n",
              "        }}\n",
              "}});\n",
              "\n",
              "// Listen for the removal of the full notebook cells\n",
              "var notebookContainer = gd.closest('#notebook-container');\n",
              "if (notebookContainer) {{\n",
              "    x.observe(notebookContainer, {childList: true});\n",
              "}}\n",
              "\n",
              "// Listen for the clearing of the current output cell\n",
              "var outputEl = gd.closest('.output');\n",
              "if (outputEl) {{\n",
              "    x.observe(outputEl, {childList: true});\n",
              "}}\n",
              "\n",
              "                        })                };                            </script>        </div>\n",
              "</body>\n",
              "</html>"
            ]
          },
          "metadata": {}
        }
      ]
    },
    {
      "cell_type": "markdown",
      "source": [
        "Here we can see that there seems to be a strong positive linear relationship between the Page Views and Ordered Items as all the points follow the trend line closely.\n",
        "\n",
        "Lets calculate the correlation coefficent ..."
      ],
      "metadata": {
        "id": "9cUxc11kLANH"
      }
    },
    {
      "cell_type": "code",
      "source": [
        "# If we wanted to see all the correlation coefficents in a table, follow this code below\n",
        "correlation_table = data_no.corr()\n",
        "\n",
        "# For our purposes right now we only need to look at the Page Views and Ordered Items so ...\n",
        "correlation_table['PageViewsTotal'].sort_values(ascending=False)"
      ],
      "metadata": {
        "colab": {
          "base_uri": "https://localhost:8080/"
        },
        "id": "hka3RnfKiG8J",
        "outputId": "c90991d7-5b5e-4165-ed4e-ca595a0b0016"
      },
      "execution_count": null,
      "outputs": [
        {
          "output_type": "execute_result",
          "data": {
            "text/plain": [
              "PageViewsTotal                      1.000000\n",
              "PageViewsPercentageTotal            0.998906\n",
              "SessionsTotal                       0.997413\n",
              "SessionPercentageTotal              0.996187\n",
              "OrderedProductSales                 0.940271\n",
              "TotalOrderItems                     0.892834\n",
              "UnitsOrdered                        0.890339\n",
              "OrderedProductSalesB2B              0.830764\n",
              "TotalOrderItemsB2B                  0.797119\n",
              "UnitsOrderedB2B                     0.757639\n",
              "SessionsTotalB2B                    0.641198\n",
              "SessionPercentageTotalB2B           0.640314\n",
              "PageViewsPercentageTotalB2B         0.631348\n",
              "PageViewsTotalB2B                   0.630937\n",
              "UnitSessionPercentage               0.096640\n",
              "FeaturedOfferBuyBoxPercentageB2B   -0.138181\n",
              "FeaturedOfferBuyBoxPercentage      -0.171835\n",
              "index                              -0.861212\n",
              "UnitSessionPercentageB2B                 NaN\n",
              "Name: PageViewsTotal, dtype: float64"
            ]
          },
          "metadata": {},
          "execution_count": 44
        }
      ]
    },
    {
      "cell_type": "markdown",
      "source": [
        "Here we can see that the correlation is strong with a value of 0.89\n",
        "\n",
        "All of this means that products with high Page Views are likely to be the highest selling products and vice versa. This data can point to where the company needs to improve for increased conversions, i.e. boosting promotions on it's lower viewed items in an attempt to increase their sales or cutting them entirely depending on how poorly the sales are. On the other hand, Ann Clark could promote its higher selling goods to increase Page Views and, therefore, its Ordered Items.\n",
        "\n",
        "Note: Correlation ≠ Causation\n",
        "\n",
        "Looking more at these correlation coefficents we can draw some more conclusions ...\n",
        "\n",
        "○ Page Views has a stellar correlation with Sessions Total, to be expected as they are similar metrics.\n",
        "\n",
        "○ Sales, Units Ordered, and Ordered Items are all very similar in their correlations to Page Views, again to be expected as they are similar metrics. Sales is the highest at .94 meaning that the sales revenue is tightly tied to the amount of page views a product has received.\n",
        "\n",
        "○ The correlation starts to fall from excellent to good as we look at the B2B variables."
      ],
      "metadata": {
        "id": "fL2GK1smlu4t"
      }
    },
    {
      "cell_type": "code",
      "source": [
        "fig = px.scatter(data_frame = data_no, x=\"SessionsTotal\",\n",
        "                    y=\"PageViewsTotal\",\n",
        "                    trendline=\"ols\",\n",
        "                    title=\"Relationship between Sessions Total & Total Page Views\")\n",
        "fig.show()"
      ],
      "metadata": {
        "colab": {
          "base_uri": "https://localhost:8080/",
          "height": 542
        },
        "id": "82zdenMbooZB",
        "outputId": "95bd9e35-0d47-4080-d9ea-9a2eeb88de7c"
      },
      "execution_count": null,
      "outputs": [
        {
          "output_type": "display_data",
          "data": {
            "text/html": [
              "<html>\n",
              "<head><meta charset=\"utf-8\" /></head>\n",
              "<body>\n",
              "    <div>            <script src=\"https://cdnjs.cloudflare.com/ajax/libs/mathjax/2.7.5/MathJax.js?config=TeX-AMS-MML_SVG\"></script><script type=\"text/javascript\">if (window.MathJax) {MathJax.Hub.Config({SVG: {font: \"STIX-Web\"}});}</script>                <script type=\"text/javascript\">window.PlotlyConfig = {MathJaxConfig: 'local'};</script>\n",
              "        <script src=\"https://cdn.plot.ly/plotly-2.8.3.min.js\"></script>                <div id=\"673c9ba1-73d0-477c-b779-c592aec0402c\" class=\"plotly-graph-div\" style=\"height:525px; width:100%;\"></div>            <script type=\"text/javascript\">                                    window.PLOTLYENV=window.PLOTLYENV || {};                                    if (document.getElementById(\"673c9ba1-73d0-477c-b779-c592aec0402c\")) {                    Plotly.newPlot(                        \"673c9ba1-73d0-477c-b779-c592aec0402c\",                        [{\"hovertemplate\":\"SessionsTotal=%{x}<br>PageViewsTotal=%{y}<extra></extra>\",\"legendgroup\":\"\",\"marker\":{\"color\":\"#636efa\",\"symbol\":\"circle\"},\"mode\":\"markers\",\"name\":\"\",\"orientation\":\"v\",\"showlegend\":false,\"x\":[11745.0,11145.0,13729.0,11416.0,11404.0,13047.0,6864.0,9440.0,7622.0,8948.0,10060.0,9975.0,8598.0,9186.0,8584.0,6271.0,7906.0,9576.0,10015.0,11772.0,6293.0,8337.0,9997.0,8893.0,8685.0,6156.0,13097.0,6676.0,10406.0,10797.0,5717.0,9829.0,5803.0,8436.0,11736.0,6354.0,8195.0,6956.0,6384.0,6357.0,6627.0,6017.0,6062.0,5403.0,6429.0,10936.0,12630.0,5495.0,4403.0,7559.0,11621.0,6955.0,7786.0,6830.0,5271.0,6427.0,6907.0,4806.0,4945.0,6284.0,8371.0,5340.0,6970.0,5144.0,6850.0,4550.0,6230.0,9687.0,5166.0,5459.0,6172.0,11490.0,5989.0,5093.0,9893.0,5608.0,4301.0,6262.0,6084.0,4840.0,6923.0,7594.0,4698.0,6047.0,4487.0,10258.0,6695.0,6703.0,4602.0,4124.0,5021.0,7038.0,4387.0,5093.0,4157.0,5856.0,4801.0,9954.0,4665.0,4618.0,5884.0,4156.0,3947.0,3811.0,3028.0,7205.0,4104.0,8230.0,8193.0,6005.0,6048.0,4815.0,5329.0,3436.0,4381.0,5253.0,5588.0,4862.0,5290.0,5112.0,5762.0,3323.0,3150.0,3659.0,4559.0,4072.0,6766.0,4739.0,6862.0,4174.0,3732.0,3131.0,5365.0,3832.0,4176.0,7112.0,3769.0,5201.0,5089.0,4041.0,3039.0,3936.0,4280.0,3330.0,4271.0,4331.0,3666.0,3688.0,3629.0,4227.0,4255.0,5744.0,4719.0,7477.0,6705.0,3056.0,3865.0,5641.0,6641.0,6792.0,6699.0,4849.0,3242.0,3028.0,3222.0,3467.0,3786.0,2602.0,3733.0,3302.0,3404.0,2730.0,3859.0,3284.0,2431.0,3080.0,2603.0,2908.0,4834.0,5321.0,4637.0,3530.0,2987.0,2635.0,2287.0,6255.0,2458.0,3219.0,6118.0,5999.0,2866.0,3874.0,2626.0,4342.0,2729.0,2424.0,4085.0,2537.0,3574.0,4001.0,5243.0,5175.0,3702.0,3033.0,5741.0,2385.0,4453.0,3213.0,1977.0,3388.0,5228.0,2443.0,2299.0,8815.0,3761.0,2325.0,3642.0,3012.0,2323.0,2679.0,3164.0,6357.0,2975.0,3158.0,2543.0,2753.0,3295.0,1915.0,2732.0,2506.0,2597.0,3976.0,4146.0,2270.0,5911.0,2524.0,1817.0,2998.0,2298.0,3531.0,1984.0,3162.0,2416.0,2134.0,2369.0,3700.0,2458.0,2379.0,2189.0,2657.0,3069.0,1802.0,2277.0,2363.0,2971.0,3288.0,2562.0,4335.0,2370.0,2796.0,3571.0,1941.0,1796.0,5392.0,2489.0,2310.0,2385.0,2125.0,2849.0,3064.0,2183.0,1959.0,1618.0,1998.0,2188.0,2708.0,2116.0,2115.0,1689.0,2001.0,2055.0,1517.0,2840.0,2084.0,2655.0,1996.0,1258.0,2261.0,2901.0,1413.0,1877.0,2382.0,1777.0,1679.0,2130.0,1617.0,1758.0,1335.0,3056.0,1974.0,2193.0,1979.0,1749.0,1848.0,3093.0,2864.0,1197.0,1877.0,2079.0,2818.0,1459.0,2213.0,1138.0,1970.0,2203.0,1548.0,1812.0,1701.0,2977.0,2344.0,1558.0,1603.0,2467.0,2280.0,3838.0,3701.0,4066.0,2023.0,1689.0,1712.0,1671.0,2769.0,1352.0,3089.0,1945.0,2724.0,2031.0,1230.0,2183.0,1327.0,1132.0,1973.0,3209.0,1314.0,1852.0,1961.0,1269.0,2367.0,1279.0,1419.0,2882.0,1580.0,1808.0,1182.0,1046.0,1158.0,1026.0,2508.0,2427.0,1477.0,2217.0,1635.0,985.0,1782.0,1499.0,1385.0,1078.0,944.0,1495.0,3558.0,781.0,1347.0,928.0,1117.0,804.0,931.0,1909.0,893.0,2918.0,789.0,999.0,857.0,3031.0,1517.0,800.0,994.0,616.0,677.0,791.0,647.0,1067.0,636.0,1097.0,731.0,527.0,1008.0,586.0,816.0,704.0,706.0,960.0,1306.0,640.0,441.0,4381.0,1225.0,1369.0,1620.0,471.0,2406.0,448.0,622.0,408.0,656.0,461.0,442.0,1207.0,445.0,344.0,316.0,400.0,961.0,352.0,344.0,1030.0,155.0,400.0,462.0,481.0,379.0,408.0,555.0,564.0,348.0,406.0,720.0,288.0,131.0,242.0,76.0,161.0,133.0,370.0,306.0,67.0],\"xaxis\":\"x\",\"y\":[17765.0,14763.0,18796.0,14853.0,15413.0,16823.0,9562.0,12604.0,9679.0,12509.0,14110.0,14205.0,11265.0,12856.0,12025.0,8352.0,10712.0,12816.0,13996.0,17445.0,8316.0,11430.0,12977.0,11913.0,12242.0,8041.0,17937.0,8751.0,14011.0,13839.0,7599.0,12481.0,8070.0,11260.0,15905.0,8560.0,11894.0,9712.0,9096.0,8441.0,8735.0,8173.0,8003.0,7193.0,9246.0,15037.0,16980.0,7794.0,6047.0,9949.0,15777.0,9704.0,9559.0,8993.0,7141.0,8909.0,10220.0,6722.0,7388.0,8601.0,11534.0,6846.0,9359.0,7539.0,9382.0,6311.0,9751.0,13123.0,6969.0,7616.0,8885.0,17161.0,8648.0,6873.0,14007.0,7796.0,5658.0,8367.0,7796.0,6713.0,9101.0,10134.0,6424.0,8223.0,6043.0,14163.0,8506.0,8967.0,6553.0,5429.0,6721.0,8995.0,5745.0,6804.0,5641.0,7950.0,6445.0,12983.0,6308.0,5972.0,7828.0,6122.0,5387.0,4977.0,4213.0,9282.0,5450.0,10206.0,11191.0,8251.0,8243.0,6380.0,7620.0,4891.0,5742.0,6963.0,8272.0,6435.0,7647.0,6347.0,7202.0,4653.0,4281.0,4943.0,6215.0,5393.0,8966.0,6185.0,9333.0,5699.0,5004.0,4601.0,7319.0,4963.0,5505.0,9647.0,4850.0,6853.0,6423.0,5506.0,3998.0,5297.0,5942.0,4304.0,5733.0,5824.0,4987.0,4807.0,5063.0,5366.0,5512.0,7584.0,6298.0,9870.0,8741.0,4177.0,5439.0,7894.0,8945.0,8742.0,8886.0,6737.0,4631.0,4082.0,4580.0,4511.0,4820.0,3465.0,5103.0,4280.0,4280.0,3542.0,5069.0,4409.0,3014.0,4025.0,3446.0,3821.0,6306.0,7298.0,6522.0,4542.0,4116.0,3396.0,2898.0,8288.0,3193.0,4442.0,8109.0,7479.0,3962.0,5291.0,3410.0,5784.0,3620.0,3113.0,5201.0,3313.0,4590.0,5243.0,7006.0,6735.0,5366.0,3927.0,7594.0,3188.0,5751.0,4255.0,2588.0,4588.0,6779.0,3188.0,3083.0,11125.0,4814.0,3124.0,4723.0,3848.0,3265.0,3427.0,4341.0,8421.0,3912.0,4240.0,3211.0,3498.0,4187.0,2471.0,3419.0,3345.0,3034.0,5373.0,5788.0,3033.0,7826.0,3431.0,2299.0,3710.0,2941.0,4593.0,2666.0,4127.0,3228.0,2767.0,3136.0,4702.0,3209.0,3073.0,3034.0,3490.0,3996.0,2354.0,3014.0,2993.0,3993.0,4291.0,3390.0,5638.0,3386.0,3722.0,4767.0,2543.0,2352.0,7390.0,3320.0,2857.0,3068.0,2700.0,3738.0,4090.0,2860.0,2628.0,2024.0,2627.0,2849.0,3629.0,2773.0,2824.0,2358.0,2776.0,3114.0,1905.0,3810.0,2775.0,3581.0,2668.0,1643.0,3000.0,3776.0,1830.0,2523.0,3119.0,2268.0,2206.0,2475.0,2090.0,2310.0,1753.0,3912.0,2620.0,2750.0,2764.0,2346.0,2302.0,4090.0,3799.0,1753.0,2374.0,2793.0,3583.0,1876.0,2992.0,1574.0,2572.0,2912.0,1987.0,2375.0,2218.0,3963.0,3074.0,1986.0,2216.0,3080.0,3150.0,5067.0,4698.0,5161.0,2520.0,2236.0,2310.0,2128.0,3567.0,1815.0,4421.0,2487.0,3626.0,2713.0,1680.0,2957.0,1700.0,1473.0,2625.0,3974.0,1653.0,2384.0,2548.0,1608.0,3028.0,1693.0,1781.0,3581.0,2177.0,2272.0,1546.0,1367.0,1475.0,1327.0,3153.0,3108.0,1858.0,3040.0,2054.0,1283.0,2261.0,1929.0,1685.0,1349.0,1186.0,1890.0,4193.0,1064.0,1799.0,1159.0,1409.0,1041.0,1197.0,2372.0,1147.0,3549.0,1041.0,1235.0,1055.0,3916.0,1986.0,1007.0,1294.0,776.0,858.0,1038.0,794.0,1464.0,797.0,1540.0,916.0,701.0,1219.0,765.0,1019.0,868.0,977.0,1227.0,1654.0,907.0,592.0,5742.0,1530.0,1871.0,2048.0,582.0,3012.0,552.0,809.0,492.0,801.0,559.0,569.0,1314.0,593.0,419.0,438.0,524.0,1189.0,443.0,426.0,1279.0,195.0,484.0,611.0,573.0,475.0,480.0,674.0,701.0,438.0,512.0,874.0,345.0,153.0,287.0,95.0,211.0,158.0,389.0,334.0,85.0],\"yaxis\":\"y\",\"type\":\"scatter\"},{\"hovertemplate\":\"<b>OLS trendline</b><br>PageViewsTotal = 1.36854 * SessionsTotal + -110.473<br>R<sup>2</sup>=0.994833<br><br>SessionsTotal=%{x}<br>PageViewsTotal=%{y} <b>(trend)</b><extra></extra>\",\"legendgroup\":\"\",\"marker\":{\"color\":\"#636efa\",\"symbol\":\"circle\"},\"mode\":\"lines\",\"name\":\"\",\"showlegend\":false,\"x\":[67.0,76.0,131.0,133.0,155.0,161.0,242.0,288.0,306.0,316.0,344.0,344.0,348.0,352.0,370.0,379.0,400.0,400.0,406.0,408.0,408.0,441.0,442.0,445.0,448.0,461.0,462.0,471.0,481.0,527.0,555.0,564.0,586.0,616.0,622.0,636.0,640.0,647.0,656.0,677.0,704.0,706.0,720.0,731.0,781.0,789.0,791.0,800.0,804.0,816.0,857.0,893.0,928.0,931.0,944.0,960.0,961.0,985.0,994.0,999.0,1008.0,1026.0,1030.0,1046.0,1067.0,1078.0,1097.0,1117.0,1132.0,1138.0,1158.0,1182.0,1197.0,1207.0,1225.0,1230.0,1258.0,1269.0,1279.0,1306.0,1314.0,1327.0,1335.0,1347.0,1352.0,1369.0,1385.0,1413.0,1419.0,1459.0,1477.0,1495.0,1499.0,1517.0,1517.0,1548.0,1558.0,1580.0,1603.0,1617.0,1618.0,1620.0,1635.0,1671.0,1679.0,1689.0,1689.0,1701.0,1712.0,1749.0,1758.0,1777.0,1782.0,1796.0,1802.0,1808.0,1812.0,1817.0,1848.0,1852.0,1877.0,1877.0,1909.0,1915.0,1941.0,1945.0,1959.0,1961.0,1970.0,1973.0,1974.0,1977.0,1979.0,1984.0,1996.0,1998.0,2001.0,2023.0,2031.0,2055.0,2079.0,2084.0,2115.0,2116.0,2125.0,2130.0,2134.0,2183.0,2183.0,2188.0,2189.0,2193.0,2203.0,2213.0,2217.0,2261.0,2270.0,2277.0,2280.0,2287.0,2298.0,2299.0,2310.0,2323.0,2325.0,2344.0,2363.0,2367.0,2369.0,2370.0,2379.0,2382.0,2385.0,2385.0,2406.0,2416.0,2424.0,2427.0,2431.0,2443.0,2458.0,2458.0,2467.0,2489.0,2506.0,2508.0,2524.0,2537.0,2543.0,2562.0,2597.0,2602.0,2603.0,2626.0,2635.0,2655.0,2657.0,2679.0,2708.0,2724.0,2729.0,2730.0,2732.0,2753.0,2769.0,2796.0,2818.0,2840.0,2849.0,2864.0,2866.0,2882.0,2901.0,2908.0,2918.0,2971.0,2975.0,2977.0,2987.0,2998.0,3012.0,3028.0,3028.0,3031.0,3033.0,3039.0,3056.0,3056.0,3064.0,3069.0,3080.0,3089.0,3093.0,3131.0,3150.0,3158.0,3162.0,3164.0,3209.0,3213.0,3219.0,3222.0,3242.0,3284.0,3288.0,3295.0,3302.0,3323.0,3330.0,3388.0,3404.0,3436.0,3467.0,3530.0,3531.0,3558.0,3571.0,3574.0,3629.0,3642.0,3659.0,3666.0,3688.0,3700.0,3701.0,3702.0,3732.0,3733.0,3761.0,3769.0,3786.0,3811.0,3832.0,3838.0,3859.0,3865.0,3874.0,3936.0,3947.0,3976.0,4001.0,4041.0,4066.0,4072.0,4085.0,4104.0,4124.0,4146.0,4156.0,4157.0,4174.0,4176.0,4227.0,4255.0,4271.0,4280.0,4301.0,4331.0,4335.0,4342.0,4381.0,4381.0,4387.0,4403.0,4453.0,4487.0,4550.0,4559.0,4602.0,4618.0,4637.0,4665.0,4698.0,4719.0,4739.0,4801.0,4806.0,4815.0,4834.0,4840.0,4849.0,4862.0,4945.0,5021.0,5089.0,5093.0,5093.0,5112.0,5144.0,5166.0,5175.0,5201.0,5228.0,5243.0,5253.0,5271.0,5290.0,5321.0,5329.0,5340.0,5365.0,5392.0,5403.0,5459.0,5495.0,5588.0,5608.0,5641.0,5717.0,5741.0,5744.0,5762.0,5803.0,5856.0,5884.0,5911.0,5989.0,5999.0,6005.0,6017.0,6047.0,6048.0,6062.0,6084.0,6118.0,6156.0,6172.0,6230.0,6255.0,6262.0,6271.0,6284.0,6293.0,6354.0,6357.0,6357.0,6384.0,6427.0,6429.0,6627.0,6641.0,6676.0,6695.0,6699.0,6703.0,6705.0,6766.0,6792.0,6830.0,6850.0,6862.0,6864.0,6907.0,6923.0,6955.0,6956.0,6970.0,7038.0,7112.0,7205.0,7477.0,7559.0,7594.0,7622.0,7786.0,7906.0,8193.0,8195.0,8230.0,8337.0,8371.0,8436.0,8584.0,8598.0,8685.0,8815.0,8893.0,8948.0,9186.0,9440.0,9576.0,9687.0,9829.0,9893.0,9954.0,9975.0,9997.0,10015.0,10060.0,10258.0,10406.0,10797.0,10936.0,11145.0,11404.0,11416.0,11490.0,11621.0,11736.0,11745.0,11772.0,12630.0,13047.0,13097.0,13729.0],\"xaxis\":\"x\",\"y\":[-18.78037914569434,-6.463489168101674,68.80639402829794,71.54348068998522,101.65143396854506,109.86269395360685,220.71470375194087,283.6676969707478,308.3014769259332,321.9869102343694,360.30612349799105,360.30612349799105,365.7802968213656,371.25447014474014,395.8882500999255,408.2051400775181,436.9445500252343,436.9445500252343,445.15581001029614,447.8928966719834,447.8928966719834,493.05482658982316,494.4233699206668,498.5289999131977,502.6346299057286,520.4256932066958,521.7942365375394,534.111126515132,547.7965598235684,610.7495530423753,649.068766305997,661.3856562835896,691.4936095621495,732.5499094874583,740.7611694725201,759.9207761043309,765.3949494277055,774.9747527436109,787.2916427212035,816.0310526689198,852.9817226016978,855.718809263385,874.8784158951959,889.9323925344758,958.3595590766572,969.3079057234063,972.0449923850936,984.3618823626862,989.8360556860607,1006.2585756561843,1062.368852220773,1111.6364121311437,1159.5354287106709,1163.6410587032017,1181.4321220041688,1203.328815297667,1204.6973586285105,1237.5423985687578,1249.8592885463504,1256.7020052005685,1269.018895178161,1293.6526751333465,1299.126848456721,1321.023541750219,1349.7629516979353,1364.8169283372154,1390.8192516232443,1418.1901182401168,1438.7182682027712,1446.929528187833,1474.3003948047055,1507.1454347449528,1527.6735847076072,1541.3590180160434,1565.9927979712288,1572.8355146254469,1611.1547278890687,1626.2087045283486,1639.894137836785,1676.8448077695627,1687.7931544163118,1705.584217717279,1716.532564364028,1732.9550843341517,1739.7978009883698,1763.0630376127115,1784.9597309062096,1823.2789441698312,1831.490204154893,1886.2319373886382,1910.8657173438235,1935.499497299009,1940.9736706223835,1965.6074505775687,1965.6074505775687,2008.0322938337213,2021.7177271421574,2051.825680420717,2083.3021770301207,2102.461783661932,2103.830326992775,2106.5674136544626,2127.095563617117,2176.3631235274875,2187.3114701742365,2200.996903482673,2200.996903482673,2217.4194234527963,2232.4734000920766,2283.109503333291,2295.426393310883,2321.428716596912,2328.2714332511305,2347.431039882941,2355.642299868003,2363.853559853065,2369.3277331764393,2376.1704498306576,2418.59529308681,2424.0694664101848,2458.2830496812753,2458.2830496812753,2502.0764362682717,2510.2876962533333,2545.8698228552676,2551.343996178642,2570.503602810453,2573.2406894721403,2585.557579449733,2589.663209442264,2591.0317527731077,2595.1373827656384,2597.8744694273255,2604.717186081544,2621.1397060516674,2623.8767927133545,2627.9824227058853,2658.0903759844455,2669.038722631194,2701.8837625714414,2734.7288025116886,2741.571519165907,2783.996362422059,2785.364905752903,2797.6817957304957,2804.5245123847135,2809.998685708088,2877.057308919426,2877.057308919426,2883.900025573644,2885.268568904488,2890.7427422278624,2904.4281755362986,2918.1136088447347,2923.5877821681092,2983.803688725229,2996.1205787028216,3005.7003820187274,3009.806012011258,3019.3858153271635,3034.4397919664434,3035.808335297287,3050.862311936567,3068.653375237534,3071.3904618992215,3097.3927851852504,3123.3951084712794,3128.869281794654,3131.606368456341,3132.9749117871847,3145.2918017647776,3149.3974317573084,3153.503061749839,3153.503061749839,3182.2424716975556,3195.9279050059918,3206.876251652741,3210.9818816452716,3216.456054968646,3232.87857493877,3253.4067249014242,3253.4067249014242,3265.723614879017,3295.831568157577,3319.0968047819183,3321.833891443606,3343.7305847371035,3361.521648038071,3369.7329080231325,3395.7352313091615,3443.6342478886886,3450.476964542907,3451.8455078737506,3483.322004483154,3495.6388944607465,3523.0097610776193,3525.7468477393063,3555.8548010178665,3595.5425576123316,3617.43925090583,3624.2819675600476,3625.6505108908914,3628.387597552579,3657.127007500295,3679.023700793793,3715.974370726571,3746.082324005131,3776.1902772836906,3788.5071672612835,3809.035317223938,3811.772403885625,3833.669097179123,3859.671420465152,3869.2512237810574,3882.936657089494,3955.4694536242064,3960.943626947581,3963.680713609268,3977.366146917704,3992.4201235569844,4011.579730188795,4033.4764234822933,4033.4764234822933,4037.5820534748236,4040.319140136511,4048.5304001215727,4071.7956367459146,4071.7956367459146,4082.7439833926637,4089.5867000468816,4104.640676686162,4116.957566663755,4122.431739987129,4174.436386559187,4200.438709845216,4211.387056491965,4216.861229815339,4219.598316477027,4281.18276636499,4286.656939688364,4294.868199673427,4298.973829665957,4326.34469628283,4383.823516178262,4389.297689501637,4398.877492817543,4408.457296133448,4437.196706081164,4446.776509397069,4526.1520225859995,4548.048715879498,4591.842102466494,4634.266945722647,4720.4851755657955,4721.853718896638,4758.804388829417,4776.595452130384,4780.701082122915,4855.970965319315,4873.762028620282,4897.027265244624,4906.607068560529,4936.715021839089,4953.137541809212,4954.506085140056,4955.8746284709,4996.930928396208,4998.299471727052,5036.6186849906735,5047.567031637423,5070.8322682617645,5105.0458515328555,5133.7852614805715,5141.996521465633,5170.735931413349,5178.947191398411,5191.264081376004,5276.113767888309,5291.167744527589,5330.855501122054,5365.069084393145,5419.81081762689,5454.024400897981,5462.235660883042,5480.026724184009,5506.029047470039,5533.399914086911,5563.507867365471,5577.193300673907,5578.561844004751,5601.827080629093,5604.56416729078,5674.359877163805,5712.679090427427,5734.575783720925,5746.892673698518,5775.632083646234,5816.6883835715425,5822.162556894917,5831.742360210823,5885.115550113724,5885.115550113724,5893.326810098786,5915.223503392284,5983.650669934465,6030.181143183148,6116.399373026297,6128.71626300389,6187.563626230166,6209.460319523664,6235.4626428096935,6273.781856073315,6318.943785991155,6347.683195938871,6375.054062555743,6459.9037490680485,6466.746465722266,6479.063355699859,6505.065678985889,6513.27693897095,6525.593828948543,6543.38489224951,6656.973988709531,6760.983281853647,6854.044228351014,6859.518401674389,6859.518401674389,6885.520724960417,6929.314111547414,6959.422064825973,6971.738954803566,7007.3210814055,7044.271751338279,7064.799901300933,7078.485334609369,7103.119114564554,7129.121437850584,7171.546281106736,7182.494627753485,7197.548604392765,7231.762187663856,7268.7128575966335,7283.766834235914,7360.405260763157,7409.672820673528,7536.947350441985,7564.318217058858,7609.480146976697,7713.489440120813,7746.33448006106,7750.4401100535915,7775.073890008776,7831.1841665733655,7903.716963108078,7942.036176371699,7978.986846304478,8085.73322611028,8099.418659418718,8107.629919403778,8124.0524393739015,8165.10873929921,8166.477282630054,8185.636889261865,8215.744842540425,8262.27531578911,8314.279962361166,8336.176655654665,8415.552168843595,8449.765752114687,8459.345555430591,8471.662445408185,8489.453508709152,8501.770398686744,8585.251541868205,8589.357171860736,8589.357171860736,8626.307841793514,8685.15520501979,8687.892291681477,8958.863871188516,8978.023477820327,9025.922494399854,9051.924817685884,9057.398991009257,9062.873164332632,9065.61025099432,9149.09139417578,9184.673520777715,9236.678167349774,9264.049033966645,9280.47155393677,9283.208640598457,9342.056003824733,9363.952697118231,9407.746083705228,9409.11462703607,9428.274233667882,9521.335180165248,9622.607386647676,9749.881916416134,10122.125702405601,10234.34625553478,10282.245272114305,10320.564485377929,10545.005591636283,10709.230791337519,11102.00272728964,11104.739813951328,11152.638830530854,11299.072966931122,11345.603440179806,11434.558756684643,11637.1031696495,11656.26277628131,11775.326046064707,11953.236679074378,12059.983058880181,12135.25294207658,12460.966254817364,12808.576260851647,12994.69815384638,13146.606463570022,13340.939616549818,13428.526389723811,13512.007532905272,13540.746942852988,13570.854896131548,13595.488676086734,13657.073125974697,13928.044705481736,14130.589118446593,14665.689560806451,14855.917083793716,15141.942639940034,15496.395362628535,15512.817882598658,15614.090089081088,15793.369265421603,15950.75174846862,15963.068638446213,16000.01930837899,17174.229486242824,17744.912055204615,17813.3392217468,18678.258606839976],\"yaxis\":\"y\",\"type\":\"scatter\"}],                        {\"template\":{\"data\":{\"bar\":[{\"error_x\":{\"color\":\"#2a3f5f\"},\"error_y\":{\"color\":\"#2a3f5f\"},\"marker\":{\"line\":{\"color\":\"#E5ECF6\",\"width\":0.5},\"pattern\":{\"fillmode\":\"overlay\",\"size\":10,\"solidity\":0.2}},\"type\":\"bar\"}],\"barpolar\":[{\"marker\":{\"line\":{\"color\":\"#E5ECF6\",\"width\":0.5},\"pattern\":{\"fillmode\":\"overlay\",\"size\":10,\"solidity\":0.2}},\"type\":\"barpolar\"}],\"carpet\":[{\"aaxis\":{\"endlinecolor\":\"#2a3f5f\",\"gridcolor\":\"white\",\"linecolor\":\"white\",\"minorgridcolor\":\"white\",\"startlinecolor\":\"#2a3f5f\"},\"baxis\":{\"endlinecolor\":\"#2a3f5f\",\"gridcolor\":\"white\",\"linecolor\":\"white\",\"minorgridcolor\":\"white\",\"startlinecolor\":\"#2a3f5f\"},\"type\":\"carpet\"}],\"choropleth\":[{\"colorbar\":{\"outlinewidth\":0,\"ticks\":\"\"},\"type\":\"choropleth\"}],\"contour\":[{\"colorbar\":{\"outlinewidth\":0,\"ticks\":\"\"},\"colorscale\":[[0.0,\"#0d0887\"],[0.1111111111111111,\"#46039f\"],[0.2222222222222222,\"#7201a8\"],[0.3333333333333333,\"#9c179e\"],[0.4444444444444444,\"#bd3786\"],[0.5555555555555556,\"#d8576b\"],[0.6666666666666666,\"#ed7953\"],[0.7777777777777778,\"#fb9f3a\"],[0.8888888888888888,\"#fdca26\"],[1.0,\"#f0f921\"]],\"type\":\"contour\"}],\"contourcarpet\":[{\"colorbar\":{\"outlinewidth\":0,\"ticks\":\"\"},\"type\":\"contourcarpet\"}],\"heatmap\":[{\"colorbar\":{\"outlinewidth\":0,\"ticks\":\"\"},\"colorscale\":[[0.0,\"#0d0887\"],[0.1111111111111111,\"#46039f\"],[0.2222222222222222,\"#7201a8\"],[0.3333333333333333,\"#9c179e\"],[0.4444444444444444,\"#bd3786\"],[0.5555555555555556,\"#d8576b\"],[0.6666666666666666,\"#ed7953\"],[0.7777777777777778,\"#fb9f3a\"],[0.8888888888888888,\"#fdca26\"],[1.0,\"#f0f921\"]],\"type\":\"heatmap\"}],\"heatmapgl\":[{\"colorbar\":{\"outlinewidth\":0,\"ticks\":\"\"},\"colorscale\":[[0.0,\"#0d0887\"],[0.1111111111111111,\"#46039f\"],[0.2222222222222222,\"#7201a8\"],[0.3333333333333333,\"#9c179e\"],[0.4444444444444444,\"#bd3786\"],[0.5555555555555556,\"#d8576b\"],[0.6666666666666666,\"#ed7953\"],[0.7777777777777778,\"#fb9f3a\"],[0.8888888888888888,\"#fdca26\"],[1.0,\"#f0f921\"]],\"type\":\"heatmapgl\"}],\"histogram\":[{\"marker\":{\"pattern\":{\"fillmode\":\"overlay\",\"size\":10,\"solidity\":0.2}},\"type\":\"histogram\"}],\"histogram2d\":[{\"colorbar\":{\"outlinewidth\":0,\"ticks\":\"\"},\"colorscale\":[[0.0,\"#0d0887\"],[0.1111111111111111,\"#46039f\"],[0.2222222222222222,\"#7201a8\"],[0.3333333333333333,\"#9c179e\"],[0.4444444444444444,\"#bd3786\"],[0.5555555555555556,\"#d8576b\"],[0.6666666666666666,\"#ed7953\"],[0.7777777777777778,\"#fb9f3a\"],[0.8888888888888888,\"#fdca26\"],[1.0,\"#f0f921\"]],\"type\":\"histogram2d\"}],\"histogram2dcontour\":[{\"colorbar\":{\"outlinewidth\":0,\"ticks\":\"\"},\"colorscale\":[[0.0,\"#0d0887\"],[0.1111111111111111,\"#46039f\"],[0.2222222222222222,\"#7201a8\"],[0.3333333333333333,\"#9c179e\"],[0.4444444444444444,\"#bd3786\"],[0.5555555555555556,\"#d8576b\"],[0.6666666666666666,\"#ed7953\"],[0.7777777777777778,\"#fb9f3a\"],[0.8888888888888888,\"#fdca26\"],[1.0,\"#f0f921\"]],\"type\":\"histogram2dcontour\"}],\"mesh3d\":[{\"colorbar\":{\"outlinewidth\":0,\"ticks\":\"\"},\"type\":\"mesh3d\"}],\"parcoords\":[{\"line\":{\"colorbar\":{\"outlinewidth\":0,\"ticks\":\"\"}},\"type\":\"parcoords\"}],\"pie\":[{\"automargin\":true,\"type\":\"pie\"}],\"scatter\":[{\"marker\":{\"colorbar\":{\"outlinewidth\":0,\"ticks\":\"\"}},\"type\":\"scatter\"}],\"scatter3d\":[{\"line\":{\"colorbar\":{\"outlinewidth\":0,\"ticks\":\"\"}},\"marker\":{\"colorbar\":{\"outlinewidth\":0,\"ticks\":\"\"}},\"type\":\"scatter3d\"}],\"scattercarpet\":[{\"marker\":{\"colorbar\":{\"outlinewidth\":0,\"ticks\":\"\"}},\"type\":\"scattercarpet\"}],\"scattergeo\":[{\"marker\":{\"colorbar\":{\"outlinewidth\":0,\"ticks\":\"\"}},\"type\":\"scattergeo\"}],\"scattergl\":[{\"marker\":{\"colorbar\":{\"outlinewidth\":0,\"ticks\":\"\"}},\"type\":\"scattergl\"}],\"scattermapbox\":[{\"marker\":{\"colorbar\":{\"outlinewidth\":0,\"ticks\":\"\"}},\"type\":\"scattermapbox\"}],\"scatterpolar\":[{\"marker\":{\"colorbar\":{\"outlinewidth\":0,\"ticks\":\"\"}},\"type\":\"scatterpolar\"}],\"scatterpolargl\":[{\"marker\":{\"colorbar\":{\"outlinewidth\":0,\"ticks\":\"\"}},\"type\":\"scatterpolargl\"}],\"scatterternary\":[{\"marker\":{\"colorbar\":{\"outlinewidth\":0,\"ticks\":\"\"}},\"type\":\"scatterternary\"}],\"surface\":[{\"colorbar\":{\"outlinewidth\":0,\"ticks\":\"\"},\"colorscale\":[[0.0,\"#0d0887\"],[0.1111111111111111,\"#46039f\"],[0.2222222222222222,\"#7201a8\"],[0.3333333333333333,\"#9c179e\"],[0.4444444444444444,\"#bd3786\"],[0.5555555555555556,\"#d8576b\"],[0.6666666666666666,\"#ed7953\"],[0.7777777777777778,\"#fb9f3a\"],[0.8888888888888888,\"#fdca26\"],[1.0,\"#f0f921\"]],\"type\":\"surface\"}],\"table\":[{\"cells\":{\"fill\":{\"color\":\"#EBF0F8\"},\"line\":{\"color\":\"white\"}},\"header\":{\"fill\":{\"color\":\"#C8D4E3\"},\"line\":{\"color\":\"white\"}},\"type\":\"table\"}]},\"layout\":{\"annotationdefaults\":{\"arrowcolor\":\"#2a3f5f\",\"arrowhead\":0,\"arrowwidth\":1},\"autotypenumbers\":\"strict\",\"coloraxis\":{\"colorbar\":{\"outlinewidth\":0,\"ticks\":\"\"}},\"colorscale\":{\"diverging\":[[0,\"#8e0152\"],[0.1,\"#c51b7d\"],[0.2,\"#de77ae\"],[0.3,\"#f1b6da\"],[0.4,\"#fde0ef\"],[0.5,\"#f7f7f7\"],[0.6,\"#e6f5d0\"],[0.7,\"#b8e186\"],[0.8,\"#7fbc41\"],[0.9,\"#4d9221\"],[1,\"#276419\"]],\"sequential\":[[0.0,\"#0d0887\"],[0.1111111111111111,\"#46039f\"],[0.2222222222222222,\"#7201a8\"],[0.3333333333333333,\"#9c179e\"],[0.4444444444444444,\"#bd3786\"],[0.5555555555555556,\"#d8576b\"],[0.6666666666666666,\"#ed7953\"],[0.7777777777777778,\"#fb9f3a\"],[0.8888888888888888,\"#fdca26\"],[1.0,\"#f0f921\"]],\"sequentialminus\":[[0.0,\"#0d0887\"],[0.1111111111111111,\"#46039f\"],[0.2222222222222222,\"#7201a8\"],[0.3333333333333333,\"#9c179e\"],[0.4444444444444444,\"#bd3786\"],[0.5555555555555556,\"#d8576b\"],[0.6666666666666666,\"#ed7953\"],[0.7777777777777778,\"#fb9f3a\"],[0.8888888888888888,\"#fdca26\"],[1.0,\"#f0f921\"]]},\"colorway\":[\"#636efa\",\"#EF553B\",\"#00cc96\",\"#ab63fa\",\"#FFA15A\",\"#19d3f3\",\"#FF6692\",\"#B6E880\",\"#FF97FF\",\"#FECB52\"],\"font\":{\"color\":\"#2a3f5f\"},\"geo\":{\"bgcolor\":\"white\",\"lakecolor\":\"white\",\"landcolor\":\"#E5ECF6\",\"showlakes\":true,\"showland\":true,\"subunitcolor\":\"white\"},\"hoverlabel\":{\"align\":\"left\"},\"hovermode\":\"closest\",\"mapbox\":{\"style\":\"light\"},\"paper_bgcolor\":\"white\",\"plot_bgcolor\":\"#E5ECF6\",\"polar\":{\"angularaxis\":{\"gridcolor\":\"white\",\"linecolor\":\"white\",\"ticks\":\"\"},\"bgcolor\":\"#E5ECF6\",\"radialaxis\":{\"gridcolor\":\"white\",\"linecolor\":\"white\",\"ticks\":\"\"}},\"scene\":{\"xaxis\":{\"backgroundcolor\":\"#E5ECF6\",\"gridcolor\":\"white\",\"gridwidth\":2,\"linecolor\":\"white\",\"showbackground\":true,\"ticks\":\"\",\"zerolinecolor\":\"white\"},\"yaxis\":{\"backgroundcolor\":\"#E5ECF6\",\"gridcolor\":\"white\",\"gridwidth\":2,\"linecolor\":\"white\",\"showbackground\":true,\"ticks\":\"\",\"zerolinecolor\":\"white\"},\"zaxis\":{\"backgroundcolor\":\"#E5ECF6\",\"gridcolor\":\"white\",\"gridwidth\":2,\"linecolor\":\"white\",\"showbackground\":true,\"ticks\":\"\",\"zerolinecolor\":\"white\"}},\"shapedefaults\":{\"line\":{\"color\":\"#2a3f5f\"}},\"ternary\":{\"aaxis\":{\"gridcolor\":\"white\",\"linecolor\":\"white\",\"ticks\":\"\"},\"baxis\":{\"gridcolor\":\"white\",\"linecolor\":\"white\",\"ticks\":\"\"},\"bgcolor\":\"#E5ECF6\",\"caxis\":{\"gridcolor\":\"white\",\"linecolor\":\"white\",\"ticks\":\"\"}},\"title\":{\"x\":0.05},\"xaxis\":{\"automargin\":true,\"gridcolor\":\"white\",\"linecolor\":\"white\",\"ticks\":\"\",\"title\":{\"standoff\":15},\"zerolinecolor\":\"white\",\"zerolinewidth\":2},\"yaxis\":{\"automargin\":true,\"gridcolor\":\"white\",\"linecolor\":\"white\",\"ticks\":\"\",\"title\":{\"standoff\":15},\"zerolinecolor\":\"white\",\"zerolinewidth\":2}}},\"xaxis\":{\"anchor\":\"y\",\"domain\":[0.0,1.0],\"title\":{\"text\":\"SessionsTotal\"}},\"yaxis\":{\"anchor\":\"x\",\"domain\":[0.0,1.0],\"title\":{\"text\":\"PageViewsTotal\"}},\"legend\":{\"tracegroupgap\":0},\"title\":{\"text\":\"Relationship between Sessions Total & Total Page Views\"}},                        {\"responsive\": true}                    ).then(function(){\n",
              "                            \n",
              "var gd = document.getElementById('673c9ba1-73d0-477c-b779-c592aec0402c');\n",
              "var x = new MutationObserver(function (mutations, observer) {{\n",
              "        var display = window.getComputedStyle(gd).display;\n",
              "        if (!display || display === 'none') {{\n",
              "            console.log([gd, 'removed!']);\n",
              "            Plotly.purge(gd);\n",
              "            observer.disconnect();\n",
              "        }}\n",
              "}});\n",
              "\n",
              "// Listen for the removal of the full notebook cells\n",
              "var notebookContainer = gd.closest('#notebook-container');\n",
              "if (notebookContainer) {{\n",
              "    x.observe(notebookContainer, {childList: true});\n",
              "}}\n",
              "\n",
              "// Listen for the clearing of the current output cell\n",
              "var outputEl = gd.closest('.output');\n",
              "if (outputEl) {{\n",
              "    x.observe(outputEl, {childList: true});\n",
              "}}\n",
              "\n",
              "                        })                };                            </script>        </div>\n",
              "</body>\n",
              "</html>"
            ]
          },
          "metadata": {}
        }
      ]
    },
    {
      "cell_type": "code",
      "source": [
        "fig_pv = px.scatter(data_frame = data_no, x=\"PageViewsTotal\",\n",
        "                    y=\"OrderedProductSales\",\n",
        "                    trendline=\"ols\",\n",
        "                    title=\"Relationship between Total Page Views & Ordered Product Sales\")\n",
        "fig_pv.show()\n",
        "\n",
        "fig_ss = px.scatter(data_frame = data_no, x=\"SessionsTotal\",\n",
        "                    y=\"OrderedProductSales\",\n",
        "                    trendline=\"ols\",\n",
        "                    title=\"Relationship between Sessions Total & Ordered Product Sales\")\n",
        "fig_ss.show()"
      ],
      "metadata": {
        "colab": {
          "base_uri": "https://localhost:8080/",
          "height": 1000
        },
        "id": "8PZHgpzwqaR7",
        "outputId": "221fcebd-a432-4589-af95-9565c2a97ec4"
      },
      "execution_count": null,
      "outputs": [
        {
          "output_type": "display_data",
          "data": {
            "text/html": [
              "<html>\n",
              "<head><meta charset=\"utf-8\" /></head>\n",
              "<body>\n",
              "    <div>            <script src=\"https://cdnjs.cloudflare.com/ajax/libs/mathjax/2.7.5/MathJax.js?config=TeX-AMS-MML_SVG\"></script><script type=\"text/javascript\">if (window.MathJax) {MathJax.Hub.Config({SVG: {font: \"STIX-Web\"}});}</script>                <script type=\"text/javascript\">window.PlotlyConfig = {MathJaxConfig: 'local'};</script>\n",
              "        <script src=\"https://cdn.plot.ly/plotly-2.8.3.min.js\"></script>                <div id=\"57d87b89-7ead-4553-9531-2d6c12872742\" class=\"plotly-graph-div\" style=\"height:525px; width:100%;\"></div>            <script type=\"text/javascript\">                                    window.PLOTLYENV=window.PLOTLYENV || {};                                    if (document.getElementById(\"57d87b89-7ead-4553-9531-2d6c12872742\")) {                    Plotly.newPlot(                        \"57d87b89-7ead-4553-9531-2d6c12872742\",                        [{\"hovertemplate\":\"PageViewsTotal=%{x}<br>OrderedProductSales=%{y}<extra></extra>\",\"legendgroup\":\"\",\"marker\":{\"color\":\"#636efa\",\"symbol\":\"circle\"},\"mode\":\"markers\",\"name\":\"\",\"orientation\":\"v\",\"showlegend\":false,\"x\":[17765.0,14763.0,18796.0,14853.0,15413.0,16823.0,9562.0,12604.0,9679.0,12509.0,14110.0,14205.0,11265.0,12856.0,12025.0,8352.0,10712.0,12816.0,13996.0,17445.0,8316.0,11430.0,12977.0,11913.0,12242.0,8041.0,17937.0,8751.0,14011.0,13839.0,7599.0,12481.0,8070.0,11260.0,15905.0,8560.0,11894.0,9712.0,9096.0,8441.0,8735.0,8173.0,8003.0,7193.0,9246.0,15037.0,16980.0,7794.0,6047.0,9949.0,15777.0,9704.0,9559.0,8993.0,7141.0,8909.0,10220.0,6722.0,7388.0,8601.0,11534.0,6846.0,9359.0,7539.0,9382.0,6311.0,9751.0,13123.0,6969.0,7616.0,8885.0,17161.0,8648.0,6873.0,14007.0,7796.0,5658.0,8367.0,7796.0,6713.0,9101.0,10134.0,6424.0,8223.0,6043.0,14163.0,8506.0,8967.0,6553.0,5429.0,6721.0,8995.0,5745.0,6804.0,5641.0,7950.0,6445.0,12983.0,6308.0,5972.0,7828.0,6122.0,5387.0,4977.0,4213.0,9282.0,5450.0,10206.0,11191.0,8251.0,8243.0,6380.0,7620.0,4891.0,5742.0,6963.0,8272.0,6435.0,7647.0,6347.0,7202.0,4653.0,4281.0,4943.0,6215.0,5393.0,8966.0,6185.0,9333.0,5699.0,5004.0,4601.0,7319.0,4963.0,5505.0,9647.0,4850.0,6853.0,6423.0,5506.0,3998.0,5297.0,5942.0,4304.0,5733.0,5824.0,4987.0,4807.0,5063.0,5366.0,5512.0,7584.0,6298.0,9870.0,8741.0,4177.0,5439.0,7894.0,8945.0,8742.0,8886.0,6737.0,4631.0,4082.0,4580.0,4511.0,4820.0,3465.0,5103.0,4280.0,4280.0,3542.0,5069.0,4409.0,3014.0,4025.0,3446.0,3821.0,6306.0,7298.0,6522.0,4542.0,4116.0,3396.0,2898.0,8288.0,3193.0,4442.0,8109.0,7479.0,3962.0,5291.0,3410.0,5784.0,3620.0,3113.0,5201.0,3313.0,4590.0,5243.0,7006.0,6735.0,5366.0,3927.0,7594.0,3188.0,5751.0,4255.0,2588.0,4588.0,6779.0,3188.0,3083.0,11125.0,4814.0,3124.0,4723.0,3848.0,3265.0,3427.0,4341.0,8421.0,3912.0,4240.0,3211.0,3498.0,4187.0,2471.0,3419.0,3345.0,3034.0,5373.0,5788.0,3033.0,7826.0,3431.0,2299.0,3710.0,2941.0,4593.0,2666.0,4127.0,3228.0,2767.0,3136.0,4702.0,3209.0,3073.0,3034.0,3490.0,3996.0,2354.0,3014.0,2993.0,3993.0,4291.0,3390.0,5638.0,3386.0,3722.0,4767.0,2543.0,2352.0,7390.0,3320.0,2857.0,3068.0,2700.0,3738.0,4090.0,2860.0,2628.0,2024.0,2627.0,2849.0,3629.0,2773.0,2824.0,2358.0,2776.0,3114.0,1905.0,3810.0,2775.0,3581.0,2668.0,1643.0,3000.0,3776.0,1830.0,2523.0,3119.0,2268.0,2206.0,2475.0,2090.0,2310.0,1753.0,3912.0,2620.0,2750.0,2764.0,2346.0,2302.0,4090.0,3799.0,1753.0,2374.0,2793.0,3583.0,1876.0,2992.0,1574.0,2572.0,2912.0,1987.0,2375.0,2218.0,3963.0,3074.0,1986.0,2216.0,3080.0,3150.0,5067.0,4698.0,5161.0,2520.0,2236.0,2310.0,2128.0,3567.0,1815.0,4421.0,2487.0,3626.0,2713.0,1680.0,2957.0,1700.0,1473.0,2625.0,3974.0,1653.0,2384.0,2548.0,1608.0,3028.0,1693.0,1781.0,3581.0,2177.0,2272.0,1546.0,1367.0,1475.0,1327.0,3153.0,3108.0,1858.0,3040.0,2054.0,1283.0,2261.0,1929.0,1685.0,1349.0,1186.0,1890.0,4193.0,1064.0,1799.0,1159.0,1409.0,1041.0,1197.0,2372.0,1147.0,3549.0,1041.0,1235.0,1055.0,3916.0,1986.0,1007.0,1294.0,776.0,858.0,1038.0,794.0,1464.0,797.0,1540.0,916.0,701.0,1219.0,765.0,1019.0,868.0,977.0,1227.0,1654.0,907.0,592.0,5742.0,1530.0,1871.0,2048.0,582.0,3012.0,552.0,809.0,492.0,801.0,559.0,569.0,1314.0,593.0,419.0,438.0,524.0,1189.0,443.0,426.0,1279.0,195.0,484.0,611.0,573.0,475.0,480.0,674.0,701.0,438.0,512.0,874.0,345.0,153.0,287.0,95.0,211.0,158.0,389.0,334.0,85.0],\"xaxis\":\"x\",\"y\":[22413.11,19485.88,20232.8,19677.64,20389.73,19059.56,24822.26,16414.54,16200.77,16275.0,16461.03,16441.62,16119.55,23131.61,15725.36,14558.42,20897.16,15639.73,23080.6,22983.01,14443.05,14732.22,14439.91,14218.77,14118.34,13718.5,20497.14,13062.0,20153.88,19850.96,12754.45,12393.15,15449.87,19953.72,19927.29,12001.04,18491.22,14928.54,14638.58,11910.66,11547.94,11606.72,11444.71,11659.44,13712.3,20145.27,18557.41,11046.66,11108.55,10510.29,16014.27,16465.23,10516.44,12860.05,10531.8,10127.83,15918.01,10321.39,10357.66,15212.53,19910.12,10016.63,15947.91,10028.82,11637.11,9796.87,15180.57,18694.69,10150.93,9902.29,9660.11,18613.45,9743.17,9727.99,17257.38,14411.69,9393.14,9202.71,9468.42,9437.33,8468.29,17937.95,9270.51,9111.93,9205.19,17335.62,9020.83,9079.57,11171.52,8807.01,8964.98,9041.33,8947.61,8885.12,10587.39,13136.91,8581.52,16315.25,8313.63,8270.5,8235.95,8073.44,8187.1,8345.46,7818.84,7910.25,8026.5,8155.76,14843.82,12111.05,12678.26,11279.09,8966.58,7509.23,7592.7,12174.52,9449.77,7637.07,11050.18,7342.37,6607.31,7343.86,7277.67,7425.55,6624.77,7377.79,11342.07,7088.52,16282.6,8834.27,7208.8,6947.21,10685.63,7377.78,6574.56,13220.41,6885.47,6974.33,7041.61,7139.65,6714.71,6685.37,6668.05,6591.47,9856.79,5798.64,6367.37,6509.45,9538.35,6179.63,6105.61,11857.09,7643.13,11590.47,13211.48,6033.68,5974.49,9006.07,13291.08,12499.8,10446.0,10820.65,6795.95,5624.71,5515.29,5441.33,5604.77,5528.58,6595.12,5474.76,5101.42,5352.5,5197.76,5384.31,5196.78,5246.02,5179.33,5223.0,5142.58,10157.48,9692.81,8519.82,5067.98,5146.27,5171.3,9213.4,4896.74,5035.52,9120.01,7459.41,4970.79,11389.03,4896.46,5954.7,4812.5,4900.59,4914.81,5127.07,4688.18,7189.2,10408.38,9062.75,6890.4,6003.49,8922.81,4736.96,4741.11,5877.34,5151.16,4460.12,7527.54,4699.5,4509.95,8416.08,4411.3,4656.77,6919.24,4474.69,4446.52,4023.24,4444.68,9529.88,4508.56,4421.3,4411.04,4295.45,4396.69,4443.63,4309.92,4366.88,4307.71,6210.13,7116.09,4196.6,23507.47,4215.91,4350.52,4194.43,3950.94,4319.15,4136.33,4047.61,4001.81,3989.68,3925.03,4838.35,3903.1,4005.21,3847.62,3986.65,3644.09,3796.63,3941.26,4011.51,6200.38,3686.04,3702.0,5209.82,3841.9,4021.79,3759.6,3554.0,3705.61,8904.06,3658.76,3659.61,3743.42,3597.76,3522.4,3514.04,3494.87,3450.59,3563.6,3539.58,3484.49,3431.5,3417.47,3356.46,3277.04,3167.53,4883.48,3216.29,4443.57,3135.29,4951.49,3201.12,3304.37,3042.16,4766.26,3040.58,3127.13,3052.04,2678.3,2930.33,4927.89,2969.89,2947.85,2878.25,5672.93,2831.33,2770.29,2799.63,2776.37,4283.08,5385.11,4329.06,2743.52,3060.63,4111.21,2787.07,2724.11,2739.76,2699.06,2536.62,3112.55,3269.34,2307.71,2709.06,2550.6,2473.37,2478.4,3005.1,3789.58,2942.36,5415.64,4631.67,3524.67,2334.56,2346.55,2334.35,2332.96,4656.84,2254.53,3054.79,2128.73,4807.97,3348.98,2144.5,2098.2,2181.41,2143.66,3278.98,4669.67,2076.87,4018.15,2018.13,2035.28,3869.16,2095.46,1978.91,1915.58,3010.34,1887.96,1888.73,1907.89,1841.85,1960.31,3983.45,3380.53,1697.4,3442.65,3104.71,1604.72,2374.72,1577.74,1606.38,1619.71,1614.81,2439.88,1556.92,1667.51,2120.93,1434.87,1413.12,2158.03,1385.57,1328.31,1292.8,2923.05,1249.11,1205.5,1182.85,1834.82,1036.05,1283.42,1144.89,1108.16,1120.13,1089.81,1085.23,1515.52,1052.51,1549.57,1575.57,1116.54,964.68,951.66,969.15,925.14,937.0,899.19,1384.77,844.33,844.37,800.47,1588.86,1441.89,1467.95,745.62,1879.06,538.67,535.34,476.06,460.06,460.03,655.42,683.43,424.92,391.38,364.48,625.49,674.49,341.99,530.55,689.55,277.05,312.35,521.61,270.42,198.72,187.65,629.77,314.81,366.81,389.85,239.85,194.87,86.77,124.89,135.92,119.92,42.96,14.98,13.98,11.99],\"yaxis\":\"y\",\"type\":\"scatter\"},{\"hovertemplate\":\"<b>OLS trendline</b><br>OrderedProductSales = 1.33039 * PageViewsTotal + -118.234<br>R<sup>2</sup>=0.884110<br><br>PageViewsTotal=%{x}<br>OrderedProductSales=%{y} <b>(trend)</b><extra></extra>\",\"legendgroup\":\"\",\"marker\":{\"color\":\"#636efa\",\"symbol\":\"circle\"},\"mode\":\"lines\",\"name\":\"\",\"showlegend\":false,\"x\":[85.0,95.0,153.0,158.0,195.0,211.0,287.0,334.0,345.0,389.0,419.0,426.0,438.0,438.0,443.0,475.0,480.0,484.0,492.0,512.0,524.0,552.0,559.0,569.0,573.0,582.0,592.0,593.0,611.0,674.0,701.0,701.0,765.0,776.0,794.0,797.0,801.0,809.0,858.0,868.0,874.0,907.0,916.0,977.0,1007.0,1019.0,1038.0,1041.0,1041.0,1055.0,1064.0,1147.0,1159.0,1186.0,1189.0,1197.0,1219.0,1227.0,1235.0,1279.0,1283.0,1294.0,1314.0,1327.0,1349.0,1367.0,1409.0,1464.0,1473.0,1475.0,1530.0,1540.0,1546.0,1574.0,1608.0,1643.0,1653.0,1654.0,1680.0,1685.0,1693.0,1700.0,1753.0,1753.0,1781.0,1799.0,1815.0,1830.0,1858.0,1871.0,1876.0,1890.0,1905.0,1929.0,1986.0,1986.0,1987.0,2024.0,2048.0,2054.0,2090.0,2128.0,2177.0,2206.0,2216.0,2218.0,2236.0,2261.0,2268.0,2272.0,2299.0,2302.0,2310.0,2310.0,2346.0,2352.0,2354.0,2358.0,2372.0,2374.0,2375.0,2384.0,2471.0,2475.0,2487.0,2520.0,2523.0,2543.0,2548.0,2572.0,2588.0,2620.0,2625.0,2627.0,2628.0,2666.0,2668.0,2700.0,2713.0,2750.0,2764.0,2767.0,2773.0,2775.0,2776.0,2793.0,2824.0,2849.0,2857.0,2860.0,2898.0,2912.0,2941.0,2957.0,2992.0,2993.0,3000.0,3012.0,3014.0,3014.0,3028.0,3033.0,3034.0,3034.0,3040.0,3068.0,3073.0,3074.0,3080.0,3083.0,3108.0,3113.0,3114.0,3119.0,3124.0,3136.0,3150.0,3153.0,3188.0,3188.0,3193.0,3209.0,3211.0,3228.0,3265.0,3313.0,3320.0,3345.0,3386.0,3390.0,3396.0,3410.0,3419.0,3427.0,3431.0,3446.0,3465.0,3490.0,3498.0,3542.0,3549.0,3567.0,3581.0,3581.0,3583.0,3620.0,3626.0,3629.0,3710.0,3722.0,3738.0,3776.0,3799.0,3810.0,3821.0,3848.0,3912.0,3912.0,3916.0,3927.0,3962.0,3963.0,3974.0,3993.0,3996.0,3998.0,4025.0,4082.0,4090.0,4090.0,4116.0,4127.0,4177.0,4187.0,4193.0,4213.0,4240.0,4255.0,4280.0,4280.0,4281.0,4291.0,4304.0,4341.0,4409.0,4421.0,4442.0,4511.0,4542.0,4580.0,4588.0,4590.0,4593.0,4601.0,4631.0,4653.0,4698.0,4702.0,4723.0,4767.0,4807.0,4814.0,4820.0,4850.0,4891.0,4943.0,4963.0,4977.0,4987.0,5004.0,5063.0,5067.0,5069.0,5103.0,5161.0,5201.0,5243.0,5291.0,5297.0,5366.0,5366.0,5373.0,5387.0,5393.0,5429.0,5439.0,5450.0,5505.0,5506.0,5512.0,5638.0,5641.0,5658.0,5699.0,5733.0,5742.0,5742.0,5745.0,5751.0,5784.0,5788.0,5824.0,5942.0,5972.0,6043.0,6047.0,6122.0,6185.0,6215.0,6298.0,6306.0,6308.0,6311.0,6347.0,6380.0,6423.0,6424.0,6435.0,6445.0,6522.0,6553.0,6713.0,6721.0,6722.0,6735.0,6737.0,6779.0,6804.0,6846.0,6853.0,6873.0,6963.0,6969.0,7006.0,7141.0,7193.0,7202.0,7298.0,7319.0,7388.0,7390.0,7479.0,7539.0,7584.0,7594.0,7599.0,7616.0,7620.0,7647.0,7794.0,7796.0,7796.0,7826.0,7828.0,7894.0,7950.0,8003.0,8041.0,8070.0,8109.0,8173.0,8223.0,8243.0,8251.0,8272.0,8288.0,8316.0,8352.0,8367.0,8421.0,8441.0,8506.0,8560.0,8601.0,8648.0,8735.0,8741.0,8742.0,8751.0,8885.0,8886.0,8909.0,8945.0,8966.0,8967.0,8993.0,8995.0,9096.0,9101.0,9246.0,9282.0,9333.0,9359.0,9382.0,9559.0,9562.0,9647.0,9679.0,9704.0,9712.0,9751.0,9870.0,9949.0,10134.0,10206.0,10220.0,10712.0,11125.0,11191.0,11260.0,11265.0,11430.0,11534.0,11894.0,11913.0,12025.0,12242.0,12481.0,12509.0,12604.0,12816.0,12856.0,12977.0,12983.0,13123.0,13839.0,13996.0,14007.0,14011.0,14110.0,14163.0,14205.0,14763.0,14853.0,15037.0,15413.0,15777.0,15905.0,16823.0,16980.0,17161.0,17445.0,17765.0,17937.0,18796.0],\"xaxis\":\"x\",\"y\":[-5.151239074447986,8.152653477723632,85.31523028031899,91.96717655640481,141.19157899943977,162.47780708291438,263.5873904794187,326.11568547462525,340.74996728201404,399.2870945115691,439.1987721680839,448.511496954604,464.47616801720994,464.47616801720994,471.12811429329577,513.700570460245,520.3525167363307,525.6740737571994,536.3171877989367,562.9249729032799,578.8896439658859,616.1405431119664,625.4532678984865,638.7571604506581,644.0787174715267,656.0522207684812,669.3561133206529,670.68650257587,694.6335091697789,778.4480322484601,814.3685421393234,814.3685421393234,899.5134544732217,914.1477362806106,938.0947428745194,942.0859106401708,947.4074676610396,958.050581702777,1023.2396552084178,1036.5435477605895,1044.5258832918923,1088.4287287140587,1100.4022320110132,1181.55597657926,1221.467654235775,1237.4323252983809,1262.7097211475068,1266.7008889131582,1266.7008889131582,1285.3263384861987,1297.299841783153,1407.7221499661775,1423.6868210287835,1459.6073309196468,1463.5984986852982,1474.2416127270355,1503.5101763418131,1514.1532903835503,1524.7964044252876,1583.3335316548428,1588.6550886757113,1603.2893704831001,1629.8971555874434,1647.1922159052665,1676.460779520044,1700.4077861139529,1756.2841348330737,1829.4555438700177,1841.4290471669722,1844.0898256774065,1917.2612347143502,1930.5651272665218,1938.5474627978247,1975.7983619439055,2021.0315966212888,2067.5952205538897,2080.899113106061,2082.2295023612783,2116.8196229969244,2123.47156927301,2134.1146833147477,2143.4274081012677,2213.938038627777,2213.938038627777,2251.188937773858,2275.1359443677666,2296.4221724512413,2316.378011279499,2353.6289104255793,2370.923970743402,2377.5759170194883,2396.2013665925283,2416.157205420786,2448.0865475459977,2523.9187350933757,2523.9187350933757,2525.249124348593,2574.473526791628,2606.40286891684,2614.3852044481428,2662.279217635961,2712.8340093342126,2778.023082839854,2816.6043712411515,2829.908263793323,2832.569042303757,2856.516048897666,2889.775780278095,2899.088505064615,2904.4100620854842,2940.3305719763475,2944.321739741999,2954.964853783736,2954.964853783736,3002.858866971554,3010.841202502857,3013.5019810132912,3018.82353803416,3037.4489876072003,3040.1097661176345,3041.4401553728517,3053.413658669806,3169.157523873699,3174.4790808945677,3190.443751957174,3234.34659737934,3238.3377651449914,3264.9455502493347,3271.5974965254204,3303.5268386506327,3324.813066734107,3367.3855229010564,3374.037469177142,3376.6982476875764,3378.0286369427936,3428.583428641046,3431.24420715148,3473.816663318429,3491.1117236362525,3540.336126079287,3558.9615756523276,3562.952743417979,3570.935078949282,3573.595857459716,3574.9262467149333,3597.542864053625,3638.784930965357,3672.044662345786,3682.6877763875236,3686.678944153175,3737.2337358514274,3755.8591854244673,3794.440473825765,3815.7267019092396,3862.2903258418405,3863.6207150970577,3872.9334398835776,3888.8981109461834,3891.558889456618,3891.558889456618,3910.184339029658,3916.836285305744,3918.166674560961,3918.166674560961,3926.1490100922642,3963.3999092383447,3970.0518555144304,3971.3822447696475,3979.3645803009504,3983.3557480666022,4016.6154794470312,4023.2674257231165,4024.597814978334,4031.2497612544203,4037.9017075305055,4053.866378593111,4072.491828166152,4076.482995931803,4123.0466198644035,4123.0466198644035,4129.69856614049,4150.984794223964,4153.645572734398,4176.26219007309,4225.486592516126,4289.345276766549,4298.658001553069,4331.917732933498,4386.463692397402,4391.785249418271,4399.767584949574,4418.393034522614,4430.366537819568,4441.009651861305,4446.331208882174,4466.287047710432,4491.564443559558,4524.824174939987,4535.467288981724,4594.004416211279,4603.3171409977995,4627.264147591708,4645.889597164748,4645.889597164748,4648.550375675182,4697.774778118218,4705.757113649521,4709.748281415172,4817.5098110877625,4833.474482150368,4854.7607102338425,4905.315501932095,4935.9144548020895,4950.5487366094785,4965.1830184168675,5001.103528307731,5086.248440641629,5086.248440641629,5091.569997662497,5106.204279469886,5152.767903402487,5154.098292657704,5168.7325744650925,5194.009970314219,5198.0011380798705,5200.661916590305,5236.582426481168,5312.414614028547,5323.057728070284,5323.057728070284,5357.647848705929,5372.282130513318,5438.801593274176,5452.105485826348,5460.087821357652,5486.695606461994,5522.616116352858,5542.571955181115,5575.831686561544,5575.831686561544,5577.162075816761,5590.465968368933,5607.761028686756,5656.985431129791,5747.451900484558,5763.416571547164,5791.354745906724,5883.151604516708,5924.393671428441,5974.948463126692,5985.59157716843,5988.252355678865,5992.243523444516,6002.886637486253,6042.798315142768,6072.066878757545,6131.934395242318,6137.255952263186,6165.194126622747,6223.731253852302,6276.946824060989,6286.259548847508,6294.241884378812,6334.153562035326,6388.69952149923,6457.879762770523,6484.487547874865,6503.112997447905,6516.416890000078,6539.03350733877,6617.526473396581,6622.84803041745,6625.508808927884,6670.742043605268,6747.904620407863,6801.12019061655,6856.996539335671,6920.855223586094,6928.837559117397,7020.634417727381,7020.634417727381,7029.947142513902,7048.572592086942,7056.554927618245,7104.448940806063,7117.752833358234,7132.387115165623,7205.558524202567,7206.888913457784,7214.871248989087,7382.500295146449,7386.491462912101,7409.108080250793,7463.654039714696,7508.88727439208,7520.860777689034,7520.860777689034,7524.851945454686,7532.834280985989,7576.737126408155,7582.058683429023,7629.952696616841,7786.938628732467,7826.850306388981,7921.3079435094,7926.629500530268,8026.408694671556,8110.2232177502365,8150.134895406752,8260.557203589777,8271.200317631514,8273.861096141949,8277.8522639076,8325.746277095417,8369.649122517585,8426.855860491922,8428.18624974714,8442.820531554527,8456.1244241067,8558.564396758422,8599.806463670153,8812.6687445049,8823.311858546636,8824.642247801854,8841.937308119677,8844.59808663011,8900.474435349231,8933.73416672966,8989.610515448781,8998.9232402353,9025.531025339646,9145.26605830919,9153.248393840493,9202.472796283528,9382.075345737843,9451.255587009136,9463.229090306091,9590.946458806939,9618.884633166499,9710.681491776482,9713.342270286917,9831.746914001245,9911.570269314274,9971.437785799046,9984.741678351218,9991.393624627304,10014.010241965996,10019.331798986865,10055.252308877727,10250.81952939465,10253.480307905085,10253.480307905085,10293.3919855616,10296.052764072034,10383.858454916366,10458.360253208528,10528.870883735037,10579.42567543329,10618.006963834587,10669.892144788057,10755.037057121956,10821.556519882814,10848.164304987156,10858.807419028893,10886.745593388454,10908.031821471928,10945.282720618008,10993.176733805827,11013.132572634084,11084.97359241581,11111.581377520153,11198.05667910927,11269.897698890996,11324.4436583549,11386.971953350107,11502.715818554,11510.698154085303,11512.028543340519,11524.002046637474,11702.274206836573,11703.60459609179,11734.203548961785,11782.097562149604,11810.035736509164,11811.366125764382,11845.956246400026,11848.617024910462,11982.986339687395,11989.638285963481,12182.54472796997,12230.438741157786,12298.288593173862,12332.878713809509,12363.477666679502,12598.95656485294,12602.947732618592,12716.03081931205,12758.603275479,12791.863006859428,12802.506120901166,12854.391301854635,13012.707623225479,13117.808374387634,13363.930386602808,13459.718412978444,13478.343862551485,14132.895376118327,14682.346138523015,14770.151829367347,14861.948687977332,14868.600634253418,15088.114861364249,15226.475343906834,15705.415475785012,15730.692871634139,15879.69646821846,16168.390936600585,16486.353968597487,16523.60486774357,16649.991846989196,16932.034369095236,16985.24993930392,17146.2270391852,17154.2093747165,17340.463870446903,18293.02257718239,18501.893690251487,18516.527972058873,18521.849529079744,18653.558065346242,18724.068695872753,18779.945044591874,19522.30224900305,19642.037281972593,19886.82890493255,20387.055264894203,20871.31695379325,21041.606778461046,22262.9041147504,22471.775227819497,22712.5756830138,23090.406231495475,23516.130793164968,23744.95774506232,24887.76211529386],\"yaxis\":\"y\",\"type\":\"scatter\"}],                        {\"template\":{\"data\":{\"bar\":[{\"error_x\":{\"color\":\"#2a3f5f\"},\"error_y\":{\"color\":\"#2a3f5f\"},\"marker\":{\"line\":{\"color\":\"#E5ECF6\",\"width\":0.5},\"pattern\":{\"fillmode\":\"overlay\",\"size\":10,\"solidity\":0.2}},\"type\":\"bar\"}],\"barpolar\":[{\"marker\":{\"line\":{\"color\":\"#E5ECF6\",\"width\":0.5},\"pattern\":{\"fillmode\":\"overlay\",\"size\":10,\"solidity\":0.2}},\"type\":\"barpolar\"}],\"carpet\":[{\"aaxis\":{\"endlinecolor\":\"#2a3f5f\",\"gridcolor\":\"white\",\"linecolor\":\"white\",\"minorgridcolor\":\"white\",\"startlinecolor\":\"#2a3f5f\"},\"baxis\":{\"endlinecolor\":\"#2a3f5f\",\"gridcolor\":\"white\",\"linecolor\":\"white\",\"minorgridcolor\":\"white\",\"startlinecolor\":\"#2a3f5f\"},\"type\":\"carpet\"}],\"choropleth\":[{\"colorbar\":{\"outlinewidth\":0,\"ticks\":\"\"},\"type\":\"choropleth\"}],\"contour\":[{\"colorbar\":{\"outlinewidth\":0,\"ticks\":\"\"},\"colorscale\":[[0.0,\"#0d0887\"],[0.1111111111111111,\"#46039f\"],[0.2222222222222222,\"#7201a8\"],[0.3333333333333333,\"#9c179e\"],[0.4444444444444444,\"#bd3786\"],[0.5555555555555556,\"#d8576b\"],[0.6666666666666666,\"#ed7953\"],[0.7777777777777778,\"#fb9f3a\"],[0.8888888888888888,\"#fdca26\"],[1.0,\"#f0f921\"]],\"type\":\"contour\"}],\"contourcarpet\":[{\"colorbar\":{\"outlinewidth\":0,\"ticks\":\"\"},\"type\":\"contourcarpet\"}],\"heatmap\":[{\"colorbar\":{\"outlinewidth\":0,\"ticks\":\"\"},\"colorscale\":[[0.0,\"#0d0887\"],[0.1111111111111111,\"#46039f\"],[0.2222222222222222,\"#7201a8\"],[0.3333333333333333,\"#9c179e\"],[0.4444444444444444,\"#bd3786\"],[0.5555555555555556,\"#d8576b\"],[0.6666666666666666,\"#ed7953\"],[0.7777777777777778,\"#fb9f3a\"],[0.8888888888888888,\"#fdca26\"],[1.0,\"#f0f921\"]],\"type\":\"heatmap\"}],\"heatmapgl\":[{\"colorbar\":{\"outlinewidth\":0,\"ticks\":\"\"},\"colorscale\":[[0.0,\"#0d0887\"],[0.1111111111111111,\"#46039f\"],[0.2222222222222222,\"#7201a8\"],[0.3333333333333333,\"#9c179e\"],[0.4444444444444444,\"#bd3786\"],[0.5555555555555556,\"#d8576b\"],[0.6666666666666666,\"#ed7953\"],[0.7777777777777778,\"#fb9f3a\"],[0.8888888888888888,\"#fdca26\"],[1.0,\"#f0f921\"]],\"type\":\"heatmapgl\"}],\"histogram\":[{\"marker\":{\"pattern\":{\"fillmode\":\"overlay\",\"size\":10,\"solidity\":0.2}},\"type\":\"histogram\"}],\"histogram2d\":[{\"colorbar\":{\"outlinewidth\":0,\"ticks\":\"\"},\"colorscale\":[[0.0,\"#0d0887\"],[0.1111111111111111,\"#46039f\"],[0.2222222222222222,\"#7201a8\"],[0.3333333333333333,\"#9c179e\"],[0.4444444444444444,\"#bd3786\"],[0.5555555555555556,\"#d8576b\"],[0.6666666666666666,\"#ed7953\"],[0.7777777777777778,\"#fb9f3a\"],[0.8888888888888888,\"#fdca26\"],[1.0,\"#f0f921\"]],\"type\":\"histogram2d\"}],\"histogram2dcontour\":[{\"colorbar\":{\"outlinewidth\":0,\"ticks\":\"\"},\"colorscale\":[[0.0,\"#0d0887\"],[0.1111111111111111,\"#46039f\"],[0.2222222222222222,\"#7201a8\"],[0.3333333333333333,\"#9c179e\"],[0.4444444444444444,\"#bd3786\"],[0.5555555555555556,\"#d8576b\"],[0.6666666666666666,\"#ed7953\"],[0.7777777777777778,\"#fb9f3a\"],[0.8888888888888888,\"#fdca26\"],[1.0,\"#f0f921\"]],\"type\":\"histogram2dcontour\"}],\"mesh3d\":[{\"colorbar\":{\"outlinewidth\":0,\"ticks\":\"\"},\"type\":\"mesh3d\"}],\"parcoords\":[{\"line\":{\"colorbar\":{\"outlinewidth\":0,\"ticks\":\"\"}},\"type\":\"parcoords\"}],\"pie\":[{\"automargin\":true,\"type\":\"pie\"}],\"scatter\":[{\"marker\":{\"colorbar\":{\"outlinewidth\":0,\"ticks\":\"\"}},\"type\":\"scatter\"}],\"scatter3d\":[{\"line\":{\"colorbar\":{\"outlinewidth\":0,\"ticks\":\"\"}},\"marker\":{\"colorbar\":{\"outlinewidth\":0,\"ticks\":\"\"}},\"type\":\"scatter3d\"}],\"scattercarpet\":[{\"marker\":{\"colorbar\":{\"outlinewidth\":0,\"ticks\":\"\"}},\"type\":\"scattercarpet\"}],\"scattergeo\":[{\"marker\":{\"colorbar\":{\"outlinewidth\":0,\"ticks\":\"\"}},\"type\":\"scattergeo\"}],\"scattergl\":[{\"marker\":{\"colorbar\":{\"outlinewidth\":0,\"ticks\":\"\"}},\"type\":\"scattergl\"}],\"scattermapbox\":[{\"marker\":{\"colorbar\":{\"outlinewidth\":0,\"ticks\":\"\"}},\"type\":\"scattermapbox\"}],\"scatterpolar\":[{\"marker\":{\"colorbar\":{\"outlinewidth\":0,\"ticks\":\"\"}},\"type\":\"scatterpolar\"}],\"scatterpolargl\":[{\"marker\":{\"colorbar\":{\"outlinewidth\":0,\"ticks\":\"\"}},\"type\":\"scatterpolargl\"}],\"scatterternary\":[{\"marker\":{\"colorbar\":{\"outlinewidth\":0,\"ticks\":\"\"}},\"type\":\"scatterternary\"}],\"surface\":[{\"colorbar\":{\"outlinewidth\":0,\"ticks\":\"\"},\"colorscale\":[[0.0,\"#0d0887\"],[0.1111111111111111,\"#46039f\"],[0.2222222222222222,\"#7201a8\"],[0.3333333333333333,\"#9c179e\"],[0.4444444444444444,\"#bd3786\"],[0.5555555555555556,\"#d8576b\"],[0.6666666666666666,\"#ed7953\"],[0.7777777777777778,\"#fb9f3a\"],[0.8888888888888888,\"#fdca26\"],[1.0,\"#f0f921\"]],\"type\":\"surface\"}],\"table\":[{\"cells\":{\"fill\":{\"color\":\"#EBF0F8\"},\"line\":{\"color\":\"white\"}},\"header\":{\"fill\":{\"color\":\"#C8D4E3\"},\"line\":{\"color\":\"white\"}},\"type\":\"table\"}]},\"layout\":{\"annotationdefaults\":{\"arrowcolor\":\"#2a3f5f\",\"arrowhead\":0,\"arrowwidth\":1},\"autotypenumbers\":\"strict\",\"coloraxis\":{\"colorbar\":{\"outlinewidth\":0,\"ticks\":\"\"}},\"colorscale\":{\"diverging\":[[0,\"#8e0152\"],[0.1,\"#c51b7d\"],[0.2,\"#de77ae\"],[0.3,\"#f1b6da\"],[0.4,\"#fde0ef\"],[0.5,\"#f7f7f7\"],[0.6,\"#e6f5d0\"],[0.7,\"#b8e186\"],[0.8,\"#7fbc41\"],[0.9,\"#4d9221\"],[1,\"#276419\"]],\"sequential\":[[0.0,\"#0d0887\"],[0.1111111111111111,\"#46039f\"],[0.2222222222222222,\"#7201a8\"],[0.3333333333333333,\"#9c179e\"],[0.4444444444444444,\"#bd3786\"],[0.5555555555555556,\"#d8576b\"],[0.6666666666666666,\"#ed7953\"],[0.7777777777777778,\"#fb9f3a\"],[0.8888888888888888,\"#fdca26\"],[1.0,\"#f0f921\"]],\"sequentialminus\":[[0.0,\"#0d0887\"],[0.1111111111111111,\"#46039f\"],[0.2222222222222222,\"#7201a8\"],[0.3333333333333333,\"#9c179e\"],[0.4444444444444444,\"#bd3786\"],[0.5555555555555556,\"#d8576b\"],[0.6666666666666666,\"#ed7953\"],[0.7777777777777778,\"#fb9f3a\"],[0.8888888888888888,\"#fdca26\"],[1.0,\"#f0f921\"]]},\"colorway\":[\"#636efa\",\"#EF553B\",\"#00cc96\",\"#ab63fa\",\"#FFA15A\",\"#19d3f3\",\"#FF6692\",\"#B6E880\",\"#FF97FF\",\"#FECB52\"],\"font\":{\"color\":\"#2a3f5f\"},\"geo\":{\"bgcolor\":\"white\",\"lakecolor\":\"white\",\"landcolor\":\"#E5ECF6\",\"showlakes\":true,\"showland\":true,\"subunitcolor\":\"white\"},\"hoverlabel\":{\"align\":\"left\"},\"hovermode\":\"closest\",\"mapbox\":{\"style\":\"light\"},\"paper_bgcolor\":\"white\",\"plot_bgcolor\":\"#E5ECF6\",\"polar\":{\"angularaxis\":{\"gridcolor\":\"white\",\"linecolor\":\"white\",\"ticks\":\"\"},\"bgcolor\":\"#E5ECF6\",\"radialaxis\":{\"gridcolor\":\"white\",\"linecolor\":\"white\",\"ticks\":\"\"}},\"scene\":{\"xaxis\":{\"backgroundcolor\":\"#E5ECF6\",\"gridcolor\":\"white\",\"gridwidth\":2,\"linecolor\":\"white\",\"showbackground\":true,\"ticks\":\"\",\"zerolinecolor\":\"white\"},\"yaxis\":{\"backgroundcolor\":\"#E5ECF6\",\"gridcolor\":\"white\",\"gridwidth\":2,\"linecolor\":\"white\",\"showbackground\":true,\"ticks\":\"\",\"zerolinecolor\":\"white\"},\"zaxis\":{\"backgroundcolor\":\"#E5ECF6\",\"gridcolor\":\"white\",\"gridwidth\":2,\"linecolor\":\"white\",\"showbackground\":true,\"ticks\":\"\",\"zerolinecolor\":\"white\"}},\"shapedefaults\":{\"line\":{\"color\":\"#2a3f5f\"}},\"ternary\":{\"aaxis\":{\"gridcolor\":\"white\",\"linecolor\":\"white\",\"ticks\":\"\"},\"baxis\":{\"gridcolor\":\"white\",\"linecolor\":\"white\",\"ticks\":\"\"},\"bgcolor\":\"#E5ECF6\",\"caxis\":{\"gridcolor\":\"white\",\"linecolor\":\"white\",\"ticks\":\"\"}},\"title\":{\"x\":0.05},\"xaxis\":{\"automargin\":true,\"gridcolor\":\"white\",\"linecolor\":\"white\",\"ticks\":\"\",\"title\":{\"standoff\":15},\"zerolinecolor\":\"white\",\"zerolinewidth\":2},\"yaxis\":{\"automargin\":true,\"gridcolor\":\"white\",\"linecolor\":\"white\",\"ticks\":\"\",\"title\":{\"standoff\":15},\"zerolinecolor\":\"white\",\"zerolinewidth\":2}}},\"xaxis\":{\"anchor\":\"y\",\"domain\":[0.0,1.0],\"title\":{\"text\":\"PageViewsTotal\"}},\"yaxis\":{\"anchor\":\"x\",\"domain\":[0.0,1.0],\"title\":{\"text\":\"OrderedProductSales\"}},\"legend\":{\"tracegroupgap\":0},\"title\":{\"text\":\"Relationship between Total Page Views & Ordered Product Sales\"}},                        {\"responsive\": true}                    ).then(function(){\n",
              "                            \n",
              "var gd = document.getElementById('57d87b89-7ead-4553-9531-2d6c12872742');\n",
              "var x = new MutationObserver(function (mutations, observer) {{\n",
              "        var display = window.getComputedStyle(gd).display;\n",
              "        if (!display || display === 'none') {{\n",
              "            console.log([gd, 'removed!']);\n",
              "            Plotly.purge(gd);\n",
              "            observer.disconnect();\n",
              "        }}\n",
              "}});\n",
              "\n",
              "// Listen for the removal of the full notebook cells\n",
              "var notebookContainer = gd.closest('#notebook-container');\n",
              "if (notebookContainer) {{\n",
              "    x.observe(notebookContainer, {childList: true});\n",
              "}}\n",
              "\n",
              "// Listen for the clearing of the current output cell\n",
              "var outputEl = gd.closest('.output');\n",
              "if (outputEl) {{\n",
              "    x.observe(outputEl, {childList: true});\n",
              "}}\n",
              "\n",
              "                        })                };                            </script>        </div>\n",
              "</body>\n",
              "</html>"
            ]
          },
          "metadata": {}
        },
        {
          "output_type": "display_data",
          "data": {
            "text/html": [
              "<html>\n",
              "<head><meta charset=\"utf-8\" /></head>\n",
              "<body>\n",
              "    <div>            <script src=\"https://cdnjs.cloudflare.com/ajax/libs/mathjax/2.7.5/MathJax.js?config=TeX-AMS-MML_SVG\"></script><script type=\"text/javascript\">if (window.MathJax) {MathJax.Hub.Config({SVG: {font: \"STIX-Web\"}});}</script>                <script type=\"text/javascript\">window.PlotlyConfig = {MathJaxConfig: 'local'};</script>\n",
              "        <script src=\"https://cdn.plot.ly/plotly-2.8.3.min.js\"></script>                <div id=\"c4033783-65dc-4845-a24d-3ca67d89a506\" class=\"plotly-graph-div\" style=\"height:525px; width:100%;\"></div>            <script type=\"text/javascript\">                                    window.PLOTLYENV=window.PLOTLYENV || {};                                    if (document.getElementById(\"c4033783-65dc-4845-a24d-3ca67d89a506\")) {                    Plotly.newPlot(                        \"c4033783-65dc-4845-a24d-3ca67d89a506\",                        [{\"hovertemplate\":\"SessionsTotal=%{x}<br>OrderedProductSales=%{y}<extra></extra>\",\"legendgroup\":\"\",\"marker\":{\"color\":\"#636efa\",\"symbol\":\"circle\"},\"mode\":\"markers\",\"name\":\"\",\"orientation\":\"v\",\"showlegend\":false,\"x\":[11745.0,11145.0,13729.0,11416.0,11404.0,13047.0,6864.0,9440.0,7622.0,8948.0,10060.0,9975.0,8598.0,9186.0,8584.0,6271.0,7906.0,9576.0,10015.0,11772.0,6293.0,8337.0,9997.0,8893.0,8685.0,6156.0,13097.0,6676.0,10406.0,10797.0,5717.0,9829.0,5803.0,8436.0,11736.0,6354.0,8195.0,6956.0,6384.0,6357.0,6627.0,6017.0,6062.0,5403.0,6429.0,10936.0,12630.0,5495.0,4403.0,7559.0,11621.0,6955.0,7786.0,6830.0,5271.0,6427.0,6907.0,4806.0,4945.0,6284.0,8371.0,5340.0,6970.0,5144.0,6850.0,4550.0,6230.0,9687.0,5166.0,5459.0,6172.0,11490.0,5989.0,5093.0,9893.0,5608.0,4301.0,6262.0,6084.0,4840.0,6923.0,7594.0,4698.0,6047.0,4487.0,10258.0,6695.0,6703.0,4602.0,4124.0,5021.0,7038.0,4387.0,5093.0,4157.0,5856.0,4801.0,9954.0,4665.0,4618.0,5884.0,4156.0,3947.0,3811.0,3028.0,7205.0,4104.0,8230.0,8193.0,6005.0,6048.0,4815.0,5329.0,3436.0,4381.0,5253.0,5588.0,4862.0,5290.0,5112.0,5762.0,3323.0,3150.0,3659.0,4559.0,4072.0,6766.0,4739.0,6862.0,4174.0,3732.0,3131.0,5365.0,3832.0,4176.0,7112.0,3769.0,5201.0,5089.0,4041.0,3039.0,3936.0,4280.0,3330.0,4271.0,4331.0,3666.0,3688.0,3629.0,4227.0,4255.0,5744.0,4719.0,7477.0,6705.0,3056.0,3865.0,5641.0,6641.0,6792.0,6699.0,4849.0,3242.0,3028.0,3222.0,3467.0,3786.0,2602.0,3733.0,3302.0,3404.0,2730.0,3859.0,3284.0,2431.0,3080.0,2603.0,2908.0,4834.0,5321.0,4637.0,3530.0,2987.0,2635.0,2287.0,6255.0,2458.0,3219.0,6118.0,5999.0,2866.0,3874.0,2626.0,4342.0,2729.0,2424.0,4085.0,2537.0,3574.0,4001.0,5243.0,5175.0,3702.0,3033.0,5741.0,2385.0,4453.0,3213.0,1977.0,3388.0,5228.0,2443.0,2299.0,8815.0,3761.0,2325.0,3642.0,3012.0,2323.0,2679.0,3164.0,6357.0,2975.0,3158.0,2543.0,2753.0,3295.0,1915.0,2732.0,2506.0,2597.0,3976.0,4146.0,2270.0,5911.0,2524.0,1817.0,2998.0,2298.0,3531.0,1984.0,3162.0,2416.0,2134.0,2369.0,3700.0,2458.0,2379.0,2189.0,2657.0,3069.0,1802.0,2277.0,2363.0,2971.0,3288.0,2562.0,4335.0,2370.0,2796.0,3571.0,1941.0,1796.0,5392.0,2489.0,2310.0,2385.0,2125.0,2849.0,3064.0,2183.0,1959.0,1618.0,1998.0,2188.0,2708.0,2116.0,2115.0,1689.0,2001.0,2055.0,1517.0,2840.0,2084.0,2655.0,1996.0,1258.0,2261.0,2901.0,1413.0,1877.0,2382.0,1777.0,1679.0,2130.0,1617.0,1758.0,1335.0,3056.0,1974.0,2193.0,1979.0,1749.0,1848.0,3093.0,2864.0,1197.0,1877.0,2079.0,2818.0,1459.0,2213.0,1138.0,1970.0,2203.0,1548.0,1812.0,1701.0,2977.0,2344.0,1558.0,1603.0,2467.0,2280.0,3838.0,3701.0,4066.0,2023.0,1689.0,1712.0,1671.0,2769.0,1352.0,3089.0,1945.0,2724.0,2031.0,1230.0,2183.0,1327.0,1132.0,1973.0,3209.0,1314.0,1852.0,1961.0,1269.0,2367.0,1279.0,1419.0,2882.0,1580.0,1808.0,1182.0,1046.0,1158.0,1026.0,2508.0,2427.0,1477.0,2217.0,1635.0,985.0,1782.0,1499.0,1385.0,1078.0,944.0,1495.0,3558.0,781.0,1347.0,928.0,1117.0,804.0,931.0,1909.0,893.0,2918.0,789.0,999.0,857.0,3031.0,1517.0,800.0,994.0,616.0,677.0,791.0,647.0,1067.0,636.0,1097.0,731.0,527.0,1008.0,586.0,816.0,704.0,706.0,960.0,1306.0,640.0,441.0,4381.0,1225.0,1369.0,1620.0,471.0,2406.0,448.0,622.0,408.0,656.0,461.0,442.0,1207.0,445.0,344.0,316.0,400.0,961.0,352.0,344.0,1030.0,155.0,400.0,462.0,481.0,379.0,408.0,555.0,564.0,348.0,406.0,720.0,288.0,131.0,242.0,76.0,161.0,133.0,370.0,306.0,67.0],\"xaxis\":\"x\",\"y\":[22413.11,19485.88,20232.8,19677.64,20389.73,19059.56,24822.26,16414.54,16200.77,16275.0,16461.03,16441.62,16119.55,23131.61,15725.36,14558.42,20897.16,15639.73,23080.6,22983.01,14443.05,14732.22,14439.91,14218.77,14118.34,13718.5,20497.14,13062.0,20153.88,19850.96,12754.45,12393.15,15449.87,19953.72,19927.29,12001.04,18491.22,14928.54,14638.58,11910.66,11547.94,11606.72,11444.71,11659.44,13712.3,20145.27,18557.41,11046.66,11108.55,10510.29,16014.27,16465.23,10516.44,12860.05,10531.8,10127.83,15918.01,10321.39,10357.66,15212.53,19910.12,10016.63,15947.91,10028.82,11637.11,9796.87,15180.57,18694.69,10150.93,9902.29,9660.11,18613.45,9743.17,9727.99,17257.38,14411.69,9393.14,9202.71,9468.42,9437.33,8468.29,17937.95,9270.51,9111.93,9205.19,17335.62,9020.83,9079.57,11171.52,8807.01,8964.98,9041.33,8947.61,8885.12,10587.39,13136.91,8581.52,16315.25,8313.63,8270.5,8235.95,8073.44,8187.1,8345.46,7818.84,7910.25,8026.5,8155.76,14843.82,12111.05,12678.26,11279.09,8966.58,7509.23,7592.7,12174.52,9449.77,7637.07,11050.18,7342.37,6607.31,7343.86,7277.67,7425.55,6624.77,7377.79,11342.07,7088.52,16282.6,8834.27,7208.8,6947.21,10685.63,7377.78,6574.56,13220.41,6885.47,6974.33,7041.61,7139.65,6714.71,6685.37,6668.05,6591.47,9856.79,5798.64,6367.37,6509.45,9538.35,6179.63,6105.61,11857.09,7643.13,11590.47,13211.48,6033.68,5974.49,9006.07,13291.08,12499.8,10446.0,10820.65,6795.95,5624.71,5515.29,5441.33,5604.77,5528.58,6595.12,5474.76,5101.42,5352.5,5197.76,5384.31,5196.78,5246.02,5179.33,5223.0,5142.58,10157.48,9692.81,8519.82,5067.98,5146.27,5171.3,9213.4,4896.74,5035.52,9120.01,7459.41,4970.79,11389.03,4896.46,5954.7,4812.5,4900.59,4914.81,5127.07,4688.18,7189.2,10408.38,9062.75,6890.4,6003.49,8922.81,4736.96,4741.11,5877.34,5151.16,4460.12,7527.54,4699.5,4509.95,8416.08,4411.3,4656.77,6919.24,4474.69,4446.52,4023.24,4444.68,9529.88,4508.56,4421.3,4411.04,4295.45,4396.69,4443.63,4309.92,4366.88,4307.71,6210.13,7116.09,4196.6,23507.47,4215.91,4350.52,4194.43,3950.94,4319.15,4136.33,4047.61,4001.81,3989.68,3925.03,4838.35,3903.1,4005.21,3847.62,3986.65,3644.09,3796.63,3941.26,4011.51,6200.38,3686.04,3702.0,5209.82,3841.9,4021.79,3759.6,3554.0,3705.61,8904.06,3658.76,3659.61,3743.42,3597.76,3522.4,3514.04,3494.87,3450.59,3563.6,3539.58,3484.49,3431.5,3417.47,3356.46,3277.04,3167.53,4883.48,3216.29,4443.57,3135.29,4951.49,3201.12,3304.37,3042.16,4766.26,3040.58,3127.13,3052.04,2678.3,2930.33,4927.89,2969.89,2947.85,2878.25,5672.93,2831.33,2770.29,2799.63,2776.37,4283.08,5385.11,4329.06,2743.52,3060.63,4111.21,2787.07,2724.11,2739.76,2699.06,2536.62,3112.55,3269.34,2307.71,2709.06,2550.6,2473.37,2478.4,3005.1,3789.58,2942.36,5415.64,4631.67,3524.67,2334.56,2346.55,2334.35,2332.96,4656.84,2254.53,3054.79,2128.73,4807.97,3348.98,2144.5,2098.2,2181.41,2143.66,3278.98,4669.67,2076.87,4018.15,2018.13,2035.28,3869.16,2095.46,1978.91,1915.58,3010.34,1887.96,1888.73,1907.89,1841.85,1960.31,3983.45,3380.53,1697.4,3442.65,3104.71,1604.72,2374.72,1577.74,1606.38,1619.71,1614.81,2439.88,1556.92,1667.51,2120.93,1434.87,1413.12,2158.03,1385.57,1328.31,1292.8,2923.05,1249.11,1205.5,1182.85,1834.82,1036.05,1283.42,1144.89,1108.16,1120.13,1089.81,1085.23,1515.52,1052.51,1549.57,1575.57,1116.54,964.68,951.66,969.15,925.14,937.0,899.19,1384.77,844.33,844.37,800.47,1588.86,1441.89,1467.95,745.62,1879.06,538.67,535.34,476.06,460.06,460.03,655.42,683.43,424.92,391.38,364.48,625.49,674.49,341.99,530.55,689.55,277.05,312.35,521.61,270.42,198.72,187.65,629.77,314.81,366.81,389.85,239.85,194.87,86.77,124.89,135.92,119.92,42.96,14.98,13.98,11.99],\"yaxis\":\"y\",\"type\":\"scatter\"},{\"hovertemplate\":\"<b>OLS trendline</b><br>OrderedProductSales = 1.81172 * SessionsTotal + -231.624<br>R<sup>2</sup>=0.870890<br><br>SessionsTotal=%{x}<br>OrderedProductSales=%{y} <b>(trend)</b><extra></extra>\",\"legendgroup\":\"\",\"marker\":{\"color\":\"#636efa\",\"symbol\":\"circle\"},\"mode\":\"lines\",\"name\":\"\",\"showlegend\":false,\"x\":[67.0,76.0,131.0,133.0,155.0,161.0,242.0,288.0,306.0,316.0,344.0,344.0,348.0,352.0,370.0,379.0,400.0,400.0,406.0,408.0,408.0,441.0,442.0,445.0,448.0,461.0,462.0,471.0,481.0,527.0,555.0,564.0,586.0,616.0,622.0,636.0,640.0,647.0,656.0,677.0,704.0,706.0,720.0,731.0,781.0,789.0,791.0,800.0,804.0,816.0,857.0,893.0,928.0,931.0,944.0,960.0,961.0,985.0,994.0,999.0,1008.0,1026.0,1030.0,1046.0,1067.0,1078.0,1097.0,1117.0,1132.0,1138.0,1158.0,1182.0,1197.0,1207.0,1225.0,1230.0,1258.0,1269.0,1279.0,1306.0,1314.0,1327.0,1335.0,1347.0,1352.0,1369.0,1385.0,1413.0,1419.0,1459.0,1477.0,1495.0,1499.0,1517.0,1517.0,1548.0,1558.0,1580.0,1603.0,1617.0,1618.0,1620.0,1635.0,1671.0,1679.0,1689.0,1689.0,1701.0,1712.0,1749.0,1758.0,1777.0,1782.0,1796.0,1802.0,1808.0,1812.0,1817.0,1848.0,1852.0,1877.0,1877.0,1909.0,1915.0,1941.0,1945.0,1959.0,1961.0,1970.0,1973.0,1974.0,1977.0,1979.0,1984.0,1996.0,1998.0,2001.0,2023.0,2031.0,2055.0,2079.0,2084.0,2115.0,2116.0,2125.0,2130.0,2134.0,2183.0,2183.0,2188.0,2189.0,2193.0,2203.0,2213.0,2217.0,2261.0,2270.0,2277.0,2280.0,2287.0,2298.0,2299.0,2310.0,2323.0,2325.0,2344.0,2363.0,2367.0,2369.0,2370.0,2379.0,2382.0,2385.0,2385.0,2406.0,2416.0,2424.0,2427.0,2431.0,2443.0,2458.0,2458.0,2467.0,2489.0,2506.0,2508.0,2524.0,2537.0,2543.0,2562.0,2597.0,2602.0,2603.0,2626.0,2635.0,2655.0,2657.0,2679.0,2708.0,2724.0,2729.0,2730.0,2732.0,2753.0,2769.0,2796.0,2818.0,2840.0,2849.0,2864.0,2866.0,2882.0,2901.0,2908.0,2918.0,2971.0,2975.0,2977.0,2987.0,2998.0,3012.0,3028.0,3028.0,3031.0,3033.0,3039.0,3056.0,3056.0,3064.0,3069.0,3080.0,3089.0,3093.0,3131.0,3150.0,3158.0,3162.0,3164.0,3209.0,3213.0,3219.0,3222.0,3242.0,3284.0,3288.0,3295.0,3302.0,3323.0,3330.0,3388.0,3404.0,3436.0,3467.0,3530.0,3531.0,3558.0,3571.0,3574.0,3629.0,3642.0,3659.0,3666.0,3688.0,3700.0,3701.0,3702.0,3732.0,3733.0,3761.0,3769.0,3786.0,3811.0,3832.0,3838.0,3859.0,3865.0,3874.0,3936.0,3947.0,3976.0,4001.0,4041.0,4066.0,4072.0,4085.0,4104.0,4124.0,4146.0,4156.0,4157.0,4174.0,4176.0,4227.0,4255.0,4271.0,4280.0,4301.0,4331.0,4335.0,4342.0,4381.0,4381.0,4387.0,4403.0,4453.0,4487.0,4550.0,4559.0,4602.0,4618.0,4637.0,4665.0,4698.0,4719.0,4739.0,4801.0,4806.0,4815.0,4834.0,4840.0,4849.0,4862.0,4945.0,5021.0,5089.0,5093.0,5093.0,5112.0,5144.0,5166.0,5175.0,5201.0,5228.0,5243.0,5253.0,5271.0,5290.0,5321.0,5329.0,5340.0,5365.0,5392.0,5403.0,5459.0,5495.0,5588.0,5608.0,5641.0,5717.0,5741.0,5744.0,5762.0,5803.0,5856.0,5884.0,5911.0,5989.0,5999.0,6005.0,6017.0,6047.0,6048.0,6062.0,6084.0,6118.0,6156.0,6172.0,6230.0,6255.0,6262.0,6271.0,6284.0,6293.0,6354.0,6357.0,6357.0,6384.0,6427.0,6429.0,6627.0,6641.0,6676.0,6695.0,6699.0,6703.0,6705.0,6766.0,6792.0,6830.0,6850.0,6862.0,6864.0,6907.0,6923.0,6955.0,6956.0,6970.0,7038.0,7112.0,7205.0,7477.0,7559.0,7594.0,7622.0,7786.0,7906.0,8193.0,8195.0,8230.0,8337.0,8371.0,8436.0,8584.0,8598.0,8685.0,8815.0,8893.0,8948.0,9186.0,9440.0,9576.0,9687.0,9829.0,9893.0,9954.0,9975.0,9997.0,10015.0,10060.0,10258.0,10406.0,10797.0,10936.0,11145.0,11404.0,11416.0,11490.0,11621.0,11736.0,11745.0,11772.0,12630.0,13047.0,13097.0,13729.0],\"xaxis\":\"x\",\"y\":[-110.23852340044019,-93.93306361228349,5.711412870896311,9.334848379375586,49.19263897264747,60.06294549808527,206.81208359149556,290.1511002865187,322.76201986283206,340.8791974052284,391.6072945239381,391.6072945239381,398.8541655408967,406.1010365578552,438.71195613416853,455.0174159223253,493.0634887613576,493.0634887613576,503.9337952867953,507.55723079527456,507.55723079527456,567.3439166851825,569.1556344394221,574.590787702141,580.02594096486,603.5782717699751,605.3899895242148,621.6954493123715,639.8126268547678,723.151643549791,773.8797406685006,790.1852004566573,830.0429910499294,884.3945236771182,895.264830202556,920.6288787619109,927.8757497788694,940.5577740585469,956.8632338467036,994.9093066857359,1043.8256860502058,1047.449121558685,1072.81317011804,1092.7420654146758,1183.3279531266576,1197.8216951605746,1201.445130669054,1217.7505904572106,1224.997461474169,1246.7380745250446,1321.0185024488696,1386.2403416014963,1449.6504629998835,1455.0856162626023,1478.6379470677177,1507.6254311355517,1509.4371488897914,1552.9183749915426,1569.2238347796992,1578.2824235508974,1594.587883339054,1627.1988029153677,1634.4456739323261,1663.4331580001601,1701.4792308391925,1721.4081261358285,1755.8307634663815,1792.0651185511742,1819.2408848647688,1830.1111913902064,1866.345546474999,1909.82677257675,1937.0025388903446,1955.119716432741,1987.7306360090543,1996.7892247802524,2047.5173218989626,2067.4462171955984,2085.5633947379947,2134.479774102465,2148.973516136382,2172.525846941497,2187.019588975414,2208.76020202629,2217.818790797488,2248.6179926195614,2277.605476687396,2328.3335738061055,2339.203880331543,2411.6725905011285,2444.283510077442,2476.894429653755,2484.141300670714,2516.7522202470273,2516.7522202470273,2572.9154706284558,2591.032648170852,2630.890438764124,2672.5599471116357,2697.9239956709907,2699.73571342523,2703.3591489337095,2730.534915247304,2795.7567543999307,2810.2504964338477,2828.367673976244,2828.367673976244,2850.10828702712,2870.0371823237556,2937.070739230622,2953.3761990187786,2987.798836349332,2996.85742512053,3022.2214736798846,3033.0917802053227,3043.9620867307603,3051.208957747719,3060.2675465189172,3116.4307969003457,3123.677667917304,3168.970611773295,3168.970611773295,3226.9455799089633,3237.815886434401,3284.9205480446317,3292.16741906159,3317.531467620945,3321.1549031294244,3337.460362917581,3342.8955161802996,3344.7072339345395,3350.1423871972584,3353.7658227057377,3362.824411476936,3384.565024527811,3388.1884600362905,3393.6236132990093,3433.4814038922814,3447.9751459261984,3491.45637202795,3534.9375981297007,3543.996186900899,3600.1594372823274,3601.9711550365673,3618.2766148247238,3627.335203595922,3634.5820746128807,3723.3562445706225,3723.3562445706225,3732.4148333418207,3734.2265510960606,3741.473422113019,3759.590599655415,3777.7077771978115,3784.9546482147703,3864.6702294013144,3880.975689189471,3893.6577134691483,3899.092866731867,3911.7748910115447,3931.70378630818,3933.51550406242,3953.444399359056,3976.9967301641714,3980.6201656726503,4015.042803003204,4049.4654403337568,4056.7123113507155,4060.3357468591944,4062.1474646134343,4078.4529244015907,4083.8880776643095,4089.3232309270284,4089.3232309270284,4127.369303766061,4145.486481308458,4159.980223342374,4165.415376605093,4172.662247622052,4194.402860672928,4221.578626986522,4221.578626986522,4237.8840867746785,4277.741877367951,4308.541079190025,4312.164514698504,4341.151998766338,4364.704329571453,4375.574636096891,4409.997273427444,4473.407394825831,4482.46598359703,4484.277701351269,4525.94720969878,4542.2526694869375,4578.48702457173,4582.110460080209,4621.968250673481,4674.508065546431,4703.495549614265,4712.5541383854625,4714.365856139702,4717.989291648181,4756.035364487214,4785.022848555048,4833.939227919518,4873.79701851279,4913.654809106062,4929.960268894219,4957.136035207813,4960.7594707162925,4989.7469547841265,5024.169592114679,5036.851616394357,5054.968793936753,5150.989834911454,5158.236705928412,5161.860141436891,5179.977318979288,5199.906214275924,5225.270262835279,5254.257746903113,5254.257746903113,5259.692900165832,5263.316335674311,5274.186642199748,5304.985844021822,5304.985844021822,5319.47958605574,5328.538174826937,5348.467070123574,5364.77252991173,5372.019400928689,5440.864675589795,5475.287312920348,5489.7810549542655,5497.027925971223,5500.651361479703,5582.178660420486,5589.425531437445,5600.295837962883,5605.730991225601,5641.965346310394,5718.057491988458,5725.304363005417,5737.986387285095,5750.668411564772,5788.714484403805,5801.396508683482,5906.476138429381,5935.463622497215,5993.438590632883,6049.6018410143115,6163.740059531408,6165.551777285648,6214.4681566501185,6238.020487455234,6243.4556407179525,6343.100117201132,6366.652448006247,6397.451649828321,6410.133674107999,6449.99146470127,6471.732077752146,6473.543795506385,6475.355513260625,6529.707045887814,6531.518763642054,6582.246860760763,6596.740602794681,6627.539804616755,6672.832748472745,6710.878821311778,6721.749127837215,6759.795200676248,6770.665507201686,6786.970966989842,6899.297467752699,6919.226363049335,6971.766177922284,7017.059121778276,7089.527831947861,7134.820775803852,7145.691082329289,7169.243413134404,7203.666050464958,7239.900405549751,7279.758196143022,7297.875373685419,7299.687091439659,7330.486293261732,7334.109728770211,7426.507334236432,7477.235431355142,7506.222915422976,7522.528375211133,7560.574448050165,7614.925980677354,7622.172851694313,7634.854875973991,7705.511868389336,7705.511868389336,7716.382174914774,7745.369658982608,7835.955546694589,7897.553950338737,8011.692168855833,8027.997628643991,8105.901492076296,8134.888976144129,8169.311613474682,8220.039710593392,8279.826396483299,8317.87246932233,8354.106824407123,8466.43332516998,8475.49191394118,8491.797373729336,8526.220011059888,8537.090317585327,8553.395777373484,8576.948108178598,8727.320681780488,8865.0112311027,8988.208038390994,8995.454909407954,8995.454909407954,9029.877546738506,9087.852514874176,9127.710305467446,9144.015765255603,9191.120426865835,9240.036806230304,9267.212572543898,9285.329750086295,9317.940669662608,9352.363306993162,9408.52655737459,9423.020299408507,9442.949194705143,9488.242138561134,9537.158517925604,9557.08741322224,9658.54360745966,9723.765446612286,9892.255197756573,9928.489552841365,9988.276238731272,10125.966788053485,10169.448014155236,10174.883167417955,10207.494086994267,10281.774514918094,10377.795555892793,10428.523653011503,10477.440032375973,10618.754017206664,10636.871194749061,10647.741501274499,10669.482114325374,10723.833646952564,10725.645364706803,10751.009413266158,10790.86720385943,10852.465607503576,10921.310882164684,10950.298366232517,11055.377995978417,11100.670939834406,11113.352964114085,11129.658423902241,11153.210754707356,11169.516214495512,11280.030997504131,11285.46615076685,11285.46615076685,11334.382530131319,11412.286393563623,11415.909829072103,11774.62994441155,11799.993992970905,11863.404114369292,11897.826751699846,11905.073622716804,11912.320493733763,11915.943929242241,12026.45871225086,12073.56337386109,12142.408648522196,12178.643003606989,12200.383616657864,12204.007052166344,12281.910915598648,12310.898399666481,12368.873367802149,12370.68508555639,12396.049134115745,12519.245941404039,12653.313055217772,12821.802806362059,13314.590035515239,13463.150891362888,13526.561012761274,13577.289109879985,13874.410821575284,14091.81695208404,14611.779947550815,14615.403383059294,14678.813504457681,14872.667304161323,14934.265707805469,15052.027361831046,15320.161589458512,15345.525638017867,15503.145082636715,15738.668390687866,15879.982375518559,15979.626852001738,16410.81567751077,16870.99198708764,17117.385601664228,17318.486272384827,17575.750193486856,17691.700129758192,17802.21491276681,17840.260985605844,17880.118776199113,17912.72969577543,17994.256994716212,18352.977110055657,18621.111337683124,19329.49297959082,19581.32174743013,19959.970758066214,20429.205656414277,20450.946269465152,20585.013383278885,20822.34840908428,21030.695950821835,21047.00141060999,21095.91778997446,22650.371623112067,23405.857926629993,23496.443814341976,24641.449435021423],\"yaxis\":\"y\",\"type\":\"scatter\"}],                        {\"template\":{\"data\":{\"bar\":[{\"error_x\":{\"color\":\"#2a3f5f\"},\"error_y\":{\"color\":\"#2a3f5f\"},\"marker\":{\"line\":{\"color\":\"#E5ECF6\",\"width\":0.5},\"pattern\":{\"fillmode\":\"overlay\",\"size\":10,\"solidity\":0.2}},\"type\":\"bar\"}],\"barpolar\":[{\"marker\":{\"line\":{\"color\":\"#E5ECF6\",\"width\":0.5},\"pattern\":{\"fillmode\":\"overlay\",\"size\":10,\"solidity\":0.2}},\"type\":\"barpolar\"}],\"carpet\":[{\"aaxis\":{\"endlinecolor\":\"#2a3f5f\",\"gridcolor\":\"white\",\"linecolor\":\"white\",\"minorgridcolor\":\"white\",\"startlinecolor\":\"#2a3f5f\"},\"baxis\":{\"endlinecolor\":\"#2a3f5f\",\"gridcolor\":\"white\",\"linecolor\":\"white\",\"minorgridcolor\":\"white\",\"startlinecolor\":\"#2a3f5f\"},\"type\":\"carpet\"}],\"choropleth\":[{\"colorbar\":{\"outlinewidth\":0,\"ticks\":\"\"},\"type\":\"choropleth\"}],\"contour\":[{\"colorbar\":{\"outlinewidth\":0,\"ticks\":\"\"},\"colorscale\":[[0.0,\"#0d0887\"],[0.1111111111111111,\"#46039f\"],[0.2222222222222222,\"#7201a8\"],[0.3333333333333333,\"#9c179e\"],[0.4444444444444444,\"#bd3786\"],[0.5555555555555556,\"#d8576b\"],[0.6666666666666666,\"#ed7953\"],[0.7777777777777778,\"#fb9f3a\"],[0.8888888888888888,\"#fdca26\"],[1.0,\"#f0f921\"]],\"type\":\"contour\"}],\"contourcarpet\":[{\"colorbar\":{\"outlinewidth\":0,\"ticks\":\"\"},\"type\":\"contourcarpet\"}],\"heatmap\":[{\"colorbar\":{\"outlinewidth\":0,\"ticks\":\"\"},\"colorscale\":[[0.0,\"#0d0887\"],[0.1111111111111111,\"#46039f\"],[0.2222222222222222,\"#7201a8\"],[0.3333333333333333,\"#9c179e\"],[0.4444444444444444,\"#bd3786\"],[0.5555555555555556,\"#d8576b\"],[0.6666666666666666,\"#ed7953\"],[0.7777777777777778,\"#fb9f3a\"],[0.8888888888888888,\"#fdca26\"],[1.0,\"#f0f921\"]],\"type\":\"heatmap\"}],\"heatmapgl\":[{\"colorbar\":{\"outlinewidth\":0,\"ticks\":\"\"},\"colorscale\":[[0.0,\"#0d0887\"],[0.1111111111111111,\"#46039f\"],[0.2222222222222222,\"#7201a8\"],[0.3333333333333333,\"#9c179e\"],[0.4444444444444444,\"#bd3786\"],[0.5555555555555556,\"#d8576b\"],[0.6666666666666666,\"#ed7953\"],[0.7777777777777778,\"#fb9f3a\"],[0.8888888888888888,\"#fdca26\"],[1.0,\"#f0f921\"]],\"type\":\"heatmapgl\"}],\"histogram\":[{\"marker\":{\"pattern\":{\"fillmode\":\"overlay\",\"size\":10,\"solidity\":0.2}},\"type\":\"histogram\"}],\"histogram2d\":[{\"colorbar\":{\"outlinewidth\":0,\"ticks\":\"\"},\"colorscale\":[[0.0,\"#0d0887\"],[0.1111111111111111,\"#46039f\"],[0.2222222222222222,\"#7201a8\"],[0.3333333333333333,\"#9c179e\"],[0.4444444444444444,\"#bd3786\"],[0.5555555555555556,\"#d8576b\"],[0.6666666666666666,\"#ed7953\"],[0.7777777777777778,\"#fb9f3a\"],[0.8888888888888888,\"#fdca26\"],[1.0,\"#f0f921\"]],\"type\":\"histogram2d\"}],\"histogram2dcontour\":[{\"colorbar\":{\"outlinewidth\":0,\"ticks\":\"\"},\"colorscale\":[[0.0,\"#0d0887\"],[0.1111111111111111,\"#46039f\"],[0.2222222222222222,\"#7201a8\"],[0.3333333333333333,\"#9c179e\"],[0.4444444444444444,\"#bd3786\"],[0.5555555555555556,\"#d8576b\"],[0.6666666666666666,\"#ed7953\"],[0.7777777777777778,\"#fb9f3a\"],[0.8888888888888888,\"#fdca26\"],[1.0,\"#f0f921\"]],\"type\":\"histogram2dcontour\"}],\"mesh3d\":[{\"colorbar\":{\"outlinewidth\":0,\"ticks\":\"\"},\"type\":\"mesh3d\"}],\"parcoords\":[{\"line\":{\"colorbar\":{\"outlinewidth\":0,\"ticks\":\"\"}},\"type\":\"parcoords\"}],\"pie\":[{\"automargin\":true,\"type\":\"pie\"}],\"scatter\":[{\"marker\":{\"colorbar\":{\"outlinewidth\":0,\"ticks\":\"\"}},\"type\":\"scatter\"}],\"scatter3d\":[{\"line\":{\"colorbar\":{\"outlinewidth\":0,\"ticks\":\"\"}},\"marker\":{\"colorbar\":{\"outlinewidth\":0,\"ticks\":\"\"}},\"type\":\"scatter3d\"}],\"scattercarpet\":[{\"marker\":{\"colorbar\":{\"outlinewidth\":0,\"ticks\":\"\"}},\"type\":\"scattercarpet\"}],\"scattergeo\":[{\"marker\":{\"colorbar\":{\"outlinewidth\":0,\"ticks\":\"\"}},\"type\":\"scattergeo\"}],\"scattergl\":[{\"marker\":{\"colorbar\":{\"outlinewidth\":0,\"ticks\":\"\"}},\"type\":\"scattergl\"}],\"scattermapbox\":[{\"marker\":{\"colorbar\":{\"outlinewidth\":0,\"ticks\":\"\"}},\"type\":\"scattermapbox\"}],\"scatterpolar\":[{\"marker\":{\"colorbar\":{\"outlinewidth\":0,\"ticks\":\"\"}},\"type\":\"scatterpolar\"}],\"scatterpolargl\":[{\"marker\":{\"colorbar\":{\"outlinewidth\":0,\"ticks\":\"\"}},\"type\":\"scatterpolargl\"}],\"scatterternary\":[{\"marker\":{\"colorbar\":{\"outlinewidth\":0,\"ticks\":\"\"}},\"type\":\"scatterternary\"}],\"surface\":[{\"colorbar\":{\"outlinewidth\":0,\"ticks\":\"\"},\"colorscale\":[[0.0,\"#0d0887\"],[0.1111111111111111,\"#46039f\"],[0.2222222222222222,\"#7201a8\"],[0.3333333333333333,\"#9c179e\"],[0.4444444444444444,\"#bd3786\"],[0.5555555555555556,\"#d8576b\"],[0.6666666666666666,\"#ed7953\"],[0.7777777777777778,\"#fb9f3a\"],[0.8888888888888888,\"#fdca26\"],[1.0,\"#f0f921\"]],\"type\":\"surface\"}],\"table\":[{\"cells\":{\"fill\":{\"color\":\"#EBF0F8\"},\"line\":{\"color\":\"white\"}},\"header\":{\"fill\":{\"color\":\"#C8D4E3\"},\"line\":{\"color\":\"white\"}},\"type\":\"table\"}]},\"layout\":{\"annotationdefaults\":{\"arrowcolor\":\"#2a3f5f\",\"arrowhead\":0,\"arrowwidth\":1},\"autotypenumbers\":\"strict\",\"coloraxis\":{\"colorbar\":{\"outlinewidth\":0,\"ticks\":\"\"}},\"colorscale\":{\"diverging\":[[0,\"#8e0152\"],[0.1,\"#c51b7d\"],[0.2,\"#de77ae\"],[0.3,\"#f1b6da\"],[0.4,\"#fde0ef\"],[0.5,\"#f7f7f7\"],[0.6,\"#e6f5d0\"],[0.7,\"#b8e186\"],[0.8,\"#7fbc41\"],[0.9,\"#4d9221\"],[1,\"#276419\"]],\"sequential\":[[0.0,\"#0d0887\"],[0.1111111111111111,\"#46039f\"],[0.2222222222222222,\"#7201a8\"],[0.3333333333333333,\"#9c179e\"],[0.4444444444444444,\"#bd3786\"],[0.5555555555555556,\"#d8576b\"],[0.6666666666666666,\"#ed7953\"],[0.7777777777777778,\"#fb9f3a\"],[0.8888888888888888,\"#fdca26\"],[1.0,\"#f0f921\"]],\"sequentialminus\":[[0.0,\"#0d0887\"],[0.1111111111111111,\"#46039f\"],[0.2222222222222222,\"#7201a8\"],[0.3333333333333333,\"#9c179e\"],[0.4444444444444444,\"#bd3786\"],[0.5555555555555556,\"#d8576b\"],[0.6666666666666666,\"#ed7953\"],[0.7777777777777778,\"#fb9f3a\"],[0.8888888888888888,\"#fdca26\"],[1.0,\"#f0f921\"]]},\"colorway\":[\"#636efa\",\"#EF553B\",\"#00cc96\",\"#ab63fa\",\"#FFA15A\",\"#19d3f3\",\"#FF6692\",\"#B6E880\",\"#FF97FF\",\"#FECB52\"],\"font\":{\"color\":\"#2a3f5f\"},\"geo\":{\"bgcolor\":\"white\",\"lakecolor\":\"white\",\"landcolor\":\"#E5ECF6\",\"showlakes\":true,\"showland\":true,\"subunitcolor\":\"white\"},\"hoverlabel\":{\"align\":\"left\"},\"hovermode\":\"closest\",\"mapbox\":{\"style\":\"light\"},\"paper_bgcolor\":\"white\",\"plot_bgcolor\":\"#E5ECF6\",\"polar\":{\"angularaxis\":{\"gridcolor\":\"white\",\"linecolor\":\"white\",\"ticks\":\"\"},\"bgcolor\":\"#E5ECF6\",\"radialaxis\":{\"gridcolor\":\"white\",\"linecolor\":\"white\",\"ticks\":\"\"}},\"scene\":{\"xaxis\":{\"backgroundcolor\":\"#E5ECF6\",\"gridcolor\":\"white\",\"gridwidth\":2,\"linecolor\":\"white\",\"showbackground\":true,\"ticks\":\"\",\"zerolinecolor\":\"white\"},\"yaxis\":{\"backgroundcolor\":\"#E5ECF6\",\"gridcolor\":\"white\",\"gridwidth\":2,\"linecolor\":\"white\",\"showbackground\":true,\"ticks\":\"\",\"zerolinecolor\":\"white\"},\"zaxis\":{\"backgroundcolor\":\"#E5ECF6\",\"gridcolor\":\"white\",\"gridwidth\":2,\"linecolor\":\"white\",\"showbackground\":true,\"ticks\":\"\",\"zerolinecolor\":\"white\"}},\"shapedefaults\":{\"line\":{\"color\":\"#2a3f5f\"}},\"ternary\":{\"aaxis\":{\"gridcolor\":\"white\",\"linecolor\":\"white\",\"ticks\":\"\"},\"baxis\":{\"gridcolor\":\"white\",\"linecolor\":\"white\",\"ticks\":\"\"},\"bgcolor\":\"#E5ECF6\",\"caxis\":{\"gridcolor\":\"white\",\"linecolor\":\"white\",\"ticks\":\"\"}},\"title\":{\"x\":0.05},\"xaxis\":{\"automargin\":true,\"gridcolor\":\"white\",\"linecolor\":\"white\",\"ticks\":\"\",\"title\":{\"standoff\":15},\"zerolinecolor\":\"white\",\"zerolinewidth\":2},\"yaxis\":{\"automargin\":true,\"gridcolor\":\"white\",\"linecolor\":\"white\",\"ticks\":\"\",\"title\":{\"standoff\":15},\"zerolinecolor\":\"white\",\"zerolinewidth\":2}}},\"xaxis\":{\"anchor\":\"y\",\"domain\":[0.0,1.0],\"title\":{\"text\":\"SessionsTotal\"}},\"yaxis\":{\"anchor\":\"x\",\"domain\":[0.0,1.0],\"title\":{\"text\":\"OrderedProductSales\"}},\"legend\":{\"tracegroupgap\":0},\"title\":{\"text\":\"Relationship between Sessions Total & Ordered Product Sales\"}},                        {\"responsive\": true}                    ).then(function(){\n",
              "                            \n",
              "var gd = document.getElementById('c4033783-65dc-4845-a24d-3ca67d89a506');\n",
              "var x = new MutationObserver(function (mutations, observer) {{\n",
              "        var display = window.getComputedStyle(gd).display;\n",
              "        if (!display || display === 'none') {{\n",
              "            console.log([gd, 'removed!']);\n",
              "            Plotly.purge(gd);\n",
              "            observer.disconnect();\n",
              "        }}\n",
              "}});\n",
              "\n",
              "// Listen for the removal of the full notebook cells\n",
              "var notebookContainer = gd.closest('#notebook-container');\n",
              "if (notebookContainer) {{\n",
              "    x.observe(notebookContainer, {childList: true});\n",
              "}}\n",
              "\n",
              "// Listen for the clearing of the current output cell\n",
              "var outputEl = gd.closest('.output');\n",
              "if (outputEl) {{\n",
              "    x.observe(outputEl, {childList: true});\n",
              "}}\n",
              "\n",
              "                        })                };                            </script>        </div>\n",
              "</body>\n",
              "</html>"
            ]
          },
          "metadata": {}
        }
      ]
    },
    {
      "cell_type": "markdown",
      "source": [
        "The relationship between Sessions and Sales is practically identical to that of Page Views and Sales. This futhers the point that the two metrics are intertwined and Ann Clark should be considering both, session for topline and pageviews for conversion."
      ],
      "metadata": {
        "id": "PKaG9Xz0rGBE"
      }
    },
    {
      "cell_type": "code",
      "source": [
        "price_per = data_no['OrderedProductSales'] / data_no['UnitsOrdered']\n",
        "\n",
        "fig_pp = px.scatter(data_frame = data_no, x=price_per,\n",
        "                    y='UnitsOrdered',\n",
        "                    title=\"Relationship between the Price & Units Ordered\")\n",
        "fig_pp.show()\n"
      ],
      "metadata": {
        "colab": {
          "base_uri": "https://localhost:8080/",
          "height": 542
        },
        "id": "qsbFubYare7k",
        "outputId": "1738374d-032c-4279-8977-5164699c5c76"
      },
      "execution_count": null,
      "outputs": [
        {
          "output_type": "display_data",
          "data": {
            "text/html": [
              "<html>\n",
              "<head><meta charset=\"utf-8\" /></head>\n",
              "<body>\n",
              "    <div>            <script src=\"https://cdnjs.cloudflare.com/ajax/libs/mathjax/2.7.5/MathJax.js?config=TeX-AMS-MML_SVG\"></script><script type=\"text/javascript\">if (window.MathJax) {MathJax.Hub.Config({SVG: {font: \"STIX-Web\"}});}</script>                <script type=\"text/javascript\">window.PlotlyConfig = {MathJaxConfig: 'local'};</script>\n",
              "        <script src=\"https://cdn.plot.ly/plotly-2.8.3.min.js\"></script>                <div id=\"6443266e-9988-490d-8682-7cbf8cd503f8\" class=\"plotly-graph-div\" style=\"height:525px; width:100%;\"></div>            <script type=\"text/javascript\">                                    window.PLOTLYENV=window.PLOTLYENV || {};                                    if (document.getElementById(\"6443266e-9988-490d-8682-7cbf8cd503f8\")) {                    Plotly.newPlot(                        \"6443266e-9988-490d-8682-7cbf8cd503f8\",                        [{\"hovertemplate\":\"x=%{x}<br>UnitsOrdered=%{y}<extra></extra>\",\"legendgroup\":\"\",\"marker\":{\"color\":\"#636efa\",\"symbol\":\"circle\"},\"mode\":\"markers\",\"name\":\"\",\"orientation\":\"v\",\"showlegend\":false,\"x\":[7.106249207355739,6.782415593456318,7.106708816297857,6.904435087719298,7.126784341139461,7.087973224246932,10.025145395799676,6.592184738955823,7.043813043478261,7.128777923784494,6.992790994052676,7.026333333333333,6.954076790336496,10.303612472160356,6.878985126859143,6.548996851102114,9.542082191780821,7.144691640018273,10.830877522290004,11.060158806544754,6.960506024096385,7.099865060240964,7.019888186679631,7.098736894658013,6.999672781358453,7.1154045643153525,10.84504761904762,6.708782742681048,10.80057877813505,10.63254418853776,7.109503901895207,6.9938769751693,8.72381140598532,11.668842105263158,11.66020479812756,7.026370023419204,11.193232445520582,8.9876821192053,8.877246816252274,7.05190053285968,7.062960244648318,7.090238240684178,7.0952944823310595,7.109414634146342,8.345891661594644,12.717973484848486,11.835082908163265,7.1918359375,7.23212890625,6.715840255591055,10.64778590425532,11.102650033715442,6.973766578249337,8.665801886792453,7.025883922615076,7.023460471567268,11.031191961191961,7.167631944444444,7.094287671232877,10.64557732680196,14.100651558073654,6.980229965156794,11.358910256410256,7.0825,8.282640569395019,7.048107913669066,10.88993543758967,13.46879682997118,7.1535799859055675,7.154833815028902,7.1082487122884475,13.747008862629247,7.101435860058309,7.013691420331651,12.926876404494383,10.976153846153846,7.089162264150943,7.046485451761102,7.092449438202247,7.085082582582583,6.3290657698056805,13.78781706379708,7.012488653555219,7.0199768875192605,7.214098746081505,13.682415153906867,6.960516975308642,7.1100783085356305,8.915818036711892,6.9510734017363855,7.0590393700787395,6.797992481203007,7.215814516129033,7.062893481717012,8.815478767693588,11.12354784081287,7.133433083956775,13.838210347752332,7.039483488569009,6.932523051131601,7.124524221453288,7.075758106923751,7.094540727902946,6.919950248756218,7.037659765976597,7.050133689839572,7.078042328042328,6.91752332485157,13.63068870523416,11.010045454545454,11.685032258064517,10.328836996336996,8.248923643054278,6.933730378578024,7.122607879924953,11.356828358208956,8.923295561850804,7.01936580882353,10.676502415458938,6.680955414012739,6.33490891658677,7.0886679536679535,7.107099609375,7.065223596574691,6.077770642201835,7.176838521400779,11.364799599198397,7.067318045862414,16.315230460921843,8.914500504540868,7.116288252714709,7.0173838383838385,10.914841675178753,7.467388663967611,6.620906344410876,13.771260416666667,7.1426037344398345,7.066190476190476,6.9512438302073045,6.972314453125,7.158539445628998,7.142489316239316,6.967659352142111,6.887638453500522,10.903528761061947,6.1951282051282055,7.090612472160356,7.371970554926387,10.988882488479263,7.022306818181819,7.099546511627906,13.218606465997771,8.735005714285714,13.684144037780401,15.470117096018734,7.234628297362111,7.129463007159904,10.890048367593712,16.1104,15.318382352941176,12.96029776674938,13.801849489795918,8.559130982367758,7.119886075949367,7.052800511508951,6.94047193877551,6.953808933002482,7.208057366362451,8.553981841763942,7.12859375,6.345049751243781,6.987597911227154,6.958179384203481,7.038313725490196,7.070448979591837,7.0988092016238165,7.037133152173913,7.154794520547945,7.073700137551581,14.088044382801664,13.46223611111111,11.833083333333333,7.078184357541899,7.177503486750349,7.064617486338798,13.105832147937411,6.819972144846797,7.032849162011174,13.065916905444126,10.641098430813123,7.090998573466476,16.340071736011478,7.065598845598846,8.605057803468208,7.0358187134502925,7.238685376661743,7.051377331420373,7.231410437235542,6.914719764011799,10.762275449101796,15.55811659192825,13.689954682779456,10.28417910447761,8.960432835820896,13.539924127465856,7.166354009077156,7.055223214285713,8.694289940828403,7.075769230769231,6.904210526315789,11.725140186915889,7.066917293233082,7.068887147335423,13.295545023696683,6.9034428794992175,7.13134762633997,10.67783950617284,6.959082426127527,7.148745980707396,6.247267080745341,7.100127795527157,15.495739837398373,7.100094488188977,7.119645732689211,6.924709576138148,6.984471544715447,7.219523809523809,7.075843949044586,7.06544262295082,7.266023294509152,6.959143780290792,10.507834179357022,12.143498293515359,7.149233390119251,40.1837094017094,7.097491582491582,7.028303715670437,7.157730375426621,6.895183246073299,7.068985270049099,6.998866328257191,7.039321739130435,7.1080106571936055,7.17568345323741,7.04673249551167,7.867235772357724,7.0326126126126125,7.12670818505338,7.008415300546448,7.0810834813499115,6.786014897579143,7.083264925373134,7.10136936936937,7.000890052356021,11.787794676806083,6.902696629213483,7.078393881453155,9.980498084291186,7.11462962962963,7.06817223198594,7.188527724665391,6.94140625,7.195359223300971,14.315209003215433,7.16,7.078549323017408,7.240657640232109,7.05443137254902,6.961264822134387,7.056305220883534,7.205917525773196,7.085400410677618,7.0011787819253435,6.995217391304347,7.067931034482759,7.119294605809128,7.003012295081967,7.126242038216561,7.0473978494623655,6.870997830802604,10.780309050772626,6.961666666666667,10.030632054176072,7.077404063205417,11.202466063348416,6.974117647058823,7.106172043010752,7.009585253456221,10.710696629213484,7.071116279069767,7.123302961275627,7.032350230414746,6.157011494252874,7.078091787439614,11.931937046004844,7.05437054631829,7.15497572815534,7.003041362530413,13.938402948402949,7.025632754342432,6.960527638190955,7.034246231155779,6.993375314861461,10.870761421319797,13.737525510204081,10.98746192893401,6.998775510204082,7.464951219512195,10.762329842931937,6.985137844611529,6.949260204081633,6.989183673469388,7.1027894736842105,7.0072375690607736,8.718627450980392,8.8122371967655,6.153893333333333,7.243475935828877,7.085,7.066771428571428,7.0209631728045325,8.586,11.016220930232558,8.628621700879766,16.02260355029586,13.867275449101797,10.552904191616767,6.948095238095238,7.198006134969326,7.052416918429003,7.069575757575758,14.644150943396227,7.249292604501608,10.015704918032787,6.956633986928105,15.815690789473685,10.980262295081967,7.172240802675585,7.064646464646464,7.0825,7.145533333333333,10.71562091503268,15.67003355704698,6.969362416107383,14.000522648083624,7.007395833333334,7.091567944250871,13.623802816901408,7.200893470790378,7.196036363636364,7.147686567164179,11.274681647940076,6.840434782608696,7.208893129770993,7.145655430711611,7.029961832061068,7.207022058823529,15.621372549019608,13.686356275303645,7.072500000000001,14.649574468085106,13.498739130434783,7.069251101321586,10.415438596491228,6.981150442477876,6.864871794871795,7.011731601731602,7.373561643835616,11.401308411214954,6.98170403587444,7.25004347826087,10.196778846153846,6.931739130434782,7.136969696969697,10.899141414141415,7.033350253807106,6.91828125,7.064480874316939,14.99,7.1787931034482755,7.218562874251497,7.040773809523809,8.695829383886256,6.356134969325153,7.169944134078213,7.200566037735849,7.103589743589744,7.089430379746836,7.21728476821192,7.139671052631579,10.309659863945578,7.111554054054054,10.760902777777778,11.017972027972027,7.157307692307692,7.041459854014598,7.101940298507462,7.1261029411764705,7.008636363636364,7.045112781954887,7.19352,11.1675,6.977933884297521,7.036416666666667,6.900603448275862,13.816173913043478,12.99,13.98047619047619,7.169423076923077,19.99,6.818607594936708,7.1378666666666675,6.8994202898550725,6.765588235294118,7.077384615384615,11.300344827586207,11.989999999999998,7.326206896551724,7.116,7.009230769230769,12.26450980392157,12.97096153846154,6.979387755102041,11.79,15.323333333333332,6.156666666666667,7.263953488372094,13.374615384615385,7.116315789473685,7.097142857142857,7.217307692307693,27.381304347826084,16.568947368421053,19.30578947368421,25.990000000000002,15.99,14.99,7.230833333333333,11.353636363636364,16.99,14.99,10.74,7.49,6.99,11.99],\"xaxis\":\"x\",\"y\":[3154.0,2873.0,2847.0,2850.0,2861.0,2689.0,2476.0,2490.0,2300.0,2283.0,2354.0,2340.0,2318.0,2245.0,2286.0,2223.0,2190.0,2189.0,2131.0,2078.0,2075.0,2075.0,2057.0,2003.0,2017.0,1928.0,1890.0,1947.0,1866.0,1867.0,1794.0,1772.0,1771.0,1710.0,1709.0,1708.0,1652.0,1661.0,1649.0,1689.0,1635.0,1637.0,1613.0,1640.0,1643.0,1584.0,1568.0,1536.0,1536.0,1565.0,1504.0,1483.0,1508.0,1484.0,1499.0,1442.0,1443.0,1440.0,1460.0,1429.0,1412.0,1435.0,1404.0,1416.0,1405.0,1390.0,1394.0,1388.0,1419.0,1384.0,1359.0,1354.0,1372.0,1387.0,1335.0,1313.0,1325.0,1306.0,1335.0,1332.0,1338.0,1301.0,1322.0,1298.0,1276.0,1267.0,1296.0,1277.0,1253.0,1267.0,1270.0,1330.0,1240.0,1258.0,1201.0,1181.0,1203.0,1179.0,1181.0,1193.0,1156.0,1141.0,1154.0,1206.0,1111.0,1122.0,1134.0,1179.0,1089.0,1100.0,1085.0,1092.0,1087.0,1083.0,1066.0,1072.0,1059.0,1088.0,1035.0,1099.0,1043.0,1036.0,1024.0,1051.0,1090.0,1028.0,998.0,1003.0,998.0,991.0,1013.0,990.0,979.0,988.0,993.0,960.0,964.0,987.0,1013.0,1024.0,938.0,936.0,957.0,957.0,904.0,936.0,898.0,883.0,868.0,880.0,860.0,897.0,875.0,847.0,854.0,834.0,838.0,827.0,825.0,816.0,806.0,784.0,794.0,790.0,782.0,784.0,806.0,767.0,771.0,768.0,804.0,766.0,747.0,765.0,735.0,739.0,736.0,730.0,727.0,721.0,720.0,720.0,716.0,717.0,732.0,703.0,718.0,716.0,698.0,701.0,701.0,697.0,693.0,692.0,684.0,677.0,697.0,709.0,678.0,668.0,669.0,662.0,670.0,670.0,659.0,661.0,672.0,676.0,728.0,646.0,642.0,665.0,638.0,633.0,639.0,653.0,648.0,643.0,622.0,644.0,626.0,615.0,635.0,621.0,637.0,615.0,609.0,628.0,610.0,601.0,619.0,591.0,586.0,587.0,585.0,594.0,619.0,586.0,573.0,611.0,591.0,575.0,563.0,556.0,557.0,615.0,555.0,562.0,549.0,563.0,537.0,536.0,555.0,573.0,526.0,534.0,523.0,522.0,540.0,569.0,523.0,512.0,515.0,622.0,511.0,517.0,517.0,510.0,506.0,498.0,485.0,487.0,509.0,506.0,493.0,482.0,488.0,471.0,465.0,461.0,453.0,462.0,443.0,443.0,442.0,459.0,465.0,434.0,445.0,430.0,439.0,434.0,435.0,414.0,413.0,421.0,412.0,411.0,407.0,403.0,398.0,398.0,397.0,394.0,392.0,394.0,392.0,410.0,382.0,399.0,392.0,392.0,380.0,362.0,357.0,371.0,375.0,374.0,360.0,350.0,353.0,350.0,344.0,341.0,338.0,334.0,334.0,336.0,326.0,331.0,330.0,318.0,311.0,305.0,306.0,304.0,305.0,299.0,297.0,308.0,300.0,306.0,298.0,298.0,287.0,288.0,287.0,284.0,291.0,275.0,268.0,267.0,276.0,262.0,267.0,262.0,272.0,255.0,247.0,240.0,235.0,230.0,227.0,228.0,226.0,234.0,231.0,219.0,214.0,223.0,230.0,208.0,207.0,198.0,198.0,197.0,192.0,183.0,195.0,174.0,167.0,168.0,211.0,163.0,179.0,159.0,156.0,158.0,151.0,152.0,147.0,148.0,144.0,143.0,156.0,137.0,134.0,136.0,132.0,133.0,125.0,124.0,121.0,120.0,116.0,115.0,111.0,105.0,104.0,94.0,79.0,75.0,69.0,68.0,65.0,58.0,57.0,58.0,55.0,52.0,51.0,52.0,49.0,45.0,45.0,45.0,43.0,39.0,38.0,28.0,26.0,23.0,19.0,19.0,15.0,15.0,13.0,12.0,11.0,8.0,8.0,4.0,2.0,2.0,1.0],\"yaxis\":\"y\",\"type\":\"scatter\"}],                        {\"template\":{\"data\":{\"bar\":[{\"error_x\":{\"color\":\"#2a3f5f\"},\"error_y\":{\"color\":\"#2a3f5f\"},\"marker\":{\"line\":{\"color\":\"#E5ECF6\",\"width\":0.5},\"pattern\":{\"fillmode\":\"overlay\",\"size\":10,\"solidity\":0.2}},\"type\":\"bar\"}],\"barpolar\":[{\"marker\":{\"line\":{\"color\":\"#E5ECF6\",\"width\":0.5},\"pattern\":{\"fillmode\":\"overlay\",\"size\":10,\"solidity\":0.2}},\"type\":\"barpolar\"}],\"carpet\":[{\"aaxis\":{\"endlinecolor\":\"#2a3f5f\",\"gridcolor\":\"white\",\"linecolor\":\"white\",\"minorgridcolor\":\"white\",\"startlinecolor\":\"#2a3f5f\"},\"baxis\":{\"endlinecolor\":\"#2a3f5f\",\"gridcolor\":\"white\",\"linecolor\":\"white\",\"minorgridcolor\":\"white\",\"startlinecolor\":\"#2a3f5f\"},\"type\":\"carpet\"}],\"choropleth\":[{\"colorbar\":{\"outlinewidth\":0,\"ticks\":\"\"},\"type\":\"choropleth\"}],\"contour\":[{\"colorbar\":{\"outlinewidth\":0,\"ticks\":\"\"},\"colorscale\":[[0.0,\"#0d0887\"],[0.1111111111111111,\"#46039f\"],[0.2222222222222222,\"#7201a8\"],[0.3333333333333333,\"#9c179e\"],[0.4444444444444444,\"#bd3786\"],[0.5555555555555556,\"#d8576b\"],[0.6666666666666666,\"#ed7953\"],[0.7777777777777778,\"#fb9f3a\"],[0.8888888888888888,\"#fdca26\"],[1.0,\"#f0f921\"]],\"type\":\"contour\"}],\"contourcarpet\":[{\"colorbar\":{\"outlinewidth\":0,\"ticks\":\"\"},\"type\":\"contourcarpet\"}],\"heatmap\":[{\"colorbar\":{\"outlinewidth\":0,\"ticks\":\"\"},\"colorscale\":[[0.0,\"#0d0887\"],[0.1111111111111111,\"#46039f\"],[0.2222222222222222,\"#7201a8\"],[0.3333333333333333,\"#9c179e\"],[0.4444444444444444,\"#bd3786\"],[0.5555555555555556,\"#d8576b\"],[0.6666666666666666,\"#ed7953\"],[0.7777777777777778,\"#fb9f3a\"],[0.8888888888888888,\"#fdca26\"],[1.0,\"#f0f921\"]],\"type\":\"heatmap\"}],\"heatmapgl\":[{\"colorbar\":{\"outlinewidth\":0,\"ticks\":\"\"},\"colorscale\":[[0.0,\"#0d0887\"],[0.1111111111111111,\"#46039f\"],[0.2222222222222222,\"#7201a8\"],[0.3333333333333333,\"#9c179e\"],[0.4444444444444444,\"#bd3786\"],[0.5555555555555556,\"#d8576b\"],[0.6666666666666666,\"#ed7953\"],[0.7777777777777778,\"#fb9f3a\"],[0.8888888888888888,\"#fdca26\"],[1.0,\"#f0f921\"]],\"type\":\"heatmapgl\"}],\"histogram\":[{\"marker\":{\"pattern\":{\"fillmode\":\"overlay\",\"size\":10,\"solidity\":0.2}},\"type\":\"histogram\"}],\"histogram2d\":[{\"colorbar\":{\"outlinewidth\":0,\"ticks\":\"\"},\"colorscale\":[[0.0,\"#0d0887\"],[0.1111111111111111,\"#46039f\"],[0.2222222222222222,\"#7201a8\"],[0.3333333333333333,\"#9c179e\"],[0.4444444444444444,\"#bd3786\"],[0.5555555555555556,\"#d8576b\"],[0.6666666666666666,\"#ed7953\"],[0.7777777777777778,\"#fb9f3a\"],[0.8888888888888888,\"#fdca26\"],[1.0,\"#f0f921\"]],\"type\":\"histogram2d\"}],\"histogram2dcontour\":[{\"colorbar\":{\"outlinewidth\":0,\"ticks\":\"\"},\"colorscale\":[[0.0,\"#0d0887\"],[0.1111111111111111,\"#46039f\"],[0.2222222222222222,\"#7201a8\"],[0.3333333333333333,\"#9c179e\"],[0.4444444444444444,\"#bd3786\"],[0.5555555555555556,\"#d8576b\"],[0.6666666666666666,\"#ed7953\"],[0.7777777777777778,\"#fb9f3a\"],[0.8888888888888888,\"#fdca26\"],[1.0,\"#f0f921\"]],\"type\":\"histogram2dcontour\"}],\"mesh3d\":[{\"colorbar\":{\"outlinewidth\":0,\"ticks\":\"\"},\"type\":\"mesh3d\"}],\"parcoords\":[{\"line\":{\"colorbar\":{\"outlinewidth\":0,\"ticks\":\"\"}},\"type\":\"parcoords\"}],\"pie\":[{\"automargin\":true,\"type\":\"pie\"}],\"scatter\":[{\"marker\":{\"colorbar\":{\"outlinewidth\":0,\"ticks\":\"\"}},\"type\":\"scatter\"}],\"scatter3d\":[{\"line\":{\"colorbar\":{\"outlinewidth\":0,\"ticks\":\"\"}},\"marker\":{\"colorbar\":{\"outlinewidth\":0,\"ticks\":\"\"}},\"type\":\"scatter3d\"}],\"scattercarpet\":[{\"marker\":{\"colorbar\":{\"outlinewidth\":0,\"ticks\":\"\"}},\"type\":\"scattercarpet\"}],\"scattergeo\":[{\"marker\":{\"colorbar\":{\"outlinewidth\":0,\"ticks\":\"\"}},\"type\":\"scattergeo\"}],\"scattergl\":[{\"marker\":{\"colorbar\":{\"outlinewidth\":0,\"ticks\":\"\"}},\"type\":\"scattergl\"}],\"scattermapbox\":[{\"marker\":{\"colorbar\":{\"outlinewidth\":0,\"ticks\":\"\"}},\"type\":\"scattermapbox\"}],\"scatterpolar\":[{\"marker\":{\"colorbar\":{\"outlinewidth\":0,\"ticks\":\"\"}},\"type\":\"scatterpolar\"}],\"scatterpolargl\":[{\"marker\":{\"colorbar\":{\"outlinewidth\":0,\"ticks\":\"\"}},\"type\":\"scatterpolargl\"}],\"scatterternary\":[{\"marker\":{\"colorbar\":{\"outlinewidth\":0,\"ticks\":\"\"}},\"type\":\"scatterternary\"}],\"surface\":[{\"colorbar\":{\"outlinewidth\":0,\"ticks\":\"\"},\"colorscale\":[[0.0,\"#0d0887\"],[0.1111111111111111,\"#46039f\"],[0.2222222222222222,\"#7201a8\"],[0.3333333333333333,\"#9c179e\"],[0.4444444444444444,\"#bd3786\"],[0.5555555555555556,\"#d8576b\"],[0.6666666666666666,\"#ed7953\"],[0.7777777777777778,\"#fb9f3a\"],[0.8888888888888888,\"#fdca26\"],[1.0,\"#f0f921\"]],\"type\":\"surface\"}],\"table\":[{\"cells\":{\"fill\":{\"color\":\"#EBF0F8\"},\"line\":{\"color\":\"white\"}},\"header\":{\"fill\":{\"color\":\"#C8D4E3\"},\"line\":{\"color\":\"white\"}},\"type\":\"table\"}]},\"layout\":{\"annotationdefaults\":{\"arrowcolor\":\"#2a3f5f\",\"arrowhead\":0,\"arrowwidth\":1},\"autotypenumbers\":\"strict\",\"coloraxis\":{\"colorbar\":{\"outlinewidth\":0,\"ticks\":\"\"}},\"colorscale\":{\"diverging\":[[0,\"#8e0152\"],[0.1,\"#c51b7d\"],[0.2,\"#de77ae\"],[0.3,\"#f1b6da\"],[0.4,\"#fde0ef\"],[0.5,\"#f7f7f7\"],[0.6,\"#e6f5d0\"],[0.7,\"#b8e186\"],[0.8,\"#7fbc41\"],[0.9,\"#4d9221\"],[1,\"#276419\"]],\"sequential\":[[0.0,\"#0d0887\"],[0.1111111111111111,\"#46039f\"],[0.2222222222222222,\"#7201a8\"],[0.3333333333333333,\"#9c179e\"],[0.4444444444444444,\"#bd3786\"],[0.5555555555555556,\"#d8576b\"],[0.6666666666666666,\"#ed7953\"],[0.7777777777777778,\"#fb9f3a\"],[0.8888888888888888,\"#fdca26\"],[1.0,\"#f0f921\"]],\"sequentialminus\":[[0.0,\"#0d0887\"],[0.1111111111111111,\"#46039f\"],[0.2222222222222222,\"#7201a8\"],[0.3333333333333333,\"#9c179e\"],[0.4444444444444444,\"#bd3786\"],[0.5555555555555556,\"#d8576b\"],[0.6666666666666666,\"#ed7953\"],[0.7777777777777778,\"#fb9f3a\"],[0.8888888888888888,\"#fdca26\"],[1.0,\"#f0f921\"]]},\"colorway\":[\"#636efa\",\"#EF553B\",\"#00cc96\",\"#ab63fa\",\"#FFA15A\",\"#19d3f3\",\"#FF6692\",\"#B6E880\",\"#FF97FF\",\"#FECB52\"],\"font\":{\"color\":\"#2a3f5f\"},\"geo\":{\"bgcolor\":\"white\",\"lakecolor\":\"white\",\"landcolor\":\"#E5ECF6\",\"showlakes\":true,\"showland\":true,\"subunitcolor\":\"white\"},\"hoverlabel\":{\"align\":\"left\"},\"hovermode\":\"closest\",\"mapbox\":{\"style\":\"light\"},\"paper_bgcolor\":\"white\",\"plot_bgcolor\":\"#E5ECF6\",\"polar\":{\"angularaxis\":{\"gridcolor\":\"white\",\"linecolor\":\"white\",\"ticks\":\"\"},\"bgcolor\":\"#E5ECF6\",\"radialaxis\":{\"gridcolor\":\"white\",\"linecolor\":\"white\",\"ticks\":\"\"}},\"scene\":{\"xaxis\":{\"backgroundcolor\":\"#E5ECF6\",\"gridcolor\":\"white\",\"gridwidth\":2,\"linecolor\":\"white\",\"showbackground\":true,\"ticks\":\"\",\"zerolinecolor\":\"white\"},\"yaxis\":{\"backgroundcolor\":\"#E5ECF6\",\"gridcolor\":\"white\",\"gridwidth\":2,\"linecolor\":\"white\",\"showbackground\":true,\"ticks\":\"\",\"zerolinecolor\":\"white\"},\"zaxis\":{\"backgroundcolor\":\"#E5ECF6\",\"gridcolor\":\"white\",\"gridwidth\":2,\"linecolor\":\"white\",\"showbackground\":true,\"ticks\":\"\",\"zerolinecolor\":\"white\"}},\"shapedefaults\":{\"line\":{\"color\":\"#2a3f5f\"}},\"ternary\":{\"aaxis\":{\"gridcolor\":\"white\",\"linecolor\":\"white\",\"ticks\":\"\"},\"baxis\":{\"gridcolor\":\"white\",\"linecolor\":\"white\",\"ticks\":\"\"},\"bgcolor\":\"#E5ECF6\",\"caxis\":{\"gridcolor\":\"white\",\"linecolor\":\"white\",\"ticks\":\"\"}},\"title\":{\"x\":0.05},\"xaxis\":{\"automargin\":true,\"gridcolor\":\"white\",\"linecolor\":\"white\",\"ticks\":\"\",\"title\":{\"standoff\":15},\"zerolinecolor\":\"white\",\"zerolinewidth\":2},\"yaxis\":{\"automargin\":true,\"gridcolor\":\"white\",\"linecolor\":\"white\",\"ticks\":\"\",\"title\":{\"standoff\":15},\"zerolinecolor\":\"white\",\"zerolinewidth\":2}}},\"xaxis\":{\"anchor\":\"y\",\"domain\":[0.0,1.0],\"title\":{\"text\":\"x\"}},\"yaxis\":{\"anchor\":\"x\",\"domain\":[0.0,1.0],\"title\":{\"text\":\"UnitsOrdered\"}},\"legend\":{\"tracegroupgap\":0},\"title\":{\"text\":\"Relationship between the Price & Units Ordered\"}},                        {\"responsive\": true}                    ).then(function(){\n",
              "                            \n",
              "var gd = document.getElementById('6443266e-9988-490d-8682-7cbf8cd503f8');\n",
              "var x = new MutationObserver(function (mutations, observer) {{\n",
              "        var display = window.getComputedStyle(gd).display;\n",
              "        if (!display || display === 'none') {{\n",
              "            console.log([gd, 'removed!']);\n",
              "            Plotly.purge(gd);\n",
              "            observer.disconnect();\n",
              "        }}\n",
              "}});\n",
              "\n",
              "// Listen for the removal of the full notebook cells\n",
              "var notebookContainer = gd.closest('#notebook-container');\n",
              "if (notebookContainer) {{\n",
              "    x.observe(notebookContainer, {childList: true});\n",
              "}}\n",
              "\n",
              "// Listen for the clearing of the current output cell\n",
              "var outputEl = gd.closest('.output');\n",
              "if (outputEl) {{\n",
              "    x.observe(outputEl, {childList: true});\n",
              "}}\n",
              "\n",
              "                        })                };                            </script>        </div>\n",
              "</body>\n",
              "</html>"
            ]
          },
          "metadata": {}
        }
      ]
    },
    {
      "cell_type": "markdown",
      "source": [
        "Looking at the Price per Unit compared to the Units Ordered there doesn't seem to be a strong linear realationship. This could be due to the fact that some products are the same price, however some are more popular than others."
      ],
      "metadata": {
        "id": "Jkz9S42Ht7QK"
      }
    },
    {
      "cell_type": "code",
      "source": [
        "data_no['Price'] = price_per\n",
        "sorted_price = data_no.sort_values(by='Price', ascending=False) # greatest to least\n",
        "print(sorted_price['Title'].head())\n",
        "print(sorted_price['Price'].head())\n",
        "print(sorted_price['UnitsOrdered'].head())"
      ],
      "metadata": {
        "colab": {
          "base_uri": "https://localhost:8080/"
        },
        "id": "2U0dU-sBywKj",
        "outputId": "e5f45cde-86c1-4c87-bf43-fa00e196c5ed"
      },
      "execution_count": null,
      "outputs": [
        {
          "output_type": "stream",
          "name": "stdout",
          "text": [
            "234    Perfect Cookie Rolling Pin 1/4-in. Fixed Depth...\n",
            "431    Mardi Gras Cookie Decorating Kit, 8-pc. Basic ...\n",
            "434    St. Patrick's Day Cookie Decorating Kit Cookie...\n",
            "409                     Valentine’s Day Sprinkles 5 Pack\n",
            "433    Easter Cookie Decorating Kit Cookie Cutters, F...\n",
            "Name: Title, dtype: object\n",
            "234    40.183709\n",
            "431    27.381304\n",
            "434    25.990000\n",
            "409    19.990000\n",
            "433    19.305789\n",
            "Name: Price, dtype: float64\n",
            "234    585.0\n",
            "431     23.0\n",
            "434     15.0\n",
            "409     94.0\n",
            "433     19.0\n",
            "Name: UnitsOrdered, dtype: float64\n"
          ]
        }
      ]
    },
    {
      "cell_type": "code",
      "source": [
        "sorted_sold = data_no.sort_values(by='UnitsOrdered', ascending=False) # greatest to least\n",
        "print(sorted_sold['Title'].head())\n",
        "print(sorted_sold['Price'].head())\n",
        "print(sorted_sold['UnitsOrdered'].head())"
      ],
      "metadata": {
        "colab": {
          "base_uri": "https://localhost:8080/"
        },
        "id": "_Kn-Qmdw1KBb",
        "outputId": "54169186-72d9-4e6d-a65a-74054c95298d"
      },
      "execution_count": null,
      "outputs": [
        {
          "output_type": "stream",
          "name": "stdout",
          "text": [
            "0                Cute Elephant Cookie Cutter, 4.25\"\n",
            "1    Easter Bunny Cookie Cutter, 4.25\" Made in USA \n",
            "4          Goldfish / Simple Fish Cookie Cutter, 3\"\n",
            "3                Snowman with Hat Cookie Cutter, 4\"\n",
            "2                      Sea Turtle Cookie Cutter, 4\"\n",
            "Name: Title, dtype: object\n",
            "0    7.106249\n",
            "1    6.782416\n",
            "4    7.126784\n",
            "3    6.904435\n",
            "2    7.106709\n",
            "Name: Price, dtype: float64\n",
            "0    3154.0\n",
            "1    2873.0\n",
            "4    2861.0\n",
            "3    2850.0\n",
            "2    2847.0\n",
            "Name: UnitsOrdered, dtype: float64\n"
          ]
        }
      ]
    },
    {
      "cell_type": "markdown",
      "source": [
        "Above you can compare the Price to the Units Ordered. The first section showcases the dataset variables Title, Price, and Units Ordered ordered by Price. The second looks at the same dataset varaibles now ordered by the number of Units Ordered.\n",
        "\n",
        "Note:\n",
        "\n",
        "○ None of the top products are the same.\n",
        "\n",
        "○ The top unit sellers sell at a price between 6.78 - 7.11 dollars and with units being ordered from 2847 - 3154\n",
        "\n",
        "○ The top priced products sell at a price between 19.31 - 40.18 dollars and with units being ordered from 15 - 585"
      ],
      "metadata": {
        "id": "wNKV1tIu3X1y"
      }
    },
    {
      "cell_type": "code",
      "source": [
        "data_no['Price'].describe()"
      ],
      "metadata": {
        "colab": {
          "base_uri": "https://localhost:8080/"
        },
        "id": "vpvmsQaE8Svk",
        "outputId": "76c860b3-6ced-4123-cddd-4dda0594e58b"
      },
      "execution_count": null,
      "outputs": [
        {
          "output_type": "execute_result",
          "data": {
            "text/plain": [
              "count    445.000000\n",
              "mean       8.835955\n",
              "std        3.310676\n",
              "min        6.077771\n",
              "25%        7.034246\n",
              "50%        7.126103\n",
              "75%       10.647786\n",
              "max       40.183709\n",
              "Name: Price, dtype: float64"
            ]
          },
          "metadata": {},
          "execution_count": 113
        }
      ]
    },
    {
      "cell_type": "markdown",
      "source": [
        "The price description above gives you some context."
      ],
      "metadata": {
        "id": "7bhoV87J8xCq"
      }
    }
  ]
}